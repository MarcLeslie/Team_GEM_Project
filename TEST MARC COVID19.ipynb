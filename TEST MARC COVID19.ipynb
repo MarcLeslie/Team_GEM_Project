{
 "cells": [
  {
   "cell_type": "markdown",
   "id": "db83e644",
   "metadata": {},
   "source": [
    "Inpendent Variables:\n",
    "    GDP per capita\n",
    "    Human Development Index (HDI)\n",
    "    Total Population\n",
    "    Transparency Index\n",
    "\n",
    "Dependent Variables:\n",
    "    Total Cases per million\n",
    "    Total Deaths per million\n",
    "    People fully vaccinated per hundred\n",
    "    \n",
    "Other Data Columns:\n",
    "    ISO Code\n",
    "    Continent\n",
    "    Location\n",
    "    Date"
   ]
  },
  {
   "cell_type": "code",
   "execution_count": 1,
   "id": "7c877810",
   "metadata": {},
   "outputs": [],
   "source": [
    "# Dependencies and Setup\n",
    "import matplotlib.pyplot as plt\n",
    "import pandas as pd\n",
    "import scipy.stats as st\n",
    "import numpy as np\n",
    "from scipy.stats import linregress\n",
    "from scipy.stats import pearsonr\n",
    "import gmaps\n",
    "import requests\n",
    "import gmaps.datasets\n",
    "import ipywidgets as widgets\n",
    "import seaborn as sns; sns.set(style='white')\n",
    "import gmaps.geojson_geometries\n",
    "import scipy.stats as stats\n",
    "import warnings\n",
    "warnings.filterwarnings('ignore')\n",
    "from scipy.stats import ttest_ind"
   ]
  },
  {
   "cell_type": "code",
   "execution_count": 2,
   "id": "88c8f419",
   "metadata": {},
   "outputs": [],
   "source": [
    "from configMarc import g_key\n",
    "gmaps.configure(api_key=g_key)"
   ]
  },
  {
   "cell_type": "code",
   "execution_count": 3,
   "id": "75aeef6a",
   "metadata": {},
   "outputs": [],
   "source": [
    "# Study data files\n",
    "owidCovidData = \"Resources/owid-covid-data-20210430.csv\"\n",
    "transparencyData = \"Resources/Transparency Index.csv\"\n",
    "\n",
    "CovidData = pd.read_csv(owidCovidData)\n",
    "Transparency = pd.read_csv(transparencyData)\n",
    "# Transparency"
   ]
  },
  {
   "cell_type": "code",
   "execution_count": 4,
   "id": "94e336b8",
   "metadata": {},
   "outputs": [],
   "source": [
    "# eliminate extra columns\n",
    "CovidClean = CovidData.copy()\n",
    "CovidClean.drop([ 'total_cases', 'new_cases', 'new_cases_smoothed', 'total_deaths', 'new_deaths', 'new_deaths_smoothed', 'new_cases_per_million', \n",
    "                 'new_cases_smoothed_per_million', 'new_deaths_per_million', 'new_deaths_smoothed_per_million', 'reproduction_rate', 'icu_patients', \n",
    "                 'icu_patients_per_million', 'hosp_patients', 'hosp_patients_per_million', 'weekly_icu_admissions', 'weekly_icu_admissions_per_million', \n",
    "                 'weekly_hosp_admissions', 'weekly_hosp_admissions_per_million', 'new_tests', 'total_tests', 'total_tests_per_thousand', \n",
    "                 'new_tests_per_thousand', 'new_tests_smoothed', 'new_tests_smoothed_per_thousand', 'positive_rate', 'tests_per_case', 'tests_units', \n",
    "                 'total_vaccinations', 'people_vaccinated', 'people_fully_vaccinated', 'new_vaccinations', 'new_vaccinations_smoothed', \n",
    "                 'total_vaccinations_per_hundred', 'people_vaccinated_per_hundred', 'new_vaccinations_smoothed_per_million', 'stringency_index',\n",
    "                 'median_age', 'aged_65_older', 'aged_70_older', 'extreme_poverty', 'cardiovasc_death_rate',\n",
    "                 'diabetes_prevalence', 'female_smokers', 'male_smokers', 'handwashing_facilities', 'hospital_beds_per_thousand', 'life_expectancy'],\n",
    "                 axis = 1, inplace = True)\n",
    "\n",
    "\n",
    "# limit to max date\n",
    "CovidClean = CovidClean[CovidClean['date'].isin(['2021-04-27'])]\n",
    "\n",
    "\n",
    "# rename \"Location\" to \"Country\"\n",
    "CovidClean.rename(columns={\"location\":\"Country\"}, inplace=True)\n",
    "\n",
    "# rename everything else for ease\n",
    "CovidClean.rename(columns={\"total_cases_per_million\":\"Cases\", \"total_deaths_per_million\": \"Deaths\", \"people_fully_vaccinated_per_hundred\":\"Vaxxed\", \n",
    "                           \"population\": \"Population\", \"population_density\": \"Density\",\"gdp_per_capita\": \"GDP\", \"human_development_index\": \"HDI\"}, inplace=True)\n",
    "\n",
    "# merge with Transparency (inner join)\n",
    "CovidAll= pd.merge(CovidClean, Transparency, on=[\"Country\"], how=\"inner\")\n",
    "\n",
    "CovidClean\n",
    "CovidAll\n",
    "CovidAll.to_csv(\"Resources/CovidWorkingData.csv\", index = False)\n"
   ]
  },
  {
   "cell_type": "code",
   "execution_count": 5,
   "id": "f471ca9e",
   "metadata": {},
   "outputs": [
    {
     "data": {
      "text/html": [
       "<div>\n",
       "<style scoped>\n",
       "    .dataframe tbody tr th:only-of-type {\n",
       "        vertical-align: middle;\n",
       "    }\n",
       "\n",
       "    .dataframe tbody tr th {\n",
       "        vertical-align: top;\n",
       "    }\n",
       "\n",
       "    .dataframe thead th {\n",
       "        text-align: right;\n",
       "    }\n",
       "</style>\n",
       "<table border=\"1\" class=\"dataframe\">\n",
       "  <thead>\n",
       "    <tr style=\"text-align: right;\">\n",
       "      <th></th>\n",
       "      <th>iso_code</th>\n",
       "      <th>continent</th>\n",
       "      <th>Country</th>\n",
       "      <th>date</th>\n",
       "      <th>Cases</th>\n",
       "      <th>Deaths</th>\n",
       "      <th>Vaxxed</th>\n",
       "      <th>Population</th>\n",
       "      <th>Density</th>\n",
       "      <th>GDP</th>\n",
       "      <th>HDI</th>\n",
       "    </tr>\n",
       "  </thead>\n",
       "  <tbody>\n",
       "    <tr>\n",
       "      <th>428</th>\n",
       "      <td>AFG</td>\n",
       "      <td>Asia</td>\n",
       "      <td>Afghanistan</td>\n",
       "      <td>2021-04-27</td>\n",
       "      <td>1521.385</td>\n",
       "      <td>66.738</td>\n",
       "      <td>NaN</td>\n",
       "      <td>3.892834e+07</td>\n",
       "      <td>54.422</td>\n",
       "      <td>1803.987</td>\n",
       "      <td>0.511</td>\n",
       "    </tr>\n",
       "    <tr>\n",
       "      <th>873</th>\n",
       "      <td>OWID_AFR</td>\n",
       "      <td>NaN</td>\n",
       "      <td>Africa</td>\n",
       "      <td>2021-04-27</td>\n",
       "      <td>3373.910</td>\n",
       "      <td>90.104</td>\n",
       "      <td>0.36</td>\n",
       "      <td>1.340598e+09</td>\n",
       "      <td>NaN</td>\n",
       "      <td>NaN</td>\n",
       "      <td>NaN</td>\n",
       "    </tr>\n",
       "    <tr>\n",
       "      <th>1306</th>\n",
       "      <td>ALB</td>\n",
       "      <td>Europe</td>\n",
       "      <td>Albania</td>\n",
       "      <td>2021-04-27</td>\n",
       "      <td>45429.147</td>\n",
       "      <td>828.063</td>\n",
       "      <td>NaN</td>\n",
       "      <td>2.877800e+06</td>\n",
       "      <td>104.871</td>\n",
       "      <td>11803.431</td>\n",
       "      <td>0.795</td>\n",
       "    </tr>\n",
       "    <tr>\n",
       "      <th>1739</th>\n",
       "      <td>DZA</td>\n",
       "      <td>Africa</td>\n",
       "      <td>Algeria</td>\n",
       "      <td>2021-04-27</td>\n",
       "      <td>2767.186</td>\n",
       "      <td>73.544</td>\n",
       "      <td>NaN</td>\n",
       "      <td>4.385104e+07</td>\n",
       "      <td>17.348</td>\n",
       "      <td>13913.839</td>\n",
       "      <td>0.748</td>\n",
       "    </tr>\n",
       "    <tr>\n",
       "      <th>2166</th>\n",
       "      <td>AND</td>\n",
       "      <td>Europe</td>\n",
       "      <td>Andorra</td>\n",
       "      <td>2021-04-27</td>\n",
       "      <td>169818.158</td>\n",
       "      <td>1604.866</td>\n",
       "      <td>NaN</td>\n",
       "      <td>7.726500e+04</td>\n",
       "      <td>163.755</td>\n",
       "      <td>NaN</td>\n",
       "      <td>0.868</td>\n",
       "    </tr>\n",
       "    <tr>\n",
       "      <th>...</th>\n",
       "      <td>...</td>\n",
       "      <td>...</td>\n",
       "      <td>...</td>\n",
       "      <td>...</td>\n",
       "      <td>...</td>\n",
       "      <td>...</td>\n",
       "      <td>...</td>\n",
       "      <td>...</td>\n",
       "      <td>...</td>\n",
       "      <td>...</td>\n",
       "      <td>...</td>\n",
       "    </tr>\n",
       "    <tr>\n",
       "      <th>83899</th>\n",
       "      <td>VNM</td>\n",
       "      <td>Asia</td>\n",
       "      <td>Vietnam</td>\n",
       "      <td>2021-04-27</td>\n",
       "      <td>29.351</td>\n",
       "      <td>0.360</td>\n",
       "      <td>NaN</td>\n",
       "      <td>9.733858e+07</td>\n",
       "      <td>308.127</td>\n",
       "      <td>6171.884</td>\n",
       "      <td>0.704</td>\n",
       "    </tr>\n",
       "    <tr>\n",
       "      <th>84366</th>\n",
       "      <td>OWID_WRL</td>\n",
       "      <td>NaN</td>\n",
       "      <td>World</td>\n",
       "      <td>2021-04-27</td>\n",
       "      <td>19078.988</td>\n",
       "      <td>402.198</td>\n",
       "      <td>3.21</td>\n",
       "      <td>7.794799e+09</td>\n",
       "      <td>58.045</td>\n",
       "      <td>15469.207</td>\n",
       "      <td>0.737</td>\n",
       "    </tr>\n",
       "    <tr>\n",
       "      <th>84754</th>\n",
       "      <td>YEM</td>\n",
       "      <td>Asia</td>\n",
       "      <td>Yemen</td>\n",
       "      <td>2021-04-27</td>\n",
       "      <td>208.543</td>\n",
       "      <td>40.468</td>\n",
       "      <td>NaN</td>\n",
       "      <td>2.982597e+07</td>\n",
       "      <td>53.508</td>\n",
       "      <td>1479.147</td>\n",
       "      <td>0.470</td>\n",
       "    </tr>\n",
       "    <tr>\n",
       "      <th>85165</th>\n",
       "      <td>ZMB</td>\n",
       "      <td>Africa</td>\n",
       "      <td>Zambia</td>\n",
       "      <td>2021-04-27</td>\n",
       "      <td>4972.706</td>\n",
       "      <td>67.940</td>\n",
       "      <td>NaN</td>\n",
       "      <td>1.838396e+07</td>\n",
       "      <td>22.995</td>\n",
       "      <td>3689.251</td>\n",
       "      <td>0.584</td>\n",
       "    </tr>\n",
       "    <tr>\n",
       "      <th>85574</th>\n",
       "      <td>ZWE</td>\n",
       "      <td>Africa</td>\n",
       "      <td>Zimbabwe</td>\n",
       "      <td>2021-04-27</td>\n",
       "      <td>2567.731</td>\n",
       "      <td>105.296</td>\n",
       "      <td>0.43</td>\n",
       "      <td>1.486293e+07</td>\n",
       "      <td>42.729</td>\n",
       "      <td>1899.775</td>\n",
       "      <td>0.571</td>\n",
       "    </tr>\n",
       "  </tbody>\n",
       "</table>\n",
       "<p>208 rows × 11 columns</p>\n",
       "</div>"
      ],
      "text/plain": [
       "       iso_code continent      Country        date       Cases    Deaths  \\\n",
       "428         AFG      Asia  Afghanistan  2021-04-27    1521.385    66.738   \n",
       "873    OWID_AFR       NaN       Africa  2021-04-27    3373.910    90.104   \n",
       "1306        ALB    Europe      Albania  2021-04-27   45429.147   828.063   \n",
       "1739        DZA    Africa      Algeria  2021-04-27    2767.186    73.544   \n",
       "2166        AND    Europe      Andorra  2021-04-27  169818.158  1604.866   \n",
       "...         ...       ...          ...         ...         ...       ...   \n",
       "83899       VNM      Asia      Vietnam  2021-04-27      29.351     0.360   \n",
       "84366  OWID_WRL       NaN        World  2021-04-27   19078.988   402.198   \n",
       "84754       YEM      Asia        Yemen  2021-04-27     208.543    40.468   \n",
       "85165       ZMB    Africa       Zambia  2021-04-27    4972.706    67.940   \n",
       "85574       ZWE    Africa     Zimbabwe  2021-04-27    2567.731   105.296   \n",
       "\n",
       "       Vaxxed    Population  Density        GDP    HDI  \n",
       "428       NaN  3.892834e+07   54.422   1803.987  0.511  \n",
       "873      0.36  1.340598e+09      NaN        NaN    NaN  \n",
       "1306      NaN  2.877800e+06  104.871  11803.431  0.795  \n",
       "1739      NaN  4.385104e+07   17.348  13913.839  0.748  \n",
       "2166      NaN  7.726500e+04  163.755        NaN  0.868  \n",
       "...       ...           ...      ...        ...    ...  \n",
       "83899     NaN  9.733858e+07  308.127   6171.884  0.704  \n",
       "84366    3.21  7.794799e+09   58.045  15469.207  0.737  \n",
       "84754     NaN  2.982597e+07   53.508   1479.147  0.470  \n",
       "85165     NaN  1.838396e+07   22.995   3689.251  0.584  \n",
       "85574    0.43  1.486293e+07   42.729   1899.775  0.571  \n",
       "\n",
       "[208 rows x 11 columns]"
      ]
     },
     "execution_count": 5,
     "metadata": {},
     "output_type": "execute_result"
    }
   ],
   "source": [
    "CovidClean"
   ]
  },
  {
   "cell_type": "code",
   "execution_count": 6,
   "id": "b3d08dae",
   "metadata": {},
   "outputs": [
    {
     "data": {
      "text/html": [
       "<div>\n",
       "<style scoped>\n",
       "    .dataframe tbody tr th:only-of-type {\n",
       "        vertical-align: middle;\n",
       "    }\n",
       "\n",
       "    .dataframe tbody tr th {\n",
       "        vertical-align: top;\n",
       "    }\n",
       "\n",
       "    .dataframe thead th {\n",
       "        text-align: right;\n",
       "    }\n",
       "</style>\n",
       "<table border=\"1\" class=\"dataframe\">\n",
       "  <thead>\n",
       "    <tr style=\"text-align: right;\">\n",
       "      <th></th>\n",
       "      <th>iso_code</th>\n",
       "      <th>continent</th>\n",
       "      <th>Country</th>\n",
       "      <th>date</th>\n",
       "      <th>Cases</th>\n",
       "      <th>Deaths</th>\n",
       "      <th>Vaxxed</th>\n",
       "      <th>Population</th>\n",
       "      <th>Density</th>\n",
       "      <th>GDP</th>\n",
       "      <th>HDI</th>\n",
       "    </tr>\n",
       "  </thead>\n",
       "  <tbody>\n",
       "    <tr>\n",
       "      <th>873</th>\n",
       "      <td>OWID_AFR</td>\n",
       "      <td>NaN</td>\n",
       "      <td>Africa</td>\n",
       "      <td>2021-04-27</td>\n",
       "      <td>3373.910</td>\n",
       "      <td>90.104</td>\n",
       "      <td>0.36</td>\n",
       "      <td>1.340598e+09</td>\n",
       "      <td>NaN</td>\n",
       "      <td>NaN</td>\n",
       "      <td>NaN</td>\n",
       "    </tr>\n",
       "    <tr>\n",
       "      <th>4485</th>\n",
       "      <td>OWID_ASI</td>\n",
       "      <td>NaN</td>\n",
       "      <td>Asia</td>\n",
       "      <td>2021-04-27</td>\n",
       "      <td>8186.914</td>\n",
       "      <td>108.743</td>\n",
       "      <td>1.23</td>\n",
       "      <td>4.639847e+09</td>\n",
       "      <td>NaN</td>\n",
       "      <td>NaN</td>\n",
       "      <td>NaN</td>\n",
       "    </tr>\n",
       "    <tr>\n",
       "      <th>26402</th>\n",
       "      <td>OWID_EUR</td>\n",
       "      <td>NaN</td>\n",
       "      <td>Europe</td>\n",
       "      <td>2021-04-27</td>\n",
       "      <td>59322.749</td>\n",
       "      <td>1345.065</td>\n",
       "      <td>8.03</td>\n",
       "      <td>7.486801e+08</td>\n",
       "      <td>NaN</td>\n",
       "      <td>NaN</td>\n",
       "      <td>NaN</td>\n",
       "    </tr>\n",
       "    <tr>\n",
       "      <th>26868</th>\n",
       "      <td>OWID_EUN</td>\n",
       "      <td>NaN</td>\n",
       "      <td>European Union</td>\n",
       "      <td>2021-04-27</td>\n",
       "      <td>68344.672</td>\n",
       "      <td>1532.895</td>\n",
       "      <td>8.26</td>\n",
       "      <td>4.449191e+08</td>\n",
       "      <td>NaN</td>\n",
       "      <td>NaN</td>\n",
       "      <td>NaN</td>\n",
       "    </tr>\n",
       "    <tr>\n",
       "      <th>36517</th>\n",
       "      <td>OWID_INT</td>\n",
       "      <td>NaN</td>\n",
       "      <td>International</td>\n",
       "      <td>2021-04-27</td>\n",
       "      <td>NaN</td>\n",
       "      <td>NaN</td>\n",
       "      <td>NaN</td>\n",
       "      <td>NaN</td>\n",
       "      <td>NaN</td>\n",
       "      <td>NaN</td>\n",
       "      <td>NaN</td>\n",
       "    </tr>\n",
       "    <tr>\n",
       "      <th>56786</th>\n",
       "      <td>OWID_NAM</td>\n",
       "      <td>NaN</td>\n",
       "      <td>North America</td>\n",
       "      <td>2021-04-27</td>\n",
       "      <td>62992.638</td>\n",
       "      <td>1424.390</td>\n",
       "      <td>17.78</td>\n",
       "      <td>5.920722e+08</td>\n",
       "      <td>NaN</td>\n",
       "      <td>NaN</td>\n",
       "      <td>NaN</td>\n",
       "    </tr>\n",
       "    <tr>\n",
       "      <th>58215</th>\n",
       "      <td>OWID_OCE</td>\n",
       "      <td>NaN</td>\n",
       "      <td>Oceania</td>\n",
       "      <td>2021-04-27</td>\n",
       "      <td>1015.399</td>\n",
       "      <td>24.462</td>\n",
       "      <td>0.14</td>\n",
       "      <td>4.267781e+07</td>\n",
       "      <td>NaN</td>\n",
       "      <td>NaN</td>\n",
       "      <td>NaN</td>\n",
       "    </tr>\n",
       "    <tr>\n",
       "      <th>71529</th>\n",
       "      <td>OWID_SAM</td>\n",
       "      <td>NaN</td>\n",
       "      <td>South America</td>\n",
       "      <td>2021-04-27</td>\n",
       "      <td>56768.938</td>\n",
       "      <td>1528.191</td>\n",
       "      <td>5.26</td>\n",
       "      <td>4.307598e+08</td>\n",
       "      <td>NaN</td>\n",
       "      <td>NaN</td>\n",
       "      <td>NaN</td>\n",
       "    </tr>\n",
       "    <tr>\n",
       "      <th>84366</th>\n",
       "      <td>OWID_WRL</td>\n",
       "      <td>NaN</td>\n",
       "      <td>World</td>\n",
       "      <td>2021-04-27</td>\n",
       "      <td>19078.988</td>\n",
       "      <td>402.198</td>\n",
       "      <td>3.21</td>\n",
       "      <td>7.794799e+09</td>\n",
       "      <td>58.045</td>\n",
       "      <td>15469.207</td>\n",
       "      <td>0.737</td>\n",
       "    </tr>\n",
       "  </tbody>\n",
       "</table>\n",
       "</div>"
      ],
      "text/plain": [
       "       iso_code continent         Country        date      Cases    Deaths  \\\n",
       "873    OWID_AFR       NaN          Africa  2021-04-27   3373.910    90.104   \n",
       "4485   OWID_ASI       NaN            Asia  2021-04-27   8186.914   108.743   \n",
       "26402  OWID_EUR       NaN          Europe  2021-04-27  59322.749  1345.065   \n",
       "26868  OWID_EUN       NaN  European Union  2021-04-27  68344.672  1532.895   \n",
       "36517  OWID_INT       NaN   International  2021-04-27        NaN       NaN   \n",
       "56786  OWID_NAM       NaN   North America  2021-04-27  62992.638  1424.390   \n",
       "58215  OWID_OCE       NaN         Oceania  2021-04-27   1015.399    24.462   \n",
       "71529  OWID_SAM       NaN   South America  2021-04-27  56768.938  1528.191   \n",
       "84366  OWID_WRL       NaN           World  2021-04-27  19078.988   402.198   \n",
       "\n",
       "       Vaxxed    Population  Density        GDP    HDI  \n",
       "873      0.36  1.340598e+09      NaN        NaN    NaN  \n",
       "4485     1.23  4.639847e+09      NaN        NaN    NaN  \n",
       "26402    8.03  7.486801e+08      NaN        NaN    NaN  \n",
       "26868    8.26  4.449191e+08      NaN        NaN    NaN  \n",
       "36517     NaN           NaN      NaN        NaN    NaN  \n",
       "56786   17.78  5.920722e+08      NaN        NaN    NaN  \n",
       "58215    0.14  4.267781e+07      NaN        NaN    NaN  \n",
       "71529    5.26  4.307598e+08      NaN        NaN    NaN  \n",
       "84366    3.21  7.794799e+09   58.045  15469.207  0.737  "
      ]
     },
     "execution_count": 6,
     "metadata": {},
     "output_type": "execute_result"
    }
   ],
   "source": [
    "CovidContinent = CovidClean.copy()\n",
    "# CovidClean = CovidClean[CovidClean['iso_code'].isin([\"OWID_AFR\"])]\n",
    "# CovidClean = CovidClean.isna(CovidClean[\"Density\"])\n",
    "CovidContinent.isna()['continent']\n",
    "\n",
    "Continent = CovidContinent.loc[CovidContinent.isna()['continent']]\n",
    "Continent"
   ]
  },
  {
   "cell_type": "code",
   "execution_count": 7,
   "id": "a1001331",
   "metadata": {},
   "outputs": [
    {
     "data": {
      "text/html": [
       "<div>\n",
       "<style scoped>\n",
       "    .dataframe tbody tr th:only-of-type {\n",
       "        vertical-align: middle;\n",
       "    }\n",
       "\n",
       "    .dataframe tbody tr th {\n",
       "        vertical-align: top;\n",
       "    }\n",
       "\n",
       "    .dataframe thead th {\n",
       "        text-align: right;\n",
       "    }\n",
       "</style>\n",
       "<table border=\"1\" class=\"dataframe\">\n",
       "  <thead>\n",
       "    <tr style=\"text-align: right;\">\n",
       "      <th></th>\n",
       "      <th>iso_code</th>\n",
       "      <th>continent</th>\n",
       "      <th>Country</th>\n",
       "      <th>date</th>\n",
       "      <th>Cases</th>\n",
       "      <th>Deaths</th>\n",
       "      <th>Vaxxed</th>\n",
       "      <th>Population</th>\n",
       "      <th>Density</th>\n",
       "      <th>GDP</th>\n",
       "      <th>HDI</th>\n",
       "      <th>Score</th>\n",
       "      <th>Rank</th>\n",
       "    </tr>\n",
       "  </thead>\n",
       "  <tbody>\n",
       "    <tr>\n",
       "      <th>0</th>\n",
       "      <td>AFG</td>\n",
       "      <td>Asia</td>\n",
       "      <td>Afghanistan</td>\n",
       "      <td>2021-04-27</td>\n",
       "      <td>1521.385</td>\n",
       "      <td>66.738</td>\n",
       "      <td>NaN</td>\n",
       "      <td>38928341.0</td>\n",
       "      <td>54.422</td>\n",
       "      <td>1803.987</td>\n",
       "      <td>0.511</td>\n",
       "      <td>19.0</td>\n",
       "      <td>165.0</td>\n",
       "    </tr>\n",
       "    <tr>\n",
       "      <th>1</th>\n",
       "      <td>ALB</td>\n",
       "      <td>Europe</td>\n",
       "      <td>Albania</td>\n",
       "      <td>2021-04-27</td>\n",
       "      <td>45429.147</td>\n",
       "      <td>828.063</td>\n",
       "      <td>NaN</td>\n",
       "      <td>2877800.0</td>\n",
       "      <td>104.871</td>\n",
       "      <td>11803.431</td>\n",
       "      <td>0.795</td>\n",
       "      <td>36.0</td>\n",
       "      <td>104.0</td>\n",
       "    </tr>\n",
       "    <tr>\n",
       "      <th>2</th>\n",
       "      <td>DZA</td>\n",
       "      <td>Africa</td>\n",
       "      <td>Algeria</td>\n",
       "      <td>2021-04-27</td>\n",
       "      <td>2767.186</td>\n",
       "      <td>73.544</td>\n",
       "      <td>NaN</td>\n",
       "      <td>43851043.0</td>\n",
       "      <td>17.348</td>\n",
       "      <td>13913.839</td>\n",
       "      <td>0.748</td>\n",
       "      <td>36.0</td>\n",
       "      <td>104.0</td>\n",
       "    </tr>\n",
       "    <tr>\n",
       "      <th>3</th>\n",
       "      <td>AGO</td>\n",
       "      <td>Africa</td>\n",
       "      <td>Angola</td>\n",
       "      <td>2021-04-27</td>\n",
       "      <td>789.320</td>\n",
       "      <td>17.860</td>\n",
       "      <td>NaN</td>\n",
       "      <td>32866268.0</td>\n",
       "      <td>23.890</td>\n",
       "      <td>5819.495</td>\n",
       "      <td>0.581</td>\n",
       "      <td>27.0</td>\n",
       "      <td>142.0</td>\n",
       "    </tr>\n",
       "    <tr>\n",
       "      <th>4</th>\n",
       "      <td>ARG</td>\n",
       "      <td>South America</td>\n",
       "      <td>Argentina</td>\n",
       "      <td>2021-04-27</td>\n",
       "      <td>64279.722</td>\n",
       "      <td>1385.063</td>\n",
       "      <td>1.95</td>\n",
       "      <td>45195777.0</td>\n",
       "      <td>16.177</td>\n",
       "      <td>18933.907</td>\n",
       "      <td>0.845</td>\n",
       "      <td>42.0</td>\n",
       "      <td>78.0</td>\n",
       "    </tr>\n",
       "    <tr>\n",
       "      <th>...</th>\n",
       "      <td>...</td>\n",
       "      <td>...</td>\n",
       "      <td>...</td>\n",
       "      <td>...</td>\n",
       "      <td>...</td>\n",
       "      <td>...</td>\n",
       "      <td>...</td>\n",
       "      <td>...</td>\n",
       "      <td>...</td>\n",
       "      <td>...</td>\n",
       "      <td>...</td>\n",
       "      <td>...</td>\n",
       "      <td>...</td>\n",
       "    </tr>\n",
       "    <tr>\n",
       "      <th>170</th>\n",
       "      <td>VEN</td>\n",
       "      <td>South America</td>\n",
       "      <td>Venezuela</td>\n",
       "      <td>2021-04-27</td>\n",
       "      <td>6812.540</td>\n",
       "      <td>73.217</td>\n",
       "      <td>NaN</td>\n",
       "      <td>28435943.0</td>\n",
       "      <td>36.253</td>\n",
       "      <td>16745.022</td>\n",
       "      <td>0.711</td>\n",
       "      <td>15.0</td>\n",
       "      <td>176.0</td>\n",
       "    </tr>\n",
       "    <tr>\n",
       "      <th>171</th>\n",
       "      <td>VNM</td>\n",
       "      <td>Asia</td>\n",
       "      <td>Vietnam</td>\n",
       "      <td>2021-04-27</td>\n",
       "      <td>29.351</td>\n",
       "      <td>0.360</td>\n",
       "      <td>NaN</td>\n",
       "      <td>97338583.0</td>\n",
       "      <td>308.127</td>\n",
       "      <td>6171.884</td>\n",
       "      <td>0.704</td>\n",
       "      <td>36.0</td>\n",
       "      <td>104.0</td>\n",
       "    </tr>\n",
       "    <tr>\n",
       "      <th>172</th>\n",
       "      <td>YEM</td>\n",
       "      <td>Asia</td>\n",
       "      <td>Yemen</td>\n",
       "      <td>2021-04-27</td>\n",
       "      <td>208.543</td>\n",
       "      <td>40.468</td>\n",
       "      <td>NaN</td>\n",
       "      <td>29825968.0</td>\n",
       "      <td>53.508</td>\n",
       "      <td>1479.147</td>\n",
       "      <td>0.470</td>\n",
       "      <td>15.0</td>\n",
       "      <td>176.0</td>\n",
       "    </tr>\n",
       "    <tr>\n",
       "      <th>173</th>\n",
       "      <td>ZMB</td>\n",
       "      <td>Africa</td>\n",
       "      <td>Zambia</td>\n",
       "      <td>2021-04-27</td>\n",
       "      <td>4972.706</td>\n",
       "      <td>67.940</td>\n",
       "      <td>NaN</td>\n",
       "      <td>18383956.0</td>\n",
       "      <td>22.995</td>\n",
       "      <td>3689.251</td>\n",
       "      <td>0.584</td>\n",
       "      <td>33.0</td>\n",
       "      <td>117.0</td>\n",
       "    </tr>\n",
       "    <tr>\n",
       "      <th>174</th>\n",
       "      <td>ZWE</td>\n",
       "      <td>Africa</td>\n",
       "      <td>Zimbabwe</td>\n",
       "      <td>2021-04-27</td>\n",
       "      <td>2567.731</td>\n",
       "      <td>105.296</td>\n",
       "      <td>0.43</td>\n",
       "      <td>14862927.0</td>\n",
       "      <td>42.729</td>\n",
       "      <td>1899.775</td>\n",
       "      <td>0.571</td>\n",
       "      <td>24.0</td>\n",
       "      <td>157.0</td>\n",
       "    </tr>\n",
       "  </tbody>\n",
       "</table>\n",
       "<p>175 rows × 13 columns</p>\n",
       "</div>"
      ],
      "text/plain": [
       "    iso_code      continent      Country        date      Cases    Deaths  \\\n",
       "0        AFG           Asia  Afghanistan  2021-04-27   1521.385    66.738   \n",
       "1        ALB         Europe      Albania  2021-04-27  45429.147   828.063   \n",
       "2        DZA         Africa      Algeria  2021-04-27   2767.186    73.544   \n",
       "3        AGO         Africa       Angola  2021-04-27    789.320    17.860   \n",
       "4        ARG  South America    Argentina  2021-04-27  64279.722  1385.063   \n",
       "..       ...            ...          ...         ...        ...       ...   \n",
       "170      VEN  South America    Venezuela  2021-04-27   6812.540    73.217   \n",
       "171      VNM           Asia      Vietnam  2021-04-27     29.351     0.360   \n",
       "172      YEM           Asia        Yemen  2021-04-27    208.543    40.468   \n",
       "173      ZMB         Africa       Zambia  2021-04-27   4972.706    67.940   \n",
       "174      ZWE         Africa     Zimbabwe  2021-04-27   2567.731   105.296   \n",
       "\n",
       "     Vaxxed  Population  Density        GDP    HDI  Score   Rank  \n",
       "0       NaN  38928341.0   54.422   1803.987  0.511   19.0  165.0  \n",
       "1       NaN   2877800.0  104.871  11803.431  0.795   36.0  104.0  \n",
       "2       NaN  43851043.0   17.348  13913.839  0.748   36.0  104.0  \n",
       "3       NaN  32866268.0   23.890   5819.495  0.581   27.0  142.0  \n",
       "4      1.95  45195777.0   16.177  18933.907  0.845   42.0   78.0  \n",
       "..      ...         ...      ...        ...    ...    ...    ...  \n",
       "170     NaN  28435943.0   36.253  16745.022  0.711   15.0  176.0  \n",
       "171     NaN  97338583.0  308.127   6171.884  0.704   36.0  104.0  \n",
       "172     NaN  29825968.0   53.508   1479.147  0.470   15.0  176.0  \n",
       "173     NaN  18383956.0   22.995   3689.251  0.584   33.0  117.0  \n",
       "174    0.43  14862927.0   42.729   1899.775  0.571   24.0  157.0  \n",
       "\n",
       "[175 rows x 13 columns]"
      ]
     },
     "execution_count": 7,
     "metadata": {},
     "output_type": "execute_result"
    }
   ],
   "source": [
    "CovidAll"
   ]
  },
  {
   "cell_type": "markdown",
   "id": "7dc9cd80",
   "metadata": {},
   "source": [
    "# REMOVING NAN FOR CASES OR DEATHS"
   ]
  },
  {
   "cell_type": "code",
   "execution_count": 8,
   "id": "71877c95",
   "metadata": {},
   "outputs": [
    {
     "data": {
      "text/html": [
       "<div>\n",
       "<style scoped>\n",
       "    .dataframe tbody tr th:only-of-type {\n",
       "        vertical-align: middle;\n",
       "    }\n",
       "\n",
       "    .dataframe tbody tr th {\n",
       "        vertical-align: top;\n",
       "    }\n",
       "\n",
       "    .dataframe thead th {\n",
       "        text-align: right;\n",
       "    }\n",
       "</style>\n",
       "<table border=\"1\" class=\"dataframe\">\n",
       "  <thead>\n",
       "    <tr style=\"text-align: right;\">\n",
       "      <th></th>\n",
       "      <th>iso_code</th>\n",
       "      <th>continent</th>\n",
       "      <th>Country</th>\n",
       "      <th>date</th>\n",
       "      <th>Cases</th>\n",
       "      <th>Deaths</th>\n",
       "      <th>Vaxxed</th>\n",
       "      <th>Population</th>\n",
       "      <th>Density</th>\n",
       "      <th>GDP</th>\n",
       "      <th>HDI</th>\n",
       "      <th>Score</th>\n",
       "      <th>Rank</th>\n",
       "    </tr>\n",
       "  </thead>\n",
       "  <tbody>\n",
       "    <tr>\n",
       "      <th>170</th>\n",
       "      <td>VEN</td>\n",
       "      <td>South America</td>\n",
       "      <td>Venezuela</td>\n",
       "      <td>2021-04-27</td>\n",
       "      <td>6812.540</td>\n",
       "      <td>73.217</td>\n",
       "      <td>NaN</td>\n",
       "      <td>28435943.0</td>\n",
       "      <td>36.253</td>\n",
       "      <td>16745.022</td>\n",
       "      <td>0.711</td>\n",
       "      <td>15.0</td>\n",
       "      <td>176.0</td>\n",
       "    </tr>\n",
       "    <tr>\n",
       "      <th>171</th>\n",
       "      <td>VNM</td>\n",
       "      <td>Asia</td>\n",
       "      <td>Vietnam</td>\n",
       "      <td>2021-04-27</td>\n",
       "      <td>29.351</td>\n",
       "      <td>0.360</td>\n",
       "      <td>NaN</td>\n",
       "      <td>97338583.0</td>\n",
       "      <td>308.127</td>\n",
       "      <td>6171.884</td>\n",
       "      <td>0.704</td>\n",
       "      <td>36.0</td>\n",
       "      <td>104.0</td>\n",
       "    </tr>\n",
       "    <tr>\n",
       "      <th>172</th>\n",
       "      <td>YEM</td>\n",
       "      <td>Asia</td>\n",
       "      <td>Yemen</td>\n",
       "      <td>2021-04-27</td>\n",
       "      <td>208.543</td>\n",
       "      <td>40.468</td>\n",
       "      <td>NaN</td>\n",
       "      <td>29825968.0</td>\n",
       "      <td>53.508</td>\n",
       "      <td>1479.147</td>\n",
       "      <td>0.470</td>\n",
       "      <td>15.0</td>\n",
       "      <td>176.0</td>\n",
       "    </tr>\n",
       "    <tr>\n",
       "      <th>173</th>\n",
       "      <td>ZMB</td>\n",
       "      <td>Africa</td>\n",
       "      <td>Zambia</td>\n",
       "      <td>2021-04-27</td>\n",
       "      <td>4972.706</td>\n",
       "      <td>67.940</td>\n",
       "      <td>NaN</td>\n",
       "      <td>18383956.0</td>\n",
       "      <td>22.995</td>\n",
       "      <td>3689.251</td>\n",
       "      <td>0.584</td>\n",
       "      <td>33.0</td>\n",
       "      <td>117.0</td>\n",
       "    </tr>\n",
       "    <tr>\n",
       "      <th>174</th>\n",
       "      <td>ZWE</td>\n",
       "      <td>Africa</td>\n",
       "      <td>Zimbabwe</td>\n",
       "      <td>2021-04-27</td>\n",
       "      <td>2567.731</td>\n",
       "      <td>105.296</td>\n",
       "      <td>0.43</td>\n",
       "      <td>14862927.0</td>\n",
       "      <td>42.729</td>\n",
       "      <td>1899.775</td>\n",
       "      <td>0.571</td>\n",
       "      <td>24.0</td>\n",
       "      <td>157.0</td>\n",
       "    </tr>\n",
       "  </tbody>\n",
       "</table>\n",
       "</div>"
      ],
      "text/plain": [
       "    iso_code      continent    Country        date     Cases   Deaths  Vaxxed  \\\n",
       "170      VEN  South America  Venezuela  2021-04-27  6812.540   73.217     NaN   \n",
       "171      VNM           Asia    Vietnam  2021-04-27    29.351    0.360     NaN   \n",
       "172      YEM           Asia      Yemen  2021-04-27   208.543   40.468     NaN   \n",
       "173      ZMB         Africa     Zambia  2021-04-27  4972.706   67.940     NaN   \n",
       "174      ZWE         Africa   Zimbabwe  2021-04-27  2567.731  105.296    0.43   \n",
       "\n",
       "     Population  Density        GDP    HDI  Score   Rank  \n",
       "170  28435943.0   36.253  16745.022  0.711   15.0  176.0  \n",
       "171  97338583.0  308.127   6171.884  0.704   36.0  104.0  \n",
       "172  29825968.0   53.508   1479.147  0.470   15.0  176.0  \n",
       "173  18383956.0   22.995   3689.251  0.584   33.0  117.0  \n",
       "174  14862927.0   42.729   1899.775  0.571   24.0  157.0  "
      ]
     },
     "execution_count": 8,
     "metadata": {},
     "output_type": "execute_result"
    }
   ],
   "source": [
    "# CovidAllTT = CovidAll[CovidAll['Deaths'].notna()]\n",
    "# CovidAllTT = CovidAll[CovidAll['Cases'].notna()]\n",
    "# CovidAllTT = CovidAll.drop(CovidAll.index[43])\n",
    "# CovidAllTT = CovidAll.drop(CovidAll.index[141])\n",
    "CovidAllTT = CovidAll[CovidAll[\"Cases\"].notna()]\n",
    "CovidAllTT = CovidAll[CovidAll[\"Deaths\"].notna()]\n",
    "CovidAllTT.tail()\n",
    "#LOST 4 COUNTRIES WITH NAN FOR DEATHS OR CASES"
   ]
  },
  {
   "cell_type": "code",
   "execution_count": 9,
   "id": "ba5e7bd2",
   "metadata": {},
   "outputs": [],
   "source": [
    "#test_df = CovidAll.loc[(CovidAll[\"continent\"] !=\"Asia\")]\n",
    "#test_df.head()"
   ]
  },
  {
   "cell_type": "markdown",
   "id": "f704eba8",
   "metadata": {},
   "source": [
    "## North America vs South America: Cases"
   ]
  },
  {
   "cell_type": "code",
   "execution_count": 10,
   "id": "1dad3bf6",
   "metadata": {},
   "outputs": [
    {
     "data": {
      "text/plain": [
       "24380.268526315787"
      ]
     },
     "execution_count": 10,
     "metadata": {},
     "output_type": "execute_result"
    }
   ],
   "source": [
    "populationNAc = CovidAllTT[CovidAllTT[\"continent\"] == \"North America\"]\n",
    "populationNAc.Cases.mean()"
   ]
  },
  {
   "cell_type": "code",
   "execution_count": 11,
   "id": "b5f46ee2",
   "metadata": {},
   "outputs": [
    {
     "data": {
      "text/plain": [
       "40245.84033333333"
      ]
     },
     "execution_count": 11,
     "metadata": {},
     "output_type": "execute_result"
    }
   ],
   "source": [
    "populationSAc = CovidAllTT[CovidAllTT[\"continent\"] == \"South America\"]\n",
    "populationSAc.Cases.mean()"
   ]
  },
  {
   "cell_type": "code",
   "execution_count": 12,
   "id": "e307c2db",
   "metadata": {},
   "outputs": [
    {
     "data": {
      "text/plain": [
       "Ttest_indResult(statistic=-1.8274771377641963, pvalue=0.07884742293452718)"
      ]
     },
     "execution_count": 12,
     "metadata": {},
     "output_type": "execute_result"
    }
   ],
   "source": [
    "# INDEPENDENT T TEST COMPARES THE MEANS FOR 2 GROUPS\n",
    "stats.ttest_ind(populationNAc.Cases, populationSAc.Cases, equal_var=False)"
   ]
  },
  {
   "cell_type": "markdown",
   "id": "f4c84ad3",
   "metadata": {},
   "source": [
    "## North America vs South America: Deaths"
   ]
  },
  {
   "cell_type": "code",
   "execution_count": 13,
   "id": "f70a687a",
   "metadata": {},
   "outputs": [
    {
     "data": {
      "text/plain": [
       "491.42831578947363"
      ]
     },
     "execution_count": 13,
     "metadata": {},
     "output_type": "execute_result"
    }
   ],
   "source": [
    "populationNAd = CovidAllTT[CovidAllTT[\"continent\"] == \"North America\"]\n",
    "populationNAd.Deaths.mean()\n",
    "#populationNAd"
   ]
  },
  {
   "cell_type": "code",
   "execution_count": 14,
   "id": "4fbc1f44",
   "metadata": {},
   "outputs": [
    {
     "data": {
      "text/plain": [
       "1028.0475"
      ]
     },
     "execution_count": 14,
     "metadata": {},
     "output_type": "execute_result"
    }
   ],
   "source": [
    "populationSAd = CovidAllTT[CovidAllTT[\"continent\"] == \"South America\"]\n",
    "populationSAd.Deaths.mean()\n",
    "#populationSAd"
   ]
  },
  {
   "cell_type": "code",
   "execution_count": 15,
   "id": "7939285a",
   "metadata": {},
   "outputs": [
    {
     "data": {
      "text/plain": [
       "Ttest_indResult(statistic=-2.5830010281058136, pvalue=0.016835070088736193)"
      ]
     },
     "execution_count": 15,
     "metadata": {},
     "output_type": "execute_result"
    }
   ],
   "source": [
    "# INDEPENDENT T TEST COMPARES THE MEANS FOR 2 GROUPS\n",
    "stats.ttest_ind(populationNAd.Deaths, populationSAd.Deaths, equal_var=False)"
   ]
  },
  {
   "cell_type": "markdown",
   "id": "a44f5be0",
   "metadata": {},
   "source": [
    "## Asia vs rest of world: Cases"
   ]
  },
  {
   "cell_type": "code",
   "execution_count": 16,
   "id": "4dbd1c7c",
   "metadata": {},
   "outputs": [
    {
     "data": {
      "text/plain": [
       "24179.913545454558"
      ]
     },
     "execution_count": 16,
     "metadata": {},
     "output_type": "execute_result"
    }
   ],
   "source": [
    "populationAsiac = CovidAllTT[CovidAllTT[\"continent\"] == \"Asia\"]\n",
    "populationAsiac.Cases.mean()"
   ]
  },
  {
   "cell_type": "code",
   "execution_count": 17,
   "id": "48552a0a",
   "metadata": {},
   "outputs": [
    {
     "data": {
      "text/plain": [
       "32208.210842519675"
      ]
     },
     "execution_count": 17,
     "metadata": {},
     "output_type": "execute_result"
    }
   ],
   "source": [
    "populationNotAsiac = CovidAllTT[CovidAllTT[\"continent\"] != \"Asia\"]\n",
    "populationNotAsiac.Cases.mean()"
   ]
  },
  {
   "cell_type": "code",
   "execution_count": 18,
   "id": "ec4df62b",
   "metadata": {},
   "outputs": [
    {
     "data": {
      "text/plain": [
       "Ttest_indResult(statistic=-1.4585169156786029, pvalue=0.14831094358417435)"
      ]
     },
     "execution_count": 18,
     "metadata": {},
     "output_type": "execute_result"
    }
   ],
   "source": [
    "# INDEPENDENT T TEST COMPARES THE MEANS FOR 2 GROUPS\n",
    "stats.ttest_ind(populationAsiac.Cases, populationNotAsiac.Cases, equal_var=False)"
   ]
  },
  {
   "cell_type": "markdown",
   "id": "33baab8e",
   "metadata": {},
   "source": [
    "## Asia vs rest of world: Deaths"
   ]
  },
  {
   "cell_type": "code",
   "execution_count": 19,
   "id": "20645dbb",
   "metadata": {},
   "outputs": [
    {
     "data": {
      "text/plain": [
       "240.4879772727273"
      ]
     },
     "execution_count": 19,
     "metadata": {},
     "output_type": "execute_result"
    }
   ],
   "source": [
    "populationAsiad = CovidAllTT[CovidAllTT[\"continent\"] == \"Asia\"]\n",
    "populationAsiad.Deaths.mean()"
   ]
  },
  {
   "cell_type": "code",
   "execution_count": 20,
   "id": "05373c3f",
   "metadata": {},
   "outputs": [
    {
     "data": {
      "text/plain": [
       "655.0361574803148"
      ]
     },
     "execution_count": 20,
     "metadata": {},
     "output_type": "execute_result"
    }
   ],
   "source": [
    "populationNotAsiad = CovidAllTT[CovidAllTT[\"continent\"] != \"Asia\"]\n",
    "populationNotAsiad.Deaths.mean()"
   ]
  },
  {
   "cell_type": "code",
   "execution_count": 21,
   "id": "a1126633",
   "metadata": {},
   "outputs": [
    {
     "data": {
      "text/plain": [
       "Ttest_indResult(statistic=-4.989516498778078, pvalue=1.5717749788155345e-06)"
      ]
     },
     "execution_count": 21,
     "metadata": {},
     "output_type": "execute_result"
    }
   ],
   "source": [
    "# INDEPENDENT T TEST COMPARES THE MEANS FOR 2 GROUPS \n",
    "stats.ttest_ind(populationAsiad.Deaths, populationNotAsiad.Deaths, equal_var=False)"
   ]
  },
  {
   "cell_type": "markdown",
   "id": "a1b120bb",
   "metadata": {},
   "source": [
    "## North America vs Rest of World: Cases"
   ]
  },
  {
   "cell_type": "code",
   "execution_count": 22,
   "id": "044932e3",
   "metadata": {},
   "outputs": [
    {
     "data": {
      "text/plain": [
       "24380.268526315787"
      ]
     },
     "execution_count": 22,
     "metadata": {},
     "output_type": "execute_result"
    }
   ],
   "source": [
    "populationNAc = CovidAllTT[CovidAllTT[\"continent\"] == \"North America\"]\n",
    "populationNAc.Cases.mean()"
   ]
  },
  {
   "cell_type": "code",
   "execution_count": 23,
   "id": "01089d8e",
   "metadata": {},
   "outputs": [
    {
     "data": {
      "text/plain": [
       "30862.72283552629"
      ]
     },
     "execution_count": 23,
     "metadata": {},
     "output_type": "execute_result"
    }
   ],
   "source": [
    "populationNotNAc = CovidAllTT[CovidAllTT[\"continent\"] != \"North America\"]\n",
    "populationNotNAc.Cases.mean()\n",
    "#populationNotNAc.head()"
   ]
  },
  {
   "cell_type": "code",
   "execution_count": 24,
   "id": "e6c692f4",
   "metadata": {},
   "outputs": [
    {
     "data": {
      "text/plain": [
       "Ttest_indResult(statistic=-0.9780963285125485, pvalue=0.3367863323852536)"
      ]
     },
     "execution_count": 24,
     "metadata": {},
     "output_type": "execute_result"
    }
   ],
   "source": [
    "# INDEPENDENT T TEST COMPARES THE MEANS FOR 2 GROUPS\n",
    "stats.ttest_ind(populationNAc.Cases, populationNotNAc.Cases, equal_var=False)"
   ]
  },
  {
   "cell_type": "markdown",
   "id": "54b935a8",
   "metadata": {},
   "source": [
    "## North America vs Rest of World: Deaths"
   ]
  },
  {
   "cell_type": "code",
   "execution_count": 25,
   "id": "a9bfa4b9",
   "metadata": {},
   "outputs": [
    {
     "data": {
      "text/plain": [
       "491.42831578947363"
      ]
     },
     "execution_count": 25,
     "metadata": {},
     "output_type": "execute_result"
    }
   ],
   "source": [
    "populationNAd = CovidAllTT[CovidAllTT[\"continent\"] == \"North America\"]\n",
    "populationNAd.Deaths.mean()"
   ]
  },
  {
   "cell_type": "code",
   "execution_count": 26,
   "id": "bd3b508a",
   "metadata": {},
   "outputs": [
    {
     "data": {
      "text/plain": [
       "555.4863486842105"
      ]
     },
     "execution_count": 26,
     "metadata": {},
     "output_type": "execute_result"
    }
   ],
   "source": [
    "populationNotNAd = CovidAllTT[CovidAllTT[\"continent\"] != \"North America\"]\n",
    "populationNotNAd.Deaths.mean()"
   ]
  },
  {
   "cell_type": "code",
   "execution_count": 27,
   "id": "a11f46bd",
   "metadata": {},
   "outputs": [
    {
     "data": {
      "text/plain": [
       "Ttest_indResult(statistic=-0.4685141460229922, pvalue=0.643269890360971)"
      ]
     },
     "execution_count": 27,
     "metadata": {},
     "output_type": "execute_result"
    }
   ],
   "source": [
    "# INDEPENDENT T TEST COMPARES THE MEANS FOR 2 GROUPS\n",
    "stats.ttest_ind(populationNAd.Deaths, populationNotNAd.Deaths, equal_var=False)"
   ]
  },
  {
   "cell_type": "markdown",
   "id": "fdb7a686",
   "metadata": {},
   "source": [
    "## Europe vs Rest of World: Cases"
   ]
  },
  {
   "cell_type": "code",
   "execution_count": 28,
   "id": "9aee64b8",
   "metadata": {},
   "outputs": [
    {
     "data": {
      "text/plain": [
       "69168.8960731707"
      ]
     },
     "execution_count": 28,
     "metadata": {},
     "output_type": "execute_result"
    }
   ],
   "source": [
    "populationEuroc = CovidAllTT[CovidAllTT[\"continent\"] == \"Europe\"]\n",
    "populationEuroc.Cases.mean()"
   ]
  },
  {
   "cell_type": "code",
   "execution_count": 29,
   "id": "67b47762",
   "metadata": {},
   "outputs": [
    {
     "data": {
      "text/plain": [
       "17834.10949230769"
      ]
     },
     "execution_count": 29,
     "metadata": {},
     "output_type": "execute_result"
    }
   ],
   "source": [
    "populationNotEuroc = CovidAllTT[CovidAllTT[\"continent\"] != \"Europe\"]\n",
    "populationNotEuroc.Cases.mean()"
   ]
  },
  {
   "cell_type": "code",
   "execution_count": 30,
   "id": "b84748fd",
   "metadata": {},
   "outputs": [
    {
     "data": {
      "text/plain": [
       "Ttest_indResult(statistic=9.905053622436293, pvalue=4.5901596573022246e-14)"
      ]
     },
     "execution_count": 30,
     "metadata": {},
     "output_type": "execute_result"
    }
   ],
   "source": [
    "# INDEPENDENT T TEST COMPARES THE MEANS FOR 2 GROUPS\n",
    "stats.ttest_ind(populationEuroc.Cases, populationNotEuroc.Cases, equal_var=False)"
   ]
  },
  {
   "cell_type": "markdown",
   "id": "b26e197a",
   "metadata": {},
   "source": [
    "## Europe vs Rest of World: Deaths"
   ]
  },
  {
   "cell_type": "code",
   "execution_count": 31,
   "id": "fcf8262a",
   "metadata": {},
   "outputs": [
    {
     "data": {
      "text/plain": [
       "1356.5372195121952"
      ]
     },
     "execution_count": 31,
     "metadata": {},
     "output_type": "execute_result"
    }
   ],
   "source": [
    "populationEurod = CovidAllTT[CovidAllTT[\"continent\"] == \"Europe\"]\n",
    "populationEurod.Deaths.mean()\n",
    "#populationEurod.describe()"
   ]
  },
  {
   "cell_type": "code",
   "execution_count": 32,
   "id": "21a3b7b1",
   "metadata": {},
   "outputs": [
    {
     "data": {
      "text/plain": [
       "293.4849000000001"
      ]
     },
     "execution_count": 32,
     "metadata": {},
     "output_type": "execute_result"
    }
   ],
   "source": [
    "populationNotEurod = CovidAllTT[CovidAllTT[\"continent\"] != \"Europe\"]\n",
    "populationNotEurod.Deaths.mean()\n",
    "#populationNotEurod.describe()"
   ]
  },
  {
   "cell_type": "code",
   "execution_count": 33,
   "id": "e9b3af30",
   "metadata": {},
   "outputs": [
    {
     "data": {
      "text/plain": [
       "Ttest_indResult(statistic=8.968741484651613, pvalue=5.688654457472939e-12)"
      ]
     },
     "execution_count": 33,
     "metadata": {},
     "output_type": "execute_result"
    }
   ],
   "source": [
    "# INDEPENDENT T TEST COMPARES THE MEANS FOR 2 GROUPS\n",
    "stats.ttest_ind(populationEurod.Deaths, populationNotEurod.Deaths, equal_var=False)"
   ]
  },
  {
   "cell_type": "markdown",
   "id": "dabbc3b8",
   "metadata": {},
   "source": [
    "## Asia vs North America"
   ]
  },
  {
   "cell_type": "code",
   "execution_count": 34,
   "id": "9c17f0aa",
   "metadata": {},
   "outputs": [
    {
     "data": {
      "text/plain": [
       "Ttest_indResult(statistic=0.026658889708524595, pvalue=0.978867262041282)"
      ]
     },
     "execution_count": 34,
     "metadata": {},
     "output_type": "execute_result"
    }
   ],
   "source": [
    "stats.ttest_ind(populationNAc.Cases, populationAsiac.Cases, equal_var=False)"
   ]
  },
  {
   "cell_type": "code",
   "execution_count": 35,
   "id": "4b14ca8a",
   "metadata": {},
   "outputs": [
    {
     "data": {
      "text/plain": [
       "Ttest_indResult(statistic=1.874857283663653, pvalue=0.07300128716132213)"
      ]
     },
     "execution_count": 35,
     "metadata": {},
     "output_type": "execute_result"
    }
   ],
   "source": [
    "stats.ttest_ind(populationNAd.Deaths, populationAsiad.Deaths, equal_var=False)"
   ]
  },
  {
   "cell_type": "markdown",
   "id": "3d3cbdca",
   "metadata": {},
   "source": [
    "## Asia vs Europe"
   ]
  },
  {
   "cell_type": "code",
   "execution_count": 36,
   "id": "f11da056",
   "metadata": {},
   "outputs": [
    {
     "data": {
      "text/plain": [
       "Ttest_indResult(statistic=-6.8800149505865145, pvalue=1.0676572875645407e-09)"
      ]
     },
     "execution_count": 36,
     "metadata": {},
     "output_type": "execute_result"
    }
   ],
   "source": [
    "stats.ttest_ind(populationAsiac.Cases, populationEuroc.Cases, equal_var=False)"
   ]
  },
  {
   "cell_type": "code",
   "execution_count": 37,
   "id": "c2ae55fc",
   "metadata": {},
   "outputs": [
    {
     "data": {
      "text/plain": [
       "Ttest_indResult(statistic=-6.880711272454264, pvalue=1.0420665834986447e-09)"
      ]
     },
     "execution_count": 37,
     "metadata": {},
     "output_type": "execute_result"
    }
   ],
   "source": [
    "stats.ttest_ind(populationAsiac.Cases, populationEuroc.Cases, equal_var=True)"
   ]
  },
  {
   "cell_type": "code",
   "execution_count": 38,
   "id": "27ce7e1e",
   "metadata": {},
   "outputs": [
    {
     "data": {
      "text/plain": [
       "Ttest_indResult(statistic=-9.091479391679734, pvalue=1.3937123978970733e-12)"
      ]
     },
     "execution_count": 38,
     "metadata": {},
     "output_type": "execute_result"
    }
   ],
   "source": [
    "stats.ttest_ind(populationAsiad.Deaths, populationEurod.Deaths, equal_var=False)"
   ]
  },
  {
   "cell_type": "code",
   "execution_count": 39,
   "id": "a50b0755",
   "metadata": {},
   "outputs": [
    {
     "data": {
      "text/plain": [
       "Ttest_indResult(statistic=-9.304290502109781, pvalue=1.6072685530869024e-14)"
      ]
     },
     "execution_count": 39,
     "metadata": {},
     "output_type": "execute_result"
    }
   ],
   "source": [
    "stats.ttest_ind(populationAsiad.Deaths, populationEurod.Deaths, equal_var=True)"
   ]
  },
  {
   "cell_type": "markdown",
   "id": "6dabbb5f",
   "metadata": {},
   "source": [
    "## North American vs Europe: Cases"
   ]
  },
  {
   "cell_type": "code",
   "execution_count": 40,
   "id": "91e56b05",
   "metadata": {},
   "outputs": [
    {
     "data": {
      "text/plain": [
       "Ttest_indResult(statistic=-5.875317142827941, pvalue=6.95209600612438e-07)"
      ]
     },
     "execution_count": 40,
     "metadata": {},
     "output_type": "execute_result"
    }
   ],
   "source": [
    "stats.ttest_ind(populationNAc.Cases, populationEuroc.Cases, equal_var=False)"
   ]
  },
  {
   "cell_type": "code",
   "execution_count": 41,
   "id": "85f13928",
   "metadata": {},
   "outputs": [
    {
     "data": {
      "text/plain": [
       "Ttest_indResult(statistic=-5.570364819297183, pvalue=6.880204670411243e-07)"
      ]
     },
     "execution_count": 41,
     "metadata": {},
     "output_type": "execute_result"
    }
   ],
   "source": [
    "stats.ttest_ind(populationNAc.Cases, populationEuroc.Cases, equal_var=True)"
   ]
  },
  {
   "cell_type": "markdown",
   "id": "d2efa355",
   "metadata": {},
   "source": [
    "## North American vs Europe: Deaths"
   ]
  },
  {
   "cell_type": "code",
   "execution_count": 42,
   "id": "84e65937",
   "metadata": {},
   "outputs": [],
   "source": [
    "#populationNAd.describe()\n",
    "#populationNAd.head(25)"
   ]
  },
  {
   "cell_type": "code",
   "execution_count": 43,
   "id": "3ebc8bee",
   "metadata": {},
   "outputs": [],
   "source": [
    "#populationEurod.describe()\n",
    "#populationEurod.head(25)"
   ]
  },
  {
   "cell_type": "code",
   "execution_count": 44,
   "id": "1d42df1e",
   "metadata": {},
   "outputs": [
    {
     "data": {
      "text/plain": [
       "Ttest_indResult(statistic=-5.172451080213225, pvalue=5.000687844233015e-06)"
      ]
     },
     "execution_count": 44,
     "metadata": {},
     "output_type": "execute_result"
    }
   ],
   "source": [
    "stats.ttest_ind(populationNAd.Deaths, populationEurod.Deaths, equal_var=False)"
   ]
  },
  {
   "cell_type": "code",
   "execution_count": 45,
   "id": "dbbb0b07",
   "metadata": {},
   "outputs": [
    {
     "data": {
      "text/plain": [
       "Ttest_indResult(statistic=-4.666959663916189, pvalue=1.849796333162656e-05)"
      ]
     },
     "execution_count": 45,
     "metadata": {},
     "output_type": "execute_result"
    }
   ],
   "source": [
    "stats.ttest_ind(populationNAd.Deaths, populationEurod.Deaths, equal_var=True)"
   ]
  },
  {
   "cell_type": "markdown",
   "id": "0c128615",
   "metadata": {},
   "source": [
    "# SCHENGEN UNITS"
   ]
  },
  {
   "cell_type": "code",
   "execution_count": 46,
   "id": "2d2a2481",
   "metadata": {},
   "outputs": [],
   "source": [
    "#Schengen countires: Austria, Belgium, Czech Republic, Denmark, Estonia, Finland, France, Germany, Greece, Hungary, Iceland, Italy, Latvia, ,\n",
    "#Liechtenstein, Lithuania, Luxembourg, Malta, Netherlands, Norway, Poland, Portugal, Slovakia, Slovenia, Spain, Sweden, Switzerland.\n",
    "\n",
    "\n",
    "#Non Schengen: Albania, Andora, Armenia, Azerbaijan, Belarus,  Bosnia & Herzegovina, Croatia, Cyprus, Georgia, Ireland, Kosovo, Monaco, North Macedonia, \n",
    "#Moldova, Monaco, Montenegro, Romania, Russia, San Marino, Serbia, Turkey, Ukraine, The United Kingdom and Vatican City."
   ]
  },
  {
   "cell_type": "code",
   "execution_count": 47,
   "id": "054d6aaf",
   "metadata": {},
   "outputs": [],
   "source": [
    "Europe_df = CovidAll.loc[(CovidAll[\"continent\"] ==\"Europe\")]\n",
    "#Europe_df.head()"
   ]
  },
  {
   "cell_type": "code",
   "execution_count": 48,
   "id": "f87d7aad",
   "metadata": {},
   "outputs": [
    {
     "data": {
      "text/html": [
       "<div>\n",
       "<style scoped>\n",
       "    .dataframe tbody tr th:only-of-type {\n",
       "        vertical-align: middle;\n",
       "    }\n",
       "\n",
       "    .dataframe tbody tr th {\n",
       "        vertical-align: top;\n",
       "    }\n",
       "\n",
       "    .dataframe thead th {\n",
       "        text-align: right;\n",
       "    }\n",
       "</style>\n",
       "<table border=\"1\" class=\"dataframe\">\n",
       "  <thead>\n",
       "    <tr style=\"text-align: right;\">\n",
       "      <th></th>\n",
       "      <th>Country</th>\n",
       "      <th>Schengen</th>\n",
       "    </tr>\n",
       "  </thead>\n",
       "  <tbody>\n",
       "    <tr>\n",
       "      <th>1</th>\n",
       "      <td>Albania</td>\n",
       "      <td>Non Schengen</td>\n",
       "    </tr>\n",
       "    <tr>\n",
       "      <th>7</th>\n",
       "      <td>Austria</td>\n",
       "      <td>Schengen</td>\n",
       "    </tr>\n",
       "    <tr>\n",
       "      <th>13</th>\n",
       "      <td>Belarus</td>\n",
       "      <td>Non Schengen</td>\n",
       "    </tr>\n",
       "    <tr>\n",
       "      <th>14</th>\n",
       "      <td>Belgium</td>\n",
       "      <td>Schengen</td>\n",
       "    </tr>\n",
       "    <tr>\n",
       "      <th>18</th>\n",
       "      <td>Bosnia and Herzegovina</td>\n",
       "      <td>Non Schengen</td>\n",
       "    </tr>\n",
       "  </tbody>\n",
       "</table>\n",
       "</div>"
      ],
      "text/plain": [
       "                   Country      Schengen\n",
       "1                  Albania  Non Schengen\n",
       "7                  Austria      Schengen\n",
       "13                 Belarus  Non Schengen\n",
       "14                 Belgium      Schengen\n",
       "18  Bosnia and Herzegovina  Non Schengen"
      ]
     },
     "execution_count": 48,
     "metadata": {},
     "output_type": "execute_result"
    }
   ],
   "source": [
    "Europe_df['Schengen']=''\n",
    "Europe_df.loc[Europe_df[\"Country\"] == \"Austria\" , \"Schengen\"] = \"Schengen\"\n",
    "Europe_df.loc[Europe_df[\"Country\"] == \"Belgium\" , \"Schengen\"] = \"Schengen\"\n",
    "Europe_df.loc[Europe_df[\"Country\"] == \"Czechia\" , \"Schengen\"] = \"Schengen\"\n",
    "Europe_df.loc[Europe_df[\"Country\"] == \"Denmark\" , \"Schengen\"] = \"Schengen\"\n",
    "Europe_df.loc[Europe_df[\"Country\"] == \"Estonia\" , \"Schengen\"] = \"Schengen\"\n",
    "Europe_df.loc[Europe_df[\"Country\"] == \"Finland\" , \"Schengen\"] = \"Schengen\"\n",
    "Europe_df.loc[Europe_df[\"Country\"] == \"France\" , \"Schengen\"] = \"Schengen\"\n",
    "Europe_df.loc[Europe_df[\"Country\"] == \"Germany\" , \"Schengen\"] = \"Schengen\"\n",
    "Europe_df.loc[Europe_df[\"Country\"] == \"Greece\" , \"Schengen\"] = \"Schengen\"\n",
    "Europe_df.loc[Europe_df[\"Country\"] == \"Hungary\" , \"Schengen\"] = \"Schengen\"\n",
    "Europe_df.loc[Europe_df[\"Country\"] == \"Iceland\" , \"Schengen\"] = \"Schengen\"\n",
    "Europe_df.loc[Europe_df[\"Country\"] == \"Italy\" , \"Schengen\"] = \"Schengen\"\n",
    "Europe_df.loc[Europe_df[\"Country\"] == \"Latvia\" , \"Schengen\"] = \"Schengen\"\n",
    "Europe_df.loc[Europe_df[\"Country\"] == \"Liechtenstein\" , \"Schengen\"] = \"Schengen\"\n",
    "Europe_df.loc[Europe_df[\"Country\"] == \"Lithuania\" , \"Schengen\"] = \"Schengen\"\n",
    "Europe_df.loc[Europe_df[\"Country\"] == \"Luxembourg\" , \"Schengen\"] = \"Schengen\"\n",
    "Europe_df.loc[Europe_df[\"Country\"] == \"Malta\" , \"Schengen\"] = \"Schengen\"\n",
    "Europe_df.loc[Europe_df[\"Country\"] == \"Netherlands\" , \"Schengen\"] = \"Schengen\"\n",
    "Europe_df.loc[Europe_df[\"Country\"] == \"Norway\" , \"Schengen\"] = \"Schengen\"\n",
    "Europe_df.loc[Europe_df[\"Country\"] == \"Poland\" , \"Schengen\"] = \"Schengen\"\n",
    "Europe_df.loc[Europe_df[\"Country\"] == \"Portugal\" , \"Schengen\"] = \"Schengen\"\n",
    "Europe_df.loc[Europe_df[\"Country\"] == \"Slovakia\" , \"Schengen\"] = \"Schengen\"\n",
    "Europe_df.loc[Europe_df[\"Country\"] == \"Slovenia\" , \"Schengen\"] = \"Schengen\"\n",
    "Europe_df.loc[Europe_df[\"Country\"] == \"Spain\" , \"Schengen\"] = \"Schengen\"\n",
    "Europe_df.loc[Europe_df[\"Country\"] == \"Sweden\" , \"Schengen\"] = \"Schengen\"\n",
    "Europe_df.loc[Europe_df[\"Country\"] == \"Switzerland\" , \"Schengen\"] = \"Schengen\"\n",
    "Europe_df.loc[Europe_df[\"Country\"] == \"Albania\" , \"Schengen\"] = \"Non Schengen\"\n",
    "Europe_df.loc[Europe_df[\"Country\"] == \"Andora\" , \"Schengen\"] = \"Non Schengen\"\n",
    "Europe_df.loc[Europe_df[\"Country\"] == \"Armenia\" , \"Schengen\"] = \"Non Schengen\"\n",
    "Europe_df.loc[Europe_df[\"Country\"] == \"Azerbaijan\" , \"Schengen\"] = \"Non Schengen\"\n",
    "Europe_df.loc[Europe_df[\"Country\"] == \"Belarus\" , \"Schengen\"] = \"Non Schengen\"\n",
    "Europe_df.loc[Europe_df[\"Country\"] == \"Bosnia and Herzegovina\" , \"Schengen\"] = \"Non Schengen\"\n",
    "Europe_df.loc[Europe_df[\"Country\"] == \"Bulgaria\" , \"Schengen\"] = \"Non Schengen\"\n",
    "Europe_df.loc[Europe_df[\"Country\"] == \"Croatia\" , \"Schengen\"] = \"Non Schengen\"\n",
    "Europe_df.loc[Europe_df[\"Country\"] == \"Cyprus\" , \"Schengen\"] = \"Non Schengen\"\n",
    "Europe_df.loc[Europe_df[\"Country\"] == \"Georgia\" , \"Schengen\"] = \"Non Schengen\"\n",
    "Europe_df.loc[Europe_df[\"Country\"] == \"Ireland\" , \"Schengen\"] = \"Non Schengen\"\n",
    "Europe_df.loc[Europe_df[\"Country\"] == \"Kosovo\" , \"Schengen\"] = \"Non Schengen\"\n",
    "Europe_df.loc[Europe_df[\"Country\"] == \"Monaco\" , \"Schengen\"] = \"Non Schengen\"\n",
    "Europe_df.loc[Europe_df[\"Country\"] == \"North Macedonia\" , \"Schengen\"] = \"Non Schengen\"\n",
    "Europe_df.loc[Europe_df[\"Country\"] == \"Moldova\" , \"Schengen\"] = \"Non Schengen\"\n",
    "Europe_df.loc[Europe_df[\"Country\"] == \"Monaco\" , \"Schengen\"] = \"Non Schengen\"\n",
    "Europe_df.loc[Europe_df[\"Country\"] == \"Montenegro\" , \"Schengen\"] = \"Non Schengen\"\n",
    "Europe_df.loc[Europe_df[\"Country\"] == \"Romania\" , \"Schengen\"] = \"Non Schengen\"\n",
    "Europe_df.loc[Europe_df[\"Country\"] == \"Russia\" , \"Schengen\"] = \"Non Schengen\"\n",
    "Europe_df.loc[Europe_df[\"Country\"] == \"San Marino\" , \"Schengen\"] = \"Non Schengen\"\n",
    "Europe_df.loc[Europe_df[\"Country\"] == \"Serbia\" , \"Schengen\"] = \"Non Schengen\"\n",
    "Europe_df.loc[Europe_df[\"Country\"] == \"Turkey\" , \"Schengen\"] = \"Non Schengen\"\n",
    "Europe_df.loc[Europe_df[\"Country\"] == \"Ukraine\" , \"Schengen\"] = \"Non Schengen\"\n",
    "Europe_df.loc[Europe_df[\"Country\"] == \"United Kingdom\" , \"Schengen\"] = \"Non Schengen\"\n",
    "Europe_df.loc[Europe_df[\"Country\"] == \"Vatican City\" , \"Schengen\"] = \"Non Schengen\"\n",
    "#Europe_df\n",
    "Europe2_df = Europe_df [[\"Country\", \"Schengen\"]]\n",
    "Europe2_df.head()"
   ]
  },
  {
   "cell_type": "markdown",
   "id": "d1c2dbe8",
   "metadata": {},
   "source": [
    "# RECALCULATING BASED ON REGROUPING OF SCHENGEN UNITS"
   ]
  },
  {
   "cell_type": "code",
   "execution_count": 49,
   "id": "32aca796",
   "metadata": {},
   "outputs": [
    {
     "data": {
      "text/html": [
       "<div>\n",
       "<style scoped>\n",
       "    .dataframe tbody tr th:only-of-type {\n",
       "        vertical-align: middle;\n",
       "    }\n",
       "\n",
       "    .dataframe tbody tr th {\n",
       "        vertical-align: top;\n",
       "    }\n",
       "\n",
       "    .dataframe thead th {\n",
       "        text-align: right;\n",
       "    }\n",
       "</style>\n",
       "<table border=\"1\" class=\"dataframe\">\n",
       "  <thead>\n",
       "    <tr style=\"text-align: right;\">\n",
       "      <th></th>\n",
       "      <th>iso_code</th>\n",
       "      <th>continent</th>\n",
       "      <th>Country</th>\n",
       "      <th>date</th>\n",
       "      <th>Cases</th>\n",
       "      <th>Deaths</th>\n",
       "      <th>Vaxxed</th>\n",
       "      <th>Population</th>\n",
       "      <th>Density</th>\n",
       "      <th>GDP</th>\n",
       "      <th>HDI</th>\n",
       "      <th>Score</th>\n",
       "      <th>Rank</th>\n",
       "    </tr>\n",
       "  </thead>\n",
       "  <tbody>\n",
       "    <tr>\n",
       "      <th>0</th>\n",
       "      <td>AFG</td>\n",
       "      <td>Asia</td>\n",
       "      <td>Afghanistan</td>\n",
       "      <td>2021-04-27</td>\n",
       "      <td>1521.385</td>\n",
       "      <td>66.738</td>\n",
       "      <td>NaN</td>\n",
       "      <td>38928341.0</td>\n",
       "      <td>54.422</td>\n",
       "      <td>1803.987</td>\n",
       "      <td>0.511</td>\n",
       "      <td>19.0</td>\n",
       "      <td>165.0</td>\n",
       "    </tr>\n",
       "    <tr>\n",
       "      <th>1</th>\n",
       "      <td>ALB</td>\n",
       "      <td>Europe</td>\n",
       "      <td>Albania</td>\n",
       "      <td>2021-04-27</td>\n",
       "      <td>45429.147</td>\n",
       "      <td>828.063</td>\n",
       "      <td>NaN</td>\n",
       "      <td>2877800.0</td>\n",
       "      <td>104.871</td>\n",
       "      <td>11803.431</td>\n",
       "      <td>0.795</td>\n",
       "      <td>36.0</td>\n",
       "      <td>104.0</td>\n",
       "    </tr>\n",
       "    <tr>\n",
       "      <th>2</th>\n",
       "      <td>DZA</td>\n",
       "      <td>Africa</td>\n",
       "      <td>Algeria</td>\n",
       "      <td>2021-04-27</td>\n",
       "      <td>2767.186</td>\n",
       "      <td>73.544</td>\n",
       "      <td>NaN</td>\n",
       "      <td>43851043.0</td>\n",
       "      <td>17.348</td>\n",
       "      <td>13913.839</td>\n",
       "      <td>0.748</td>\n",
       "      <td>36.0</td>\n",
       "      <td>104.0</td>\n",
       "    </tr>\n",
       "    <tr>\n",
       "      <th>3</th>\n",
       "      <td>AGO</td>\n",
       "      <td>Africa</td>\n",
       "      <td>Angola</td>\n",
       "      <td>2021-04-27</td>\n",
       "      <td>789.320</td>\n",
       "      <td>17.860</td>\n",
       "      <td>NaN</td>\n",
       "      <td>32866268.0</td>\n",
       "      <td>23.890</td>\n",
       "      <td>5819.495</td>\n",
       "      <td>0.581</td>\n",
       "      <td>27.0</td>\n",
       "      <td>142.0</td>\n",
       "    </tr>\n",
       "    <tr>\n",
       "      <th>4</th>\n",
       "      <td>ARG</td>\n",
       "      <td>South America</td>\n",
       "      <td>Argentina</td>\n",
       "      <td>2021-04-27</td>\n",
       "      <td>64279.722</td>\n",
       "      <td>1385.063</td>\n",
       "      <td>1.95</td>\n",
       "      <td>45195777.0</td>\n",
       "      <td>16.177</td>\n",
       "      <td>18933.907</td>\n",
       "      <td>0.845</td>\n",
       "      <td>42.0</td>\n",
       "      <td>78.0</td>\n",
       "    </tr>\n",
       "  </tbody>\n",
       "</table>\n",
       "</div>"
      ],
      "text/plain": [
       "  iso_code      continent      Country        date      Cases    Deaths  \\\n",
       "0      AFG           Asia  Afghanistan  2021-04-27   1521.385    66.738   \n",
       "1      ALB         Europe      Albania  2021-04-27  45429.147   828.063   \n",
       "2      DZA         Africa      Algeria  2021-04-27   2767.186    73.544   \n",
       "3      AGO         Africa       Angola  2021-04-27    789.320    17.860   \n",
       "4      ARG  South America    Argentina  2021-04-27  64279.722  1385.063   \n",
       "\n",
       "   Vaxxed  Population  Density        GDP    HDI  Score   Rank  \n",
       "0     NaN  38928341.0   54.422   1803.987  0.511   19.0  165.0  \n",
       "1     NaN   2877800.0  104.871  11803.431  0.795   36.0  104.0  \n",
       "2     NaN  43851043.0   17.348  13913.839  0.748   36.0  104.0  \n",
       "3     NaN  32866268.0   23.890   5819.495  0.581   27.0  142.0  \n",
       "4    1.95  45195777.0   16.177  18933.907  0.845   42.0   78.0  "
      ]
     },
     "execution_count": 49,
     "metadata": {},
     "output_type": "execute_result"
    }
   ],
   "source": [
    "CovidAllTT.head()"
   ]
  },
  {
   "cell_type": "code",
   "execution_count": 50,
   "id": "390bdfc7",
   "metadata": {},
   "outputs": [
    {
     "data": {
      "text/html": [
       "<div>\n",
       "<style scoped>\n",
       "    .dataframe tbody tr th:only-of-type {\n",
       "        vertical-align: middle;\n",
       "    }\n",
       "\n",
       "    .dataframe tbody tr th {\n",
       "        vertical-align: top;\n",
       "    }\n",
       "\n",
       "    .dataframe thead th {\n",
       "        text-align: right;\n",
       "    }\n",
       "</style>\n",
       "<table border=\"1\" class=\"dataframe\">\n",
       "  <thead>\n",
       "    <tr style=\"text-align: right;\">\n",
       "      <th></th>\n",
       "      <th>iso_code</th>\n",
       "      <th>continent</th>\n",
       "      <th>Country</th>\n",
       "      <th>date</th>\n",
       "      <th>Cases</th>\n",
       "      <th>Deaths</th>\n",
       "      <th>Vaxxed</th>\n",
       "      <th>Population</th>\n",
       "      <th>Density</th>\n",
       "      <th>GDP</th>\n",
       "      <th>HDI</th>\n",
       "      <th>Score</th>\n",
       "      <th>Rank</th>\n",
       "      <th>Schengen</th>\n",
       "    </tr>\n",
       "  </thead>\n",
       "  <tbody>\n",
       "    <tr>\n",
       "      <th>0</th>\n",
       "      <td>ALB</td>\n",
       "      <td>Europe</td>\n",
       "      <td>Albania</td>\n",
       "      <td>2021-04-27</td>\n",
       "      <td>45429.147</td>\n",
       "      <td>828.063</td>\n",
       "      <td>NaN</td>\n",
       "      <td>2877800.0</td>\n",
       "      <td>104.871</td>\n",
       "      <td>11803.431</td>\n",
       "      <td>0.795</td>\n",
       "      <td>36.0</td>\n",
       "      <td>104.0</td>\n",
       "      <td>Non Schengen</td>\n",
       "    </tr>\n",
       "    <tr>\n",
       "      <th>1</th>\n",
       "      <td>AUT</td>\n",
       "      <td>Europe</td>\n",
       "      <td>Austria</td>\n",
       "      <td>2021-04-27</td>\n",
       "      <td>67970.554</td>\n",
       "      <td>1124.312</td>\n",
       "      <td>8.91</td>\n",
       "      <td>9006400.0</td>\n",
       "      <td>106.749</td>\n",
       "      <td>45436.686</td>\n",
       "      <td>0.922</td>\n",
       "      <td>76.0</td>\n",
       "      <td>15.0</td>\n",
       "      <td>Schengen</td>\n",
       "    </tr>\n",
       "    <tr>\n",
       "      <th>2</th>\n",
       "      <td>BLR</td>\n",
       "      <td>Europe</td>\n",
       "      <td>Belarus</td>\n",
       "      <td>2021-04-27</td>\n",
       "      <td>37533.808</td>\n",
       "      <td>265.839</td>\n",
       "      <td>NaN</td>\n",
       "      <td>9449321.0</td>\n",
       "      <td>46.858</td>\n",
       "      <td>17167.967</td>\n",
       "      <td>0.823</td>\n",
       "      <td>47.0</td>\n",
       "      <td>63.0</td>\n",
       "      <td>Non Schengen</td>\n",
       "    </tr>\n",
       "    <tr>\n",
       "      <th>3</th>\n",
       "      <td>BEL</td>\n",
       "      <td>Europe</td>\n",
       "      <td>Belgium</td>\n",
       "      <td>2021-04-27</td>\n",
       "      <td>84475.103</td>\n",
       "      <td>2079.793</td>\n",
       "      <td>6.74</td>\n",
       "      <td>11589616.0</td>\n",
       "      <td>375.564</td>\n",
       "      <td>42658.576</td>\n",
       "      <td>0.931</td>\n",
       "      <td>76.0</td>\n",
       "      <td>15.0</td>\n",
       "      <td>Schengen</td>\n",
       "    </tr>\n",
       "    <tr>\n",
       "      <th>4</th>\n",
       "      <td>BIH</td>\n",
       "      <td>Europe</td>\n",
       "      <td>Bosnia and Herzegovina</td>\n",
       "      <td>2021-04-27</td>\n",
       "      <td>59964.369</td>\n",
       "      <td>2565.826</td>\n",
       "      <td>NaN</td>\n",
       "      <td>3280815.0</td>\n",
       "      <td>68.496</td>\n",
       "      <td>11713.895</td>\n",
       "      <td>0.780</td>\n",
       "      <td>35.0</td>\n",
       "      <td>111.0</td>\n",
       "      <td>Non Schengen</td>\n",
       "    </tr>\n",
       "  </tbody>\n",
       "</table>\n",
       "</div>"
      ],
      "text/plain": [
       "  iso_code continent                 Country        date      Cases    Deaths  \\\n",
       "0      ALB    Europe                 Albania  2021-04-27  45429.147   828.063   \n",
       "1      AUT    Europe                 Austria  2021-04-27  67970.554  1124.312   \n",
       "2      BLR    Europe                 Belarus  2021-04-27  37533.808   265.839   \n",
       "3      BEL    Europe                 Belgium  2021-04-27  84475.103  2079.793   \n",
       "4      BIH    Europe  Bosnia and Herzegovina  2021-04-27  59964.369  2565.826   \n",
       "\n",
       "   Vaxxed  Population  Density        GDP    HDI  Score   Rank      Schengen  \n",
       "0     NaN   2877800.0  104.871  11803.431  0.795   36.0  104.0  Non Schengen  \n",
       "1    8.91   9006400.0  106.749  45436.686  0.922   76.0   15.0      Schengen  \n",
       "2     NaN   9449321.0   46.858  17167.967  0.823   47.0   63.0  Non Schengen  \n",
       "3    6.74  11589616.0  375.564  42658.576  0.931   76.0   15.0      Schengen  \n",
       "4     NaN   3280815.0   68.496  11713.895  0.780   35.0  111.0  Non Schengen  "
      ]
     },
     "execution_count": 50,
     "metadata": {},
     "output_type": "execute_result"
    }
   ],
   "source": [
    "EuroSchengen = pd.merge(CovidAllTT, Europe2_df, on = [\"Country\"], how = \"inner\")\n",
    "EuroSchengen.head()"
   ]
  },
  {
   "cell_type": "markdown",
   "id": "4840d257",
   "metadata": {},
   "source": [
    "## Schengen T-Tests: Cases"
   ]
  },
  {
   "cell_type": "code",
   "execution_count": 66,
   "id": "a9c2f7d2",
   "metadata": {},
   "outputs": [
    {
     "data": {
      "text/plain": [
       "71616.99668"
      ]
     },
     "execution_count": 66,
     "metadata": {},
     "output_type": "execute_result"
    }
   ],
   "source": [
    "populationEuropeS = EuroSchengen[EuroSchengen[\"Schengen\"] == \"Schengen\"]\n",
    "populationEuropeS.Cases.mean()"
   ]
  },
  {
   "cell_type": "code",
   "execution_count": 67,
   "id": "9d8e0b5d",
   "metadata": {},
   "outputs": [
    {
     "data": {
      "text/plain": [
       "65343.738874999995"
      ]
     },
     "execution_count": 67,
     "metadata": {},
     "output_type": "execute_result"
    }
   ],
   "source": [
    "populationEuropeNS = EuroSchengen[EuroSchengen[\"Schengen\"] == \"Non Schengen\"]\n",
    "populationEuropeNS.Cases.mean()"
   ]
  },
  {
   "cell_type": "code",
   "execution_count": 68,
   "id": "e8b6432c",
   "metadata": {},
   "outputs": [
    {
     "data": {
      "text/plain": [
       "Ttest_indResult(statistic=0.655742151332363, pvalue=0.5164174659818122)"
      ]
     },
     "execution_count": 68,
     "metadata": {},
     "output_type": "execute_result"
    }
   ],
   "source": [
    "# INDEPENDENT T TEST COMPARES THE MEANS FOR 2 GROUPS\n",
    "stats.ttest_ind(populationEuropeS.Cases, populationEuropeNS.Cases, equal_var=False)"
   ]
  },
  {
   "cell_type": "markdown",
   "id": "8ab4e686",
   "metadata": {},
   "source": [
    "## Schengen T-Tests: Deaths"
   ]
  },
  {
   "cell_type": "code",
   "execution_count": 69,
   "id": "528968fa",
   "metadata": {},
   "outputs": [
    {
     "data": {
      "text/plain": [
       "1337.4416800000001"
      ]
     },
     "execution_count": 69,
     "metadata": {},
     "output_type": "execute_result"
    }
   ],
   "source": [
    "populationEuropeS = EuroSchengen[EuroSchengen[\"Schengen\"] == \"Schengen\"]\n",
    "populationEuropeS.Deaths.mean()"
   ]
  },
  {
   "cell_type": "code",
   "execution_count": 70,
   "id": "17b26dbb",
   "metadata": {},
   "outputs": [
    {
     "data": {
      "text/plain": [
       "1386.374"
      ]
     },
     "execution_count": 70,
     "metadata": {},
     "output_type": "execute_result"
    }
   ],
   "source": [
    "populationEuropeNS = EuroSchengen[EuroSchengen[\"Schengen\"] == \"Non Schengen\"]\n",
    "populationEuropeNS.Deaths.mean()"
   ]
  },
  {
   "cell_type": "code",
   "execution_count": 71,
   "id": "ab81f870",
   "metadata": {},
   "outputs": [
    {
     "data": {
      "text/plain": [
       "Ttest_indResult(statistic=-0.2099413367086121, pvalue=0.8350488142105746)"
      ]
     },
     "execution_count": 71,
     "metadata": {},
     "output_type": "execute_result"
    }
   ],
   "source": [
    "# INDEPENDENT T TEST COMPARES THE MEANS FOR 2 GROUPS\n",
    "stats.ttest_ind(populationEuropeS.Deaths, populationEuropeNS.Deaths, equal_var=False)"
   ]
  },
  {
   "cell_type": "code",
   "execution_count": 74,
   "id": "63045451",
   "metadata": {},
   "outputs": [
    {
     "data": {
      "image/png": "[encoded data removed]",
      "text/plain": [
       "<Figure size 864x576 with 1 Axes>"
      ]
     },
     "metadata": {},
     "output_type": "display_data"
    }
   ],
   "source": [
    "# Marsja, Erik. “Four Ways to Conduct One-Way ANOVA with Python.” Erik Marsja, 19 Nov. 2020, \n",
    "# www.marsja.se/four-ways-to-conduct-one-way-anovas-using-python/#:~:text=%20ANOVA%20in%20Python%20using%20Statsmodels%20%201,carry%20out%20the%20ANOVA%20in%20Python%0ASave%20More%20.\n",
    "\n",
    "# Set up Outlier Markers\n",
    "red_diamond = dict(markerfacecolor='r', marker='D')\n",
    "\n",
    "#Create a boxplot\n",
    "EuroSchengen.boxplot('Cases', by='Schengen', figsize=(12, 8), flierprops = red_diamond)\n",
    "\n",
    "# ctrl = CovidEuro['Cases/M'][CovidEuro.Region == 'ctrl']\n",
    "grps = pd.unique(EuroSchengen.Schengen.values)\n",
    "d_data = {grp:EuroSchengen['Cases'][EuroSchengen.Schengen == grp] for grp in grps}\n",
    "\n",
    "k = len(pd.unique(EuroSchengen.Schengen))  # number of conditions\n",
    "N = len(EuroSchengen.values)  # conditions times participants\n",
    "n = EuroSchengen.groupby('Schengen').size()[0] #Participants in each condition\n",
    "plt.title (\"Cases per Million grouped by Schengen Region\")\n",
    "plt.ylabel (\"Cases per Million\")\n",
    "\n",
    "# Print\n",
    "plt.savefig(\"Output/BoxplotSchengen.png\")"
   ]
  },
  {
   "cell_type": "code",
   "execution_count": 75,
   "id": "d35c5550",
   "metadata": {},
   "outputs": [
    {
     "data": {
      "text/plain": [
       "Ttest_indResult(statistic=-0.655742151332363, pvalue=0.5164174659818122)"
      ]
     },
     "execution_count": 75,
     "metadata": {},
     "output_type": "execute_result"
    }
   ],
   "source": [
    "# INDEPENDENT T TEST COMPARES THE MEANS FOR 2 GROUPS\n",
    "st.ttest_ind(populationEuropeNS.Cases, populationEuropeS.Cases, equal_var=False)"
   ]
  },
  {
   "cell_type": "markdown",
   "id": "a7278255",
   "metadata": {},
   "source": [
    "# MORE MAPS"
   ]
  },
  {
   "cell_type": "code",
   "execution_count": 57,
   "id": "359e84e1",
   "metadata": {},
   "outputs": [],
   "source": [
    "MapsFrame = CovidAll.copy()\n",
    "#MapsFrame.dtypes\n",
    "#MapsFrame[\"country\"].unique()\n",
    "#MapsFrame.head()"
   ]
  },
  {
   "cell_type": "code",
   "execution_count": 58,
   "id": "e31a1475",
   "metadata": {},
   "outputs": [
    {
     "data": {
      "text/html": [
       "<div>\n",
       "<style scoped>\n",
       "    .dataframe tbody tr th:only-of-type {\n",
       "        vertical-align: middle;\n",
       "    }\n",
       "\n",
       "    .dataframe tbody tr th {\n",
       "        vertical-align: top;\n",
       "    }\n",
       "\n",
       "    .dataframe thead th {\n",
       "        text-align: right;\n",
       "    }\n",
       "</style>\n",
       "<table border=\"1\" class=\"dataframe\">\n",
       "  <thead>\n",
       "    <tr style=\"text-align: right;\">\n",
       "      <th></th>\n",
       "      <th>latitude</th>\n",
       "      <th>longitude</th>\n",
       "      <th>country</th>\n",
       "      <th>Unnamed: 3</th>\n",
       "      <th>Unnamed: 4</th>\n",
       "      <th>Unnamed: 5</th>\n",
       "      <th>Unnamed: 6</th>\n",
       "    </tr>\n",
       "  </thead>\n",
       "  <tbody>\n",
       "    <tr>\n",
       "      <th>0</th>\n",
       "      <td>33.939110</td>\n",
       "      <td>67.709953</td>\n",
       "      <td>Afghanistan</td>\n",
       "      <td>NaN</td>\n",
       "      <td>NaN</td>\n",
       "      <td>NaN</td>\n",
       "      <td>NaN</td>\n",
       "    </tr>\n",
       "    <tr>\n",
       "      <th>1</th>\n",
       "      <td>41.153332</td>\n",
       "      <td>20.168331</td>\n",
       "      <td>Albania</td>\n",
       "      <td>NaN</td>\n",
       "      <td>NaN</td>\n",
       "      <td>NaN</td>\n",
       "      <td>NaN</td>\n",
       "    </tr>\n",
       "    <tr>\n",
       "      <th>2</th>\n",
       "      <td>28.033886</td>\n",
       "      <td>1.659626</td>\n",
       "      <td>Algeria</td>\n",
       "      <td>NaN</td>\n",
       "      <td>NaN</td>\n",
       "      <td>NaN</td>\n",
       "      <td>NaN</td>\n",
       "    </tr>\n",
       "    <tr>\n",
       "      <th>3</th>\n",
       "      <td>42.546245</td>\n",
       "      <td>1.601554</td>\n",
       "      <td>Andorra</td>\n",
       "      <td>NaN</td>\n",
       "      <td>NaN</td>\n",
       "      <td>NaN</td>\n",
       "      <td>NaN</td>\n",
       "    </tr>\n",
       "    <tr>\n",
       "      <th>4</th>\n",
       "      <td>-11.202692</td>\n",
       "      <td>17.873887</td>\n",
       "      <td>Angola</td>\n",
       "      <td>NaN</td>\n",
       "      <td>NaN</td>\n",
       "      <td>NaN</td>\n",
       "      <td>NaN</td>\n",
       "    </tr>\n",
       "  </tbody>\n",
       "</table>\n",
       "</div>"
      ],
      "text/plain": [
       "    latitude  longitude      country  Unnamed: 3  Unnamed: 4  Unnamed: 5  \\\n",
       "0  33.939110  67.709953  Afghanistan         NaN         NaN         NaN   \n",
       "1  41.153332  20.168331      Albania         NaN         NaN         NaN   \n",
       "2  28.033886   1.659626      Algeria         NaN         NaN         NaN   \n",
       "3  42.546245   1.601554      Andorra         NaN         NaN         NaN   \n",
       "4 -11.202692  17.873887       Angola         NaN         NaN         NaN   \n",
       "\n",
       "   Unnamed: 6  \n",
       "0         NaN  \n",
       "1         NaN  \n",
       "2         NaN  \n",
       "3         NaN  \n",
       "4         NaN  "
      ]
     },
     "execution_count": 58,
     "metadata": {},
     "output_type": "execute_result"
    }
   ],
   "source": [
    "latlong_df = pd.read_csv(\"Resources/Country Coordinates.csv\")\n",
    "latlong_df.head()"
   ]
  },
  {
   "cell_type": "code",
   "execution_count": 59,
   "id": "bd3d1c2d",
   "metadata": {},
   "outputs": [
    {
     "data": {
      "text/html": [
       "<div>\n",
       "<style scoped>\n",
       "    .dataframe tbody tr th:only-of-type {\n",
       "        vertical-align: middle;\n",
       "    }\n",
       "\n",
       "    .dataframe tbody tr th {\n",
       "        vertical-align: top;\n",
       "    }\n",
       "\n",
       "    .dataframe thead th {\n",
       "        text-align: right;\n",
       "    }\n",
       "</style>\n",
       "<table border=\"1\" class=\"dataframe\">\n",
       "  <thead>\n",
       "    <tr style=\"text-align: right;\">\n",
       "      <th></th>\n",
       "      <th>latitude</th>\n",
       "      <th>longitude</th>\n",
       "      <th>country</th>\n",
       "    </tr>\n",
       "  </thead>\n",
       "  <tbody>\n",
       "    <tr>\n",
       "      <th>0</th>\n",
       "      <td>33.939110</td>\n",
       "      <td>67.709953</td>\n",
       "      <td>Afghanistan</td>\n",
       "    </tr>\n",
       "    <tr>\n",
       "      <th>1</th>\n",
       "      <td>41.153332</td>\n",
       "      <td>20.168331</td>\n",
       "      <td>Albania</td>\n",
       "    </tr>\n",
       "    <tr>\n",
       "      <th>2</th>\n",
       "      <td>28.033886</td>\n",
       "      <td>1.659626</td>\n",
       "      <td>Algeria</td>\n",
       "    </tr>\n",
       "    <tr>\n",
       "      <th>3</th>\n",
       "      <td>42.546245</td>\n",
       "      <td>1.601554</td>\n",
       "      <td>Andorra</td>\n",
       "    </tr>\n",
       "    <tr>\n",
       "      <th>4</th>\n",
       "      <td>-11.202692</td>\n",
       "      <td>17.873887</td>\n",
       "      <td>Angola</td>\n",
       "    </tr>\n",
       "  </tbody>\n",
       "</table>\n",
       "</div>"
      ],
      "text/plain": [
       "    latitude  longitude      country\n",
       "0  33.939110  67.709953  Afghanistan\n",
       "1  41.153332  20.168331      Albania\n",
       "2  28.033886   1.659626      Algeria\n",
       "3  42.546245   1.601554      Andorra\n",
       "4 -11.202692  17.873887       Angola"
      ]
     },
     "execution_count": 59,
     "metadata": {},
     "output_type": "execute_result"
    }
   ],
   "source": [
    "#TRY TO NOT RERUN THIS AFTER THE FIRST KERNAL RE-START BECAUSE IT MAKES YOU RESTART THE KERNAL EVERY TIME!\n",
    "del latlong_df[\"Unnamed: 3\"]\n",
    "del latlong_df[\"Unnamed: 4\"]\n",
    "del latlong_df[\"Unnamed: 5\"]\n",
    "del latlong_df[\"Unnamed: 6\"]\n",
    "latlong_df.head()"
   ]
  },
  {
   "cell_type": "code",
   "execution_count": 60,
   "id": "5fcf5bf0",
   "metadata": {},
   "outputs": [
    {
     "data": {
      "text/html": [
       "<div>\n",
       "<style scoped>\n",
       "    .dataframe tbody tr th:only-of-type {\n",
       "        vertical-align: middle;\n",
       "    }\n",
       "\n",
       "    .dataframe tbody tr th {\n",
       "        vertical-align: top;\n",
       "    }\n",
       "\n",
       "    .dataframe thead th {\n",
       "        text-align: right;\n",
       "    }\n",
       "</style>\n",
       "<table border=\"1\" class=\"dataframe\">\n",
       "  <thead>\n",
       "    <tr style=\"text-align: right;\">\n",
       "      <th></th>\n",
       "      <th>latitude</th>\n",
       "      <th>longitude</th>\n",
       "      <th>Country</th>\n",
       "    </tr>\n",
       "  </thead>\n",
       "  <tbody>\n",
       "    <tr>\n",
       "      <th>0</th>\n",
       "      <td>33.939110</td>\n",
       "      <td>67.709953</td>\n",
       "      <td>Afghanistan</td>\n",
       "    </tr>\n",
       "    <tr>\n",
       "      <th>1</th>\n",
       "      <td>41.153332</td>\n",
       "      <td>20.168331</td>\n",
       "      <td>Albania</td>\n",
       "    </tr>\n",
       "    <tr>\n",
       "      <th>2</th>\n",
       "      <td>28.033886</td>\n",
       "      <td>1.659626</td>\n",
       "      <td>Algeria</td>\n",
       "    </tr>\n",
       "    <tr>\n",
       "      <th>3</th>\n",
       "      <td>42.546245</td>\n",
       "      <td>1.601554</td>\n",
       "      <td>Andorra</td>\n",
       "    </tr>\n",
       "    <tr>\n",
       "      <th>4</th>\n",
       "      <td>-11.202692</td>\n",
       "      <td>17.873887</td>\n",
       "      <td>Angola</td>\n",
       "    </tr>\n",
       "  </tbody>\n",
       "</table>\n",
       "</div>"
      ],
      "text/plain": [
       "    latitude  longitude      Country\n",
       "0  33.939110  67.709953  Afghanistan\n",
       "1  41.153332  20.168331      Albania\n",
       "2  28.033886   1.659626      Algeria\n",
       "3  42.546245   1.601554      Andorra\n",
       "4 -11.202692  17.873887       Angola"
      ]
     },
     "execution_count": 60,
     "metadata": {},
     "output_type": "execute_result"
    }
   ],
   "source": [
    "#In MapsFrame it is \"Country\" and in latlong_df it is \"country\"\n",
    "latlong_df=latlong_df.rename(columns = {\"country\" : \"Country\"})\n",
    "latlong_df.head()"
   ]
  },
  {
   "cell_type": "code",
   "execution_count": 61,
   "id": "df721297",
   "metadata": {},
   "outputs": [
    {
     "data": {
      "text/html": [
       "<div>\n",
       "<style scoped>\n",
       "    .dataframe tbody tr th:only-of-type {\n",
       "        vertical-align: middle;\n",
       "    }\n",
       "\n",
       "    .dataframe tbody tr th {\n",
       "        vertical-align: top;\n",
       "    }\n",
       "\n",
       "    .dataframe thead th {\n",
       "        text-align: right;\n",
       "    }\n",
       "</style>\n",
       "<table border=\"1\" class=\"dataframe\">\n",
       "  <thead>\n",
       "    <tr style=\"text-align: right;\">\n",
       "      <th></th>\n",
       "      <th>iso_code</th>\n",
       "      <th>continent</th>\n",
       "      <th>Country</th>\n",
       "      <th>date</th>\n",
       "      <th>Cases</th>\n",
       "      <th>Deaths</th>\n",
       "      <th>Vaxxed</th>\n",
       "      <th>Population</th>\n",
       "      <th>Density</th>\n",
       "      <th>GDP</th>\n",
       "      <th>HDI</th>\n",
       "      <th>Score</th>\n",
       "      <th>Rank</th>\n",
       "      <th>latitude</th>\n",
       "      <th>longitude</th>\n",
       "    </tr>\n",
       "  </thead>\n",
       "  <tbody>\n",
       "    <tr>\n",
       "      <th>170</th>\n",
       "      <td>VEN</td>\n",
       "      <td>South America</td>\n",
       "      <td>Venezuela</td>\n",
       "      <td>2021-04-27</td>\n",
       "      <td>6812.540</td>\n",
       "      <td>73.217</td>\n",
       "      <td>NaN</td>\n",
       "      <td>28435943.0</td>\n",
       "      <td>36.253</td>\n",
       "      <td>16745.022</td>\n",
       "      <td>0.711</td>\n",
       "      <td>15.0</td>\n",
       "      <td>176.0</td>\n",
       "      <td>6.423750</td>\n",
       "      <td>-66.589730</td>\n",
       "    </tr>\n",
       "    <tr>\n",
       "      <th>171</th>\n",
       "      <td>VNM</td>\n",
       "      <td>Asia</td>\n",
       "      <td>Vietnam</td>\n",
       "      <td>2021-04-27</td>\n",
       "      <td>29.351</td>\n",
       "      <td>0.360</td>\n",
       "      <td>NaN</td>\n",
       "      <td>97338583.0</td>\n",
       "      <td>308.127</td>\n",
       "      <td>6171.884</td>\n",
       "      <td>0.704</td>\n",
       "      <td>36.0</td>\n",
       "      <td>104.0</td>\n",
       "      <td>14.058324</td>\n",
       "      <td>108.277199</td>\n",
       "    </tr>\n",
       "    <tr>\n",
       "      <th>172</th>\n",
       "      <td>YEM</td>\n",
       "      <td>Asia</td>\n",
       "      <td>Yemen</td>\n",
       "      <td>2021-04-27</td>\n",
       "      <td>208.543</td>\n",
       "      <td>40.468</td>\n",
       "      <td>NaN</td>\n",
       "      <td>29825968.0</td>\n",
       "      <td>53.508</td>\n",
       "      <td>1479.147</td>\n",
       "      <td>0.470</td>\n",
       "      <td>15.0</td>\n",
       "      <td>176.0</td>\n",
       "      <td>15.552727</td>\n",
       "      <td>48.516388</td>\n",
       "    </tr>\n",
       "    <tr>\n",
       "      <th>173</th>\n",
       "      <td>ZMB</td>\n",
       "      <td>Africa</td>\n",
       "      <td>Zambia</td>\n",
       "      <td>2021-04-27</td>\n",
       "      <td>4972.706</td>\n",
       "      <td>67.940</td>\n",
       "      <td>NaN</td>\n",
       "      <td>18383956.0</td>\n",
       "      <td>22.995</td>\n",
       "      <td>3689.251</td>\n",
       "      <td>0.584</td>\n",
       "      <td>33.0</td>\n",
       "      <td>117.0</td>\n",
       "      <td>-13.133897</td>\n",
       "      <td>27.849332</td>\n",
       "    </tr>\n",
       "    <tr>\n",
       "      <th>174</th>\n",
       "      <td>ZWE</td>\n",
       "      <td>Africa</td>\n",
       "      <td>Zimbabwe</td>\n",
       "      <td>2021-04-27</td>\n",
       "      <td>2567.731</td>\n",
       "      <td>105.296</td>\n",
       "      <td>0.43</td>\n",
       "      <td>14862927.0</td>\n",
       "      <td>42.729</td>\n",
       "      <td>1899.775</td>\n",
       "      <td>0.571</td>\n",
       "      <td>24.0</td>\n",
       "      <td>157.0</td>\n",
       "      <td>-19.015438</td>\n",
       "      <td>29.154857</td>\n",
       "    </tr>\n",
       "  </tbody>\n",
       "</table>\n",
       "</div>"
      ],
      "text/plain": [
       "    iso_code      continent    Country        date     Cases   Deaths  Vaxxed  \\\n",
       "170      VEN  South America  Venezuela  2021-04-27  6812.540   73.217     NaN   \n",
       "171      VNM           Asia    Vietnam  2021-04-27    29.351    0.360     NaN   \n",
       "172      YEM           Asia      Yemen  2021-04-27   208.543   40.468     NaN   \n",
       "173      ZMB         Africa     Zambia  2021-04-27  4972.706   67.940     NaN   \n",
       "174      ZWE         Africa   Zimbabwe  2021-04-27  2567.731  105.296    0.43   \n",
       "\n",
       "     Population  Density        GDP    HDI  Score   Rank   latitude  \\\n",
       "170  28435943.0   36.253  16745.022  0.711   15.0  176.0   6.423750   \n",
       "171  97338583.0  308.127   6171.884  0.704   36.0  104.0  14.058324   \n",
       "172  29825968.0   53.508   1479.147  0.470   15.0  176.0  15.552727   \n",
       "173  18383956.0   22.995   3689.251  0.584   33.0  117.0 -13.133897   \n",
       "174  14862927.0   42.729   1899.775  0.571   24.0  157.0 -19.015438   \n",
       "\n",
       "      longitude  \n",
       "170  -66.589730  \n",
       "171  108.277199  \n",
       "172   48.516388  \n",
       "173   27.849332  \n",
       "174   29.154857  "
      ]
     },
     "execution_count": 61,
     "metadata": {},
     "output_type": "execute_result"
    }
   ],
   "source": [
    "map_df=pd.merge(MapsFrame, latlong_df, on=\"Country\", how = \"inner\")\n",
    "map_df.tail()\n",
    "#197 rows, 196 countries,  13 columns"
   ]
  },
  {
   "cell_type": "code",
   "execution_count": 62,
   "id": "dd62c506",
   "metadata": {},
   "outputs": [],
   "source": [
    "#map_df[\"Country\"].unique()"
   ]
  },
  {
   "cell_type": "code",
   "execution_count": 63,
   "id": "fcf5f725",
   "metadata": {},
   "outputs": [],
   "source": [
    "import plotly.express as px\n",
    "import plotly.graph_objects as go"
   ]
  },
  {
   "cell_type": "code",
   "execution_count": 65,
   "id": "008178e1",
   "metadata": {},
   "outputs": [
    {
     "data": {
      "application/vnd.plotly.v1+json": {
       "config": {
        "plotlyServerURL": "https://plot.ly"
       },
       "data": [
        {
         "coloraxis": "coloraxis",
         "geo": "geo",
         "hovertemplate": "Country=%{location}<br>GDP=%{z}<extra></extra>",
         "locationmode": "country names",
         "locations": [
          "Afghanistan",
          "Albania",
          "Algeria",
          "Angola",
          "Argentina",
          "Armenia",
          "Australia",
          "Austria",
          "Azerbaijan",
          "Bahamas",
          "Bahrain",
          "Bangladesh",
          "Barbados",
          "Belarus",
          "Belgium",
          "Benin",
          "Bhutan",
          "Bolivia",
          "Bosnia and Herzegovina",
          "Botswana",
          "Brazil",
          "Brunei",
          "Bulgaria",
          "Burkina Faso",
          "Burundi",
          "Cambodia",
          "Cameroon",
          "Canada",
          "Central African Republic",
          "Chad",
          "Chile",
          "China",
          "Colombia",
          "Comoros",
          "Congo",
          "Costa Rica",
          "Cote d'Ivoire",
          "Croatia",
          "Cuba",
          "Cyprus",
          "Czechia",
          "Denmark",
          "Djibouti",
          "Dominica",
          "Dominican Republic",
          "Ecuador",
          "Egypt",
          "El Salvador",
          "Equatorial Guinea",
          "Eritrea",
          "Estonia",
          "Eswatini",
          "Ethiopia",
          "Finland",
          "France",
          "Gabon",
          "Gambia",
          "Georgia",
          "Germany",
          "Ghana",
          "Greece",
          "Grenada",
          "Guatemala",
          "Guinea",
          "Guyana",
          "Haiti",
          "Honduras",
          "Hong Kong",
          "Hungary",
          "Iceland",
          "India",
          "Indonesia",
          "Iran",
          "Iraq",
          "Ireland",
          "Israel",
          "Italy",
          "Jamaica",
          "Japan",
          "Jordan",
          "Kazakhstan",
          "Kenya",
          "Kosovo",
          "Kuwait",
          "Kyrgyzstan",
          "Laos",
          "Latvia",
          "Lebanon",
          "Lesotho",
          "Liberia",
          "Libya",
          "Lithuania",
          "Luxembourg",
          "Madagascar",
          "Malawi",
          "Malaysia",
          "Maldives",
          "Mali",
          "Malta",
          "Mauritania",
          "Mauritius",
          "Mexico",
          "Moldova",
          "Mongolia",
          "Montenegro",
          "Morocco",
          "Mozambique",
          "Myanmar",
          "Namibia",
          "Nepal",
          "Netherlands",
          "New Zealand",
          "Nicaragua",
          "Niger",
          "Nigeria",
          "North Macedonia",
          "Norway",
          "Oman",
          "Pakistan",
          "Panama",
          "Papua New Guinea",
          "Paraguay",
          "Peru",
          "Philippines",
          "Poland",
          "Portugal",
          "Qatar",
          "Romania",
          "Russia",
          "Rwanda",
          "Saint Lucia",
          "Saint Vincent and the Grenadines",
          "Sao Tome and Principe",
          "Saudi Arabia",
          "Senegal",
          "Serbia",
          "Seychelles",
          "Sierra Leone",
          "Singapore",
          "Slovakia",
          "Slovenia",
          "Solomon Islands",
          "Somalia",
          "South Africa",
          "South Korea",
          "South Sudan",
          "Spain",
          "Sri Lanka",
          "Sudan",
          "Suriname",
          "Sweden",
          "Switzerland",
          "Syria",
          "Taiwan",
          "Tajikistan",
          "Tanzania",
          "Thailand",
          "Timor",
          "Togo",
          "Trinidad and Tobago",
          "Tunisia",
          "Turkey",
          "Uganda",
          "Ukraine",
          "United Arab Emirates",
          "United Kingdom",
          "United States",
          "Uruguay",
          "Uzbekistan",
          "Vanuatu",
          "Venezuela",
          "Vietnam",
          "Yemen",
          "Zambia",
          "Zimbabwe"
         ],
         "name": "",
         "type": "choropleth",
         "z": [
          1803.987,
          11803.431,
          13913.839,
          5819.495,
          18933.907,
          8787.58,
          44648.71,
          45436.685999999994,
          15847.419,
          27717.847,
          43290.705,
          3523.9840000000004,
          16978.068,
          17167.967,
          42658.575999999994,
          2064.236,
          8708.597,
          6885.829000000001,
          11713.895,
          15807.374,
          14103.452,
          71809.25099999999,
          18563.307,
          1703.102,
          702.225,
          3645.07,
          3364.926,
          44017.59099999999,
          661.24,
          1768.1529999999998,
          22767.037,
          15308.712,
          13254.948999999999,
          1413.89,
          4881.406,
          15524.995,
          3601.006,
          22669.797000000002,
          null,
          32415.132,
          32605.906000000003,
          46682.515,
          2705.406,
          9673.367,
          14600.861,
          10581.936000000002,
          10550.206,
          7292.4580000000005,
          22604.873,
          1510.4589999999998,
          29481.252,
          7738.975,
          1729.9270000000001,
          40585.721,
          38605.671,
          16562.413,
          1561.767,
          9745.079,
          45229.245,
          4227.63,
          24574.382,
          13593.877,
          7423.808000000001,
          1998.9260000000002,
          7435.047,
          1653.1729999999998,
          4541.795,
          56054.92,
          26777.561,
          46482.958,
          6426.674,
          11188.743999999999,
          19082.62,
          15663.986,
          67335.293,
          33132.32,
          35220.084,
          8193.571,
          39002.223,
          8337.49,
          24055.588,
          2993.028,
          9795.834,
          65530.537000000004,
          3393.474,
          6397.36,
          25063.846,
          13367.565,
          2851.153,
          752.788,
          17881.509,
          29524.265,
          94277.965,
          1416.44,
          1095.042,
          26808.164,
          15183.616000000002,
          2014.306,
          36513.323,
          3597.633,
          20292.745,
          17336.468999999997,
          5189.972,
          11840.846000000001,
          16409.288,
          7485.013000000001,
          1136.103,
          5591.597,
          9541.808,
          2442.804,
          48472.545,
          36085.843,
          5321.444,
          926,
          5338.454000000001,
          13111.214,
          64800.057,
          37960.709,
          5034.708,
          22267.037,
          3823.1940000000004,
          8827.01,
          12236.706,
          7599.188,
          27216.445,
          27936.896,
          116935.6,
          23313.199,
          24765.953999999998,
          1854.211,
          12951.839,
          10727.146,
          3052.7140000000004,
          49045.41099999999,
          2470.58,
          14048.881000000001,
          26382.287,
          1390.3,
          85535.383,
          30155.152000000002,
          31400.84,
          2205.923,
          null,
          12294.876,
          35938.373999999996,
          1569.888,
          34272.36,
          11669.077,
          4466.5070000000005,
          13767.118999999999,
          46949.282999999996,
          57410.166,
          null,
          null,
          2896.913,
          2683.304,
          16277.671,
          6570.102,
          1429.8129999999999,
          28763.071,
          10849.296999999999,
          25129.341,
          1697.707,
          7894.393,
          67293.483,
          39753.244,
          54225.445999999996,
          20551.409,
          6253.104,
          2921.909,
          16745.022,
          6171.884,
          1479.1470000000002,
          3689.2509999999997,
          1899.775
         ]
        }
       ],
       "layout": {
        "coloraxis": {
         "cmax": 116935.6,
         "cmid": 12294.876,
         "cmin": 661.24,
         "colorbar": {
          "title": {
           "text": "GDP"
          }
         },
         "colorscale": [
          [
           0,
           "rgb(247,251,255)"
          ],
          [
           0.125,
           "rgb(222,235,247)"
          ],
          [
           0.25,
           "rgb(198,219,239)"
          ],
          [
           0.375,
           "rgb(158,202,225)"
          ],
          [
           0.5,
           "rgb(107,174,214)"
          ],
          [
           0.625,
           "rgb(66,146,198)"
          ],
          [
           0.75,
           "rgb(33,113,181)"
          ],
          [
           0.875,
           "rgb(8,81,156)"
          ],
          [
           1,
           "rgb(8,48,107)"
          ]
         ]
        },
        "geo": {
         "center": {},
         "domain": {
          "x": [
           0,
           1
          ],
          "y": [
           0,
           1
          ]
         },
         "projection": {
          "type": "equirectangular"
         },
         "scope": "world"
        },
        "legend": {
         "tracegroupgap": 0
        },
        "margin": {
         "t": 60
        },
        "template": {
         "data": {
          "bar": [
           {
            "error_x": {
             "color": "#2a3f5f"
            },
            "error_y": {
             "color": "#2a3f5f"
            },
            "marker": {
             "line": {
              "color": "#E5ECF6",
              "width": 0.5
             }
            },
            "type": "bar"
           }
          ],
          "barpolar": [
           {
            "marker": {
             "line": {
              "color": "#E5ECF6",
              "width": 0.5
             }
            },
            "type": "barpolar"
           }
          ],
          "carpet": [
           {
            "aaxis": {
             "endlinecolor": "#2a3f5f",
             "gridcolor": "white",
             "linecolor": "white",
             "minorgridcolor": "white",
             "startlinecolor": "#2a3f5f"
            },
            "baxis": {
             "endlinecolor": "#2a3f5f",
             "gridcolor": "white",
             "linecolor": "white",
             "minorgridcolor": "white",
             "startlinecolor": "#2a3f5f"
            },
            "type": "carpet"
           }
          ],
          "choropleth": [
           {
            "colorbar": {
             "outlinewidth": 0,
             "ticks": ""
            },
            "type": "choropleth"
           }
          ],
          "contour": [
           {
            "colorbar": {
             "outlinewidth": 0,
             "ticks": ""
            },
            "colorscale": [
             [
              0,
              "#0d0887"
             ],
             [
              0.1111111111111111,
              "#46039f"
             ],
             [
              0.2222222222222222,
              "#7201a8"
             ],
             [
              0.3333333333333333,
              "#9c179e"
             ],
             [
              0.4444444444444444,
              "#bd3786"
             ],
             [
              0.5555555555555556,
              "#d8576b"
             ],
             [
              0.6666666666666666,
              "#ed7953"
             ],
             [
              0.7777777777777778,
              "#fb9f3a"
             ],
             [
              0.8888888888888888,
              "#fdca26"
             ],
             [
              1,
              "#f0f921"
             ]
            ],
            "type": "contour"
           }
          ],
          "contourcarpet": [
           {
            "colorbar": {
             "outlinewidth": 0,
             "ticks": ""
            },
            "type": "contourcarpet"
           }
          ],
          "heatmap": [
           {
            "colorbar": {
             "outlinewidth": 0,
             "ticks": ""
            },
            "colorscale": [
             [
              0,
              "#0d0887"
             ],
             [
              0.1111111111111111,
              "#46039f"
             ],
             [
              0.2222222222222222,
              "#7201a8"
             ],
             [
              0.3333333333333333,
              "#9c179e"
             ],
             [
              0.4444444444444444,
              "#bd3786"
             ],
             [
              0.5555555555555556,
              "#d8576b"
             ],
             [
              0.6666666666666666,
              "#ed7953"
             ],
             [
              0.7777777777777778,
              "#fb9f3a"
             ],
             [
              0.8888888888888888,
              "#fdca26"
             ],
             [
              1,
              "#f0f921"
             ]
            ],
            "type": "heatmap"
           }
          ],
          "heatmapgl": [
           {
            "colorbar": {
             "outlinewidth": 0,
             "ticks": ""
            },
            "colorscale": [
             [
              0,
              "#0d0887"
             ],
             [
              0.1111111111111111,
              "#46039f"
             ],
             [
              0.2222222222222222,
              "#7201a8"
             ],
             [
              0.3333333333333333,
              "#9c179e"
             ],
             [
              0.4444444444444444,
              "#bd3786"
             ],
             [
              0.5555555555555556,
              "#d8576b"
             ],
             [
              0.6666666666666666,
              "#ed7953"
             ],
             [
              0.7777777777777778,
              "#fb9f3a"
             ],
             [
              0.8888888888888888,
              "#fdca26"
             ],
             [
              1,
              "#f0f921"
             ]
            ],
            "type": "heatmapgl"
           }
          ],
          "histogram": [
           {
            "marker": {
             "colorbar": {
              "outlinewidth": 0,
              "ticks": ""
             }
            },
            "type": "histogram"
           }
          ],
          "histogram2d": [
           {
            "colorbar": {
             "outlinewidth": 0,
             "ticks": ""
            },
            "colorscale": [
             [
              0,
              "#0d0887"
             ],
             [
              0.1111111111111111,
              "#46039f"
             ],
             [
              0.2222222222222222,
              "#7201a8"
             ],
             [
              0.3333333333333333,
              "#9c179e"
             ],
             [
              0.4444444444444444,
              "#bd3786"
             ],
             [
              0.5555555555555556,
              "#d8576b"
             ],
             [
              0.6666666666666666,
              "#ed7953"
             ],
             [
              0.7777777777777778,
              "#fb9f3a"
             ],
             [
              0.8888888888888888,
              "#fdca26"
             ],
             [
              1,
              "#f0f921"
             ]
            ],
            "type": "histogram2d"
           }
          ],
          "histogram2dcontour": [
           {
            "colorbar": {
             "outlinewidth": 0,
             "ticks": ""
            },
            "colorscale": [
             [
              0,
              "#0d0887"
             ],
             [
              0.1111111111111111,
              "#46039f"
             ],
             [
              0.2222222222222222,
              "#7201a8"
             ],
             [
              0.3333333333333333,
              "#9c179e"
             ],
             [
              0.4444444444444444,
              "#bd3786"
             ],
             [
              0.5555555555555556,
              "#d8576b"
             ],
             [
              0.6666666666666666,
              "#ed7953"
             ],
             [
              0.7777777777777778,
              "#fb9f3a"
             ],
             [
              0.8888888888888888,
              "#fdca26"
             ],
             [
              1,
              "#f0f921"
             ]
            ],
            "type": "histogram2dcontour"
           }
          ],
          "mesh3d": [
           {
            "colorbar": {
             "outlinewidth": 0,
             "ticks": ""
            },
            "type": "mesh3d"
           }
          ],
          "parcoords": [
           {
            "line": {
             "colorbar": {
              "outlinewidth": 0,
              "ticks": ""
             }
            },
            "type": "parcoords"
           }
          ],
          "pie": [
           {
            "automargin": true,
            "type": "pie"
           }
          ],
          "scatter": [
           {
            "marker": {
             "colorbar": {
              "outlinewidth": 0,
              "ticks": ""
             }
            },
            "type": "scatter"
           }
          ],
          "scatter3d": [
           {
            "line": {
             "colorbar": {
              "outlinewidth": 0,
              "ticks": ""
             }
            },
            "marker": {
             "colorbar": {
              "outlinewidth": 0,
              "ticks": ""
             }
            },
            "type": "scatter3d"
           }
          ],
          "scattercarpet": [
           {
            "marker": {
             "colorbar": {
              "outlinewidth": 0,
              "ticks": ""
             }
            },
            "type": "scattercarpet"
           }
          ],
          "scattergeo": [
           {
            "marker": {
             "colorbar": {
              "outlinewidth": 0,
              "ticks": ""
             }
            },
            "type": "scattergeo"
           }
          ],
          "scattergl": [
           {
            "marker": {
             "colorbar": {
              "outlinewidth": 0,
              "ticks": ""
             }
            },
            "type": "scattergl"
           }
          ],
          "scattermapbox": [
           {
            "marker": {
             "colorbar": {
              "outlinewidth": 0,
              "ticks": ""
             }
            },
            "type": "scattermapbox"
           }
          ],
          "scatterpolar": [
           {
            "marker": {
             "colorbar": {
              "outlinewidth": 0,
              "ticks": ""
             }
            },
            "type": "scatterpolar"
           }
          ],
          "scatterpolargl": [
           {
            "marker": {
             "colorbar": {
              "outlinewidth": 0,
              "ticks": ""
             }
            },
            "type": "scatterpolargl"
           }
          ],
          "scatterternary": [
           {
            "marker": {
             "colorbar": {
              "outlinewidth": 0,
              "ticks": ""
             }
            },
            "type": "scatterternary"
           }
          ],
          "surface": [
           {
            "colorbar": {
             "outlinewidth": 0,
             "ticks": ""
            },
            "colorscale": [
             [
              0,
              "#0d0887"
             ],
             [
              0.1111111111111111,
              "#46039f"
             ],
             [
              0.2222222222222222,
              "#7201a8"
             ],
             [
              0.3333333333333333,
              "#9c179e"
             ],
             [
              0.4444444444444444,
              "#bd3786"
             ],
             [
              0.5555555555555556,
              "#d8576b"
             ],
             [
              0.6666666666666666,
              "#ed7953"
             ],
             [
              0.7777777777777778,
              "#fb9f3a"
             ],
             [
              0.8888888888888888,
              "#fdca26"
             ],
             [
              1,
              "#f0f921"
             ]
            ],
            "type": "surface"
           }
          ],
          "table": [
           {
            "cells": {
             "fill": {
              "color": "#EBF0F8"
             },
             "line": {
              "color": "white"
             }
            },
            "header": {
             "fill": {
              "color": "#C8D4E3"
             },
             "line": {
              "color": "white"
             }
            },
            "type": "table"
           }
          ]
         },
         "layout": {
          "annotationdefaults": {
           "arrowcolor": "#2a3f5f",
           "arrowhead": 0,
           "arrowwidth": 1
          },
          "autotypenumbers": "strict",
          "coloraxis": {
           "colorbar": {
            "outlinewidth": 0,
            "ticks": ""
           }
          },
          "colorscale": {
           "diverging": [
            [
             0,
             "#8e0152"
            ],
            [
             0.1,
             "#c51b7d"
            ],
            [
             0.2,
             "#de77ae"
            ],
            [
             0.3,
             "#f1b6da"
            ],
            [
             0.4,
             "#fde0ef"
            ],
            [
             0.5,
             "#f7f7f7"
            ],
            [
             0.6,
             "#e6f5d0"
            ],
            [
             0.7,
             "#b8e186"
            ],
            [
             0.8,
             "#7fbc41"
            ],
            [
             0.9,
             "#4d9221"
            ],
            [
             1,
             "#276419"
            ]
           ],
           "sequential": [
            [
             0,
             "#0d0887"
            ],
            [
             0.1111111111111111,
             "#46039f"
            ],
            [
             0.2222222222222222,
             "#7201a8"
            ],
            [
             0.3333333333333333,
             "#9c179e"
            ],
            [
             0.4444444444444444,
             "#bd3786"
            ],
            [
             0.5555555555555556,
             "#d8576b"
            ],
            [
             0.6666666666666666,
             "#ed7953"
            ],
            [
             0.7777777777777778,
             "#fb9f3a"
            ],
            [
             0.8888888888888888,
             "#fdca26"
            ],
            [
             1,
             "#f0f921"
            ]
           ],
           "sequentialminus": [
            [
             0,
             "#0d0887"
            ],
            [
             0.1111111111111111,
             "#46039f"
            ],
            [
             0.2222222222222222,
             "#7201a8"
            ],
            [
             0.3333333333333333,
             "#9c179e"
            ],
            [
             0.4444444444444444,
             "#bd3786"
            ],
            [
             0.5555555555555556,
             "#d8576b"
            ],
            [
             0.6666666666666666,
             "#ed7953"
            ],
            [
             0.7777777777777778,
             "#fb9f3a"
            ],
            [
             0.8888888888888888,
             "#fdca26"
            ],
            [
             1,
             "#f0f921"
            ]
           ]
          },
          "colorway": [
           "#636efa",
           "#EF553B",
           "#00cc96",
           "#ab63fa",
           "#FFA15A",
           "#19d3f3",
           "#FF6692",
           "#B6E880",
           "#FF97FF",
           "#FECB52"
          ],
          "font": {
           "color": "#2a3f5f"
          },
          "geo": {
           "bgcolor": "white",
           "lakecolor": "white",
           "landcolor": "#E5ECF6",
           "showlakes": true,
           "showland": true,
           "subunitcolor": "white"
          },
          "hoverlabel": {
           "align": "left"
          },
          "hovermode": "closest",
          "mapbox": {
           "style": "light"
          },
          "paper_bgcolor": "white",
          "plot_bgcolor": "#E5ECF6",
          "polar": {
           "angularaxis": {
            "gridcolor": "white",
            "linecolor": "white",
            "ticks": ""
           },
           "bgcolor": "#E5ECF6",
           "radialaxis": {
            "gridcolor": "white",
            "linecolor": "white",
            "ticks": ""
           }
          },
          "scene": {
           "xaxis": {
            "backgroundcolor": "#E5ECF6",
            "gridcolor": "white",
            "gridwidth": 2,
            "linecolor": "white",
            "showbackground": true,
            "ticks": "",
            "zerolinecolor": "white"
           },
           "yaxis": {
            "backgroundcolor": "#E5ECF6",
            "gridcolor": "white",
            "gridwidth": 2,
            "linecolor": "white",
            "showbackground": true,
            "ticks": "",
            "zerolinecolor": "white"
           },
           "zaxis": {
            "backgroundcolor": "#E5ECF6",
            "gridcolor": "white",
            "gridwidth": 2,
            "linecolor": "white",
            "showbackground": true,
            "ticks": "",
            "zerolinecolor": "white"
           }
          },
          "shapedefaults": {
           "line": {
            "color": "#2a3f5f"
           }
          },
          "ternary": {
           "aaxis": {
            "gridcolor": "white",
            "linecolor": "white",
            "ticks": ""
           },
           "baxis": {
            "gridcolor": "white",
            "linecolor": "white",
            "ticks": ""
           },
           "bgcolor": "#E5ECF6",
           "caxis": {
            "gridcolor": "white",
            "linecolor": "white",
            "ticks": ""
           }
          },
          "title": {
           "x": 0.05
          },
          "xaxis": {
           "automargin": true,
           "gridcolor": "white",
           "linecolor": "white",
           "ticks": "",
           "title": {
            "standoff": 15
           },
           "zerolinecolor": "white",
           "zerolinewidth": 2
          },
          "yaxis": {
           "automargin": true,
           "gridcolor": "white",
           "linecolor": "white",
           "ticks": "",
           "title": {
            "standoff": 15
           },
           "zerolinecolor": "white",
           "zerolinewidth": 2
          }
         }
        },
        "title": {
         "text": "GDP Per Country"
        }
       }
      },
      "text/html": [
       "<div>                            <div id=\"fe57b97e-8bba-4f70-b1c0-a7de48d2ff76\" class=\"plotly-graph-div\" style=\"height:525px; width:100%;\"></div>            <script type=\"text/javascript\">                require([\"plotly\"], function(Plotly) {                    window.PLOTLYENV=window.PLOTLYENV || {};                                    if (document.getElementById(\"fe57b97e-8bba-4f70-b1c0-a7de48d2ff76\")) {                    Plotly.newPlot(                        \"fe57b97e-8bba-4f70-b1c0-a7de48d2ff76\",                        [{\"coloraxis\": \"coloraxis\", \"geo\": \"geo\", \"hovertemplate\": \"Country=%{location}<br>GDP=%{z}<extra></extra>\", \"locationmode\": \"country names\", \"locations\": [\"Afghanistan\", \"Albania\", \"Algeria\", \"Angola\", \"Argentina\", \"Armenia\", \"Australia\", \"Austria\", \"Azerbaijan\", \"Bahamas\", \"Bahrain\", \"Bangladesh\", \"Barbados\", \"Belarus\", \"Belgium\", \"Benin\", \"Bhutan\", \"Bolivia\", \"Bosnia and Herzegovina\", \"Botswana\", \"Brazil\", \"Brunei\", \"Bulgaria\", \"Burkina Faso\", \"Burundi\", \"Cambodia\", \"Cameroon\", \"Canada\", \"Central African Republic\", \"Chad\", \"Chile\", \"China\", \"Colombia\", \"Comoros\", \"Congo\", \"Costa Rica\", \"Cote d'Ivoire\", \"Croatia\", \"Cuba\", \"Cyprus\", \"Czechia\", \"Denmark\", \"Djibouti\", \"Dominica\", \"Dominican Republic\", \"Ecuador\", \"Egypt\", \"El Salvador\", \"Equatorial Guinea\", \"Eritrea\", \"Estonia\", \"Eswatini\", \"Ethiopia\", \"Finland\", \"France\", \"Gabon\", \"Gambia\", \"Georgia\", \"Germany\", \"Ghana\", \"Greece\", \"Grenada\", \"Guatemala\", \"Guinea\", \"Guyana\", \"Haiti\", \"Honduras\", \"Hong Kong\", \"Hungary\", \"Iceland\", \"India\", \"Indonesia\", \"Iran\", \"Iraq\", \"Ireland\", \"Israel\", \"Italy\", \"Jamaica\", \"Japan\", \"Jordan\", \"Kazakhstan\", \"Kenya\", \"Kosovo\", \"Kuwait\", \"Kyrgyzstan\", \"Laos\", \"Latvia\", \"Lebanon\", \"Lesotho\", \"Liberia\", \"Libya\", \"Lithuania\", \"Luxembourg\", \"Madagascar\", \"Malawi\", \"Malaysia\", \"Maldives\", \"Mali\", \"Malta\", \"Mauritania\", \"Mauritius\", \"Mexico\", \"Moldova\", \"Mongolia\", \"Montenegro\", \"Morocco\", \"Mozambique\", \"Myanmar\", \"Namibia\", \"Nepal\", \"Netherlands\", \"New Zealand\", \"Nicaragua\", \"Niger\", \"Nigeria\", \"North Macedonia\", \"Norway\", \"Oman\", \"Pakistan\", \"Panama\", \"Papua New Guinea\", \"Paraguay\", \"Peru\", \"Philippines\", \"Poland\", \"Portugal\", \"Qatar\", \"Romania\", \"Russia\", \"Rwanda\", \"Saint Lucia\", \"Saint Vincent and the Grenadines\", \"Sao Tome and Principe\", \"Saudi Arabia\", \"Senegal\", \"Serbia\", \"Seychelles\", \"Sierra Leone\", \"Singapore\", \"Slovakia\", \"Slovenia\", \"Solomon Islands\", \"Somalia\", \"South Africa\", \"South Korea\", \"South Sudan\", \"Spain\", \"Sri Lanka\", \"Sudan\", \"Suriname\", \"Sweden\", \"Switzerland\", \"Syria\", \"Taiwan\", \"Tajikistan\", \"Tanzania\", \"Thailand\", \"Timor\", \"Togo\", \"Trinidad and Tobago\", \"Tunisia\", \"Turkey\", \"Uganda\", \"Ukraine\", \"United Arab Emirates\", \"United Kingdom\", \"United States\", \"Uruguay\", \"Uzbekistan\", \"Vanuatu\", \"Venezuela\", \"Vietnam\", \"Yemen\", \"Zambia\", \"Zimbabwe\"], \"name\": \"\", \"type\": \"choropleth\", \"z\": [1803.987, 11803.431, 13913.839, 5819.495, 18933.907, 8787.58, 44648.71, 45436.685999999994, 15847.419, 27717.847, 43290.705, 3523.9840000000004, 16978.068, 17167.967, 42658.575999999994, 2064.236, 8708.597, 6885.829000000001, 11713.895, 15807.374, 14103.452, 71809.25099999999, 18563.307, 1703.102, 702.225, 3645.07, 3364.926, 44017.59099999999, 661.24, 1768.1529999999998, 22767.037, 15308.712, 13254.948999999999, 1413.89, 4881.406, 15524.995, 3601.006, 22669.797000000002, null, 32415.132, 32605.906000000003, 46682.515, 2705.406, 9673.367, 14600.861, 10581.936000000002, 10550.206, 7292.4580000000005, 22604.873, 1510.4589999999998, 29481.252, 7738.975, 1729.9270000000001, 40585.721, 38605.671, 16562.413, 1561.767, 9745.079, 45229.245, 4227.63, 24574.382, 13593.877, 7423.808000000001, 1998.9260000000002, 7435.047, 1653.1729999999998, 4541.795, 56054.92, 26777.561, 46482.958, 6426.674, 11188.743999999999, 19082.62, 15663.986, 67335.293, 33132.32, 35220.084, 8193.571, 39002.223, 8337.49, 24055.588, 2993.028, 9795.834, 65530.537000000004, 3393.474, 6397.36, 25063.846, 13367.565, 2851.153, 752.788, 17881.509, 29524.265, 94277.965, 1416.44, 1095.042, 26808.164, 15183.616000000002, 2014.306, 36513.323, 3597.633, 20292.745, 17336.468999999997, 5189.972, 11840.846000000001, 16409.288, 7485.013000000001, 1136.103, 5591.597, 9541.808, 2442.804, 48472.545, 36085.843, 5321.444, 926.0, 5338.454000000001, 13111.214, 64800.057, 37960.709, 5034.708, 22267.037, 3823.1940000000004, 8827.01, 12236.706, 7599.188, 27216.445, 27936.896, 116935.6, 23313.199, 24765.953999999998, 1854.211, 12951.839, 10727.146, 3052.7140000000004, 49045.41099999999, 2470.58, 14048.881000000001, 26382.287, 1390.3, 85535.383, 30155.152000000002, 31400.84, 2205.923, null, 12294.876, 35938.373999999996, 1569.888, 34272.36, 11669.077, 4466.5070000000005, 13767.118999999999, 46949.282999999996, 57410.166, null, null, 2896.913, 2683.304, 16277.671, 6570.102, 1429.8129999999999, 28763.071, 10849.296999999999, 25129.341, 1697.707, 7894.393, 67293.483, 39753.244, 54225.445999999996, 20551.409, 6253.104, 2921.909, 16745.022, 6171.884, 1479.1470000000002, 3689.2509999999997, 1899.775]}],                        {\"coloraxis\": {\"cmax\": 116935.6, \"cmid\": 12294.876, \"cmin\": 661.24, \"colorbar\": {\"title\": {\"text\": \"GDP\"}}, \"colorscale\": [[0.0, \"rgb(247,251,255)\"], [0.125, \"rgb(222,235,247)\"], [0.25, \"rgb(198,219,239)\"], [0.375, \"rgb(158,202,225)\"], [0.5, \"rgb(107,174,214)\"], [0.625, \"rgb(66,146,198)\"], [0.75, \"rgb(33,113,181)\"], [0.875, \"rgb(8,81,156)\"], [1.0, \"rgb(8,48,107)\"]]}, \"geo\": {\"center\": {}, \"domain\": {\"x\": [0.0, 1.0], \"y\": [0.0, 1.0]}, \"projection\": {\"type\": \"equirectangular\"}, \"scope\": \"world\"}, \"legend\": {\"tracegroupgap\": 0}, \"margin\": {\"t\": 60}, \"template\": {\"data\": {\"bar\": [{\"error_x\": {\"color\": \"#2a3f5f\"}, \"error_y\": {\"color\": \"#2a3f5f\"}, \"marker\": {\"line\": {\"color\": \"#E5ECF6\", \"width\": 0.5}}, \"type\": \"bar\"}], \"barpolar\": [{\"marker\": {\"line\": {\"color\": \"#E5ECF6\", \"width\": 0.5}}, \"type\": \"barpolar\"}], \"carpet\": [{\"aaxis\": {\"endlinecolor\": \"#2a3f5f\", \"gridcolor\": \"white\", \"linecolor\": \"white\", \"minorgridcolor\": \"white\", \"startlinecolor\": \"#2a3f5f\"}, \"baxis\": {\"endlinecolor\": \"#2a3f5f\", \"gridcolor\": \"white\", \"linecolor\": \"white\", \"minorgridcolor\": \"white\", \"startlinecolor\": \"#2a3f5f\"}, \"type\": \"carpet\"}], \"choropleth\": [{\"colorbar\": {\"outlinewidth\": 0, \"ticks\": \"\"}, \"type\": \"choropleth\"}], \"contour\": [{\"colorbar\": {\"outlinewidth\": 0, \"ticks\": \"\"}, \"colorscale\": [[0.0, \"#0d0887\"], [0.1111111111111111, \"#46039f\"], [0.2222222222222222, \"#7201a8\"], [0.3333333333333333, \"#9c179e\"], [0.4444444444444444, \"#bd3786\"], [0.5555555555555556, \"#d8576b\"], [0.6666666666666666, \"#ed7953\"], [0.7777777777777778, \"#fb9f3a\"], [0.8888888888888888, \"#fdca26\"], [1.0, \"#f0f921\"]], \"type\": \"contour\"}], \"contourcarpet\": [{\"colorbar\": {\"outlinewidth\": 0, \"ticks\": \"\"}, \"type\": \"contourcarpet\"}], \"heatmap\": [{\"colorbar\": {\"outlinewidth\": 0, \"ticks\": \"\"}, \"colorscale\": [[0.0, \"#0d0887\"], [0.1111111111111111, \"#46039f\"], [0.2222222222222222, \"#7201a8\"], [0.3333333333333333, \"#9c179e\"], [0.4444444444444444, \"#bd3786\"], [0.5555555555555556, \"#d8576b\"], [0.6666666666666666, \"#ed7953\"], [0.7777777777777778, \"#fb9f3a\"], [0.8888888888888888, \"#fdca26\"], [1.0, \"#f0f921\"]], \"type\": \"heatmap\"}], \"heatmapgl\": [{\"colorbar\": {\"outlinewidth\": 0, \"ticks\": \"\"}, \"colorscale\": [[0.0, \"#0d0887\"], [0.1111111111111111, \"#46039f\"], [0.2222222222222222, \"#7201a8\"], [0.3333333333333333, \"#9c179e\"], [0.4444444444444444, \"#bd3786\"], [0.5555555555555556, \"#d8576b\"], [0.6666666666666666, \"#ed7953\"], [0.7777777777777778, \"#fb9f3a\"], [0.8888888888888888, \"#fdca26\"], [1.0, \"#f0f921\"]], \"type\": \"heatmapgl\"}], \"histogram\": [{\"marker\": {\"colorbar\": {\"outlinewidth\": 0, \"ticks\": \"\"}}, \"type\": \"histogram\"}], \"histogram2d\": [{\"colorbar\": {\"outlinewidth\": 0, \"ticks\": \"\"}, \"colorscale\": [[0.0, \"#0d0887\"], [0.1111111111111111, \"#46039f\"], [0.2222222222222222, \"#7201a8\"], [0.3333333333333333, \"#9c179e\"], [0.4444444444444444, \"#bd3786\"], [0.5555555555555556, \"#d8576b\"], [0.6666666666666666, \"#ed7953\"], [0.7777777777777778, \"#fb9f3a\"], [0.8888888888888888, \"#fdca26\"], [1.0, \"#f0f921\"]], \"type\": \"histogram2d\"}], \"histogram2dcontour\": [{\"colorbar\": {\"outlinewidth\": 0, \"ticks\": \"\"}, \"colorscale\": [[0.0, \"#0d0887\"], [0.1111111111111111, \"#46039f\"], [0.2222222222222222, \"#7201a8\"], [0.3333333333333333, \"#9c179e\"], [0.4444444444444444, \"#bd3786\"], [0.5555555555555556, \"#d8576b\"], [0.6666666666666666, \"#ed7953\"], [0.7777777777777778, \"#fb9f3a\"], [0.8888888888888888, \"#fdca26\"], [1.0, \"#f0f921\"]], \"type\": \"histogram2dcontour\"}], \"mesh3d\": [{\"colorbar\": {\"outlinewidth\": 0, \"ticks\": \"\"}, \"type\": \"mesh3d\"}], \"parcoords\": [{\"line\": {\"colorbar\": {\"outlinewidth\": 0, \"ticks\": \"\"}}, \"type\": \"parcoords\"}], \"pie\": [{\"automargin\": true, \"type\": \"pie\"}], \"scatter\": [{\"marker\": {\"colorbar\": {\"outlinewidth\": 0, \"ticks\": \"\"}}, \"type\": \"scatter\"}], \"scatter3d\": [{\"line\": {\"colorbar\": {\"outlinewidth\": 0, \"ticks\": \"\"}}, \"marker\": {\"colorbar\": {\"outlinewidth\": 0, \"ticks\": \"\"}}, \"type\": \"scatter3d\"}], \"scattercarpet\": [{\"marker\": {\"colorbar\": {\"outlinewidth\": 0, \"ticks\": \"\"}}, \"type\": \"scattercarpet\"}], \"scattergeo\": [{\"marker\": {\"colorbar\": {\"outlinewidth\": 0, \"ticks\": \"\"}}, \"type\": \"scattergeo\"}], \"scattergl\": [{\"marker\": {\"colorbar\": {\"outlinewidth\": 0, \"ticks\": \"\"}}, \"type\": \"scattergl\"}], \"scattermapbox\": [{\"marker\": {\"colorbar\": {\"outlinewidth\": 0, \"ticks\": \"\"}}, \"type\": \"scattermapbox\"}], \"scatterpolar\": [{\"marker\": {\"colorbar\": {\"outlinewidth\": 0, \"ticks\": \"\"}}, \"type\": \"scatterpolar\"}], \"scatterpolargl\": [{\"marker\": {\"colorbar\": {\"outlinewidth\": 0, \"ticks\": \"\"}}, \"type\": \"scatterpolargl\"}], \"scatterternary\": [{\"marker\": {\"colorbar\": {\"outlinewidth\": 0, \"ticks\": \"\"}}, \"type\": \"scatterternary\"}], \"surface\": [{\"colorbar\": {\"outlinewidth\": 0, \"ticks\": \"\"}, \"colorscale\": [[0.0, \"#0d0887\"], [0.1111111111111111, \"#46039f\"], [0.2222222222222222, \"#7201a8\"], [0.3333333333333333, \"#9c179e\"], [0.4444444444444444, \"#bd3786\"], [0.5555555555555556, \"#d8576b\"], [0.6666666666666666, \"#ed7953\"], [0.7777777777777778, \"#fb9f3a\"], [0.8888888888888888, \"#fdca26\"], [1.0, \"#f0f921\"]], \"type\": \"surface\"}], \"table\": [{\"cells\": {\"fill\": {\"color\": \"#EBF0F8\"}, \"line\": {\"color\": \"white\"}}, \"header\": {\"fill\": {\"color\": \"#C8D4E3\"}, \"line\": {\"color\": \"white\"}}, \"type\": \"table\"}]}, \"layout\": {\"annotationdefaults\": {\"arrowcolor\": \"#2a3f5f\", \"arrowhead\": 0, \"arrowwidth\": 1}, \"autotypenumbers\": \"strict\", \"coloraxis\": {\"colorbar\": {\"outlinewidth\": 0, \"ticks\": \"\"}}, \"colorscale\": {\"diverging\": [[0, \"#8e0152\"], [0.1, \"#c51b7d\"], [0.2, \"#de77ae\"], [0.3, \"#f1b6da\"], [0.4, \"#fde0ef\"], [0.5, \"#f7f7f7\"], [0.6, \"#e6f5d0\"], [0.7, \"#b8e186\"], [0.8, \"#7fbc41\"], [0.9, \"#4d9221\"], [1, \"#276419\"]], \"sequential\": [[0.0, \"#0d0887\"], [0.1111111111111111, \"#46039f\"], [0.2222222222222222, \"#7201a8\"], [0.3333333333333333, \"#9c179e\"], [0.4444444444444444, \"#bd3786\"], [0.5555555555555556, \"#d8576b\"], [0.6666666666666666, \"#ed7953\"], [0.7777777777777778, \"#fb9f3a\"], [0.8888888888888888, \"#fdca26\"], [1.0, \"#f0f921\"]], \"sequentialminus\": [[0.0, \"#0d0887\"], [0.1111111111111111, \"#46039f\"], [0.2222222222222222, \"#7201a8\"], [0.3333333333333333, \"#9c179e\"], [0.4444444444444444, \"#bd3786\"], [0.5555555555555556, \"#d8576b\"], [0.6666666666666666, \"#ed7953\"], [0.7777777777777778, \"#fb9f3a\"], [0.8888888888888888, \"#fdca26\"], [1.0, \"#f0f921\"]]}, \"colorway\": [\"#636efa\", \"#EF553B\", \"#00cc96\", \"#ab63fa\", \"#FFA15A\", \"#19d3f3\", \"#FF6692\", \"#B6E880\", \"#FF97FF\", \"#FECB52\"], \"font\": {\"color\": \"#2a3f5f\"}, \"geo\": {\"bgcolor\": \"white\", \"lakecolor\": \"white\", \"landcolor\": \"#E5ECF6\", \"showlakes\": true, \"showland\": true, \"subunitcolor\": \"white\"}, \"hoverlabel\": {\"align\": \"left\"}, \"hovermode\": \"closest\", \"mapbox\": {\"style\": \"light\"}, \"paper_bgcolor\": \"white\", \"plot_bgcolor\": \"#E5ECF6\", \"polar\": {\"angularaxis\": {\"gridcolor\": \"white\", \"linecolor\": \"white\", \"ticks\": \"\"}, \"bgcolor\": \"#E5ECF6\", \"radialaxis\": {\"gridcolor\": \"white\", \"linecolor\": \"white\", \"ticks\": \"\"}}, \"scene\": {\"xaxis\": {\"backgroundcolor\": \"#E5ECF6\", \"gridcolor\": \"white\", \"gridwidth\": 2, \"linecolor\": \"white\", \"showbackground\": true, \"ticks\": \"\", \"zerolinecolor\": \"white\"}, \"yaxis\": {\"backgroundcolor\": \"#E5ECF6\", \"gridcolor\": \"white\", \"gridwidth\": 2, \"linecolor\": \"white\", \"showbackground\": true, \"ticks\": \"\", \"zerolinecolor\": \"white\"}, \"zaxis\": {\"backgroundcolor\": \"#E5ECF6\", \"gridcolor\": \"white\", \"gridwidth\": 2, \"linecolor\": \"white\", \"showbackground\": true, \"ticks\": \"\", \"zerolinecolor\": \"white\"}}, \"shapedefaults\": {\"line\": {\"color\": \"#2a3f5f\"}}, \"ternary\": {\"aaxis\": {\"gridcolor\": \"white\", \"linecolor\": \"white\", \"ticks\": \"\"}, \"baxis\": {\"gridcolor\": \"white\", \"linecolor\": \"white\", \"ticks\": \"\"}, \"bgcolor\": \"#E5ECF6\", \"caxis\": {\"gridcolor\": \"white\", \"linecolor\": \"white\", \"ticks\": \"\"}}, \"title\": {\"x\": 0.05}, \"xaxis\": {\"automargin\": true, \"gridcolor\": \"white\", \"linecolor\": \"white\", \"ticks\": \"\", \"title\": {\"standoff\": 15}, \"zerolinecolor\": \"white\", \"zerolinewidth\": 2}, \"yaxis\": {\"automargin\": true, \"gridcolor\": \"white\", \"linecolor\": \"white\", \"ticks\": \"\", \"title\": {\"standoff\": 15}, \"zerolinecolor\": \"white\", \"zerolinewidth\": 2}}}, \"title\": {\"text\": \"GDP Per Country\"}},                        {\"responsive\": true}                    ).then(function(){\n",
       "                            \n",
       "var gd = document.getElementById('fe57b97e-8bba-4f70-b1c0-a7de48d2ff76');\n",
       "var x = new MutationObserver(function (mutations, observer) {{\n",
       "        var display = window.getComputedStyle(gd).display;\n",
       "        if (!display || display === 'none') {{\n",
       "            console.log([gd, 'removed!']);\n",
       "            Plotly.purge(gd);\n",
       "            observer.disconnect();\n",
       "        }}\n",
       "}});\n",
       "\n",
       "// Listen for the removal of the full notebook cells\n",
       "var notebookContainer = gd.closest('#notebook-container');\n",
       "if (notebookContainer) {{\n",
       "    x.observe(notebookContainer, {childList: true});\n",
       "}}\n",
       "\n",
       "// Listen for the clearing of the current output cell\n",
       "var outputEl = gd.closest('.output');\n",
       "if (outputEl) {{\n",
       "    x.observe(outputEl, {childList: true});\n",
       "}}\n",
       "\n",
       "                        })                };                });            </script>        </div>"
      ]
     },
     "metadata": {},
     "output_type": "display_data"
    }
   ],
   "source": [
    "fig_GDP = px.choropleth(map_df,  # Input Pandas DataFrame\n",
    "                    locations=\"Country\",  # DataFrame column with locations\n",
    "                    color=\"GDP\",  # DataFrame column with color values\n",
    "                    locationmode = 'country names', \n",
    "                    scope = 'world',\n",
    "                    color_continuous_scale= \"blues\",\n",
    "                    labels = {\"GDP\" : \"GDP\"},\n",
    "                    range_color=(map_df[\"GDP\"].min(), map_df[\"GDP\"].max()),\n",
    "                    color_continuous_midpoint=(map_df[\"GDP\"].median())\n",
    "                   )\n",
    "fig_GDP.update_layout(title_text = \"GDP Per Country\")\n",
    "fig_GDP.update_geos(projection_type=\"equirectangular\")\n",
    "fig_GDP.show() "
   ]
  },
  {
   "cell_type": "code",
   "execution_count": null,
   "id": "63c1ae74",
   "metadata": {},
   "outputs": [],
   "source": []
  },
  {
   "cell_type": "code",
   "execution_count": null,
   "id": "e814b64e",
   "metadata": {},
   "outputs": [],
   "source": []
  },
  {
   "cell_type": "code",
   "execution_count": null,
   "id": "8fda9739",
   "metadata": {},
   "outputs": [],
   "source": []
  },
  {
   "cell_type": "code",
   "execution_count": null,
   "id": "0a511a63",
   "metadata": {},
   "outputs": [],
   "source": []
  },
  {
   "cell_type": "code",
   "execution_count": null,
   "id": "dadc8b96",
   "metadata": {},
   "outputs": [],
   "source": []
  },
  {
   "cell_type": "code",
   "execution_count": null,
   "id": "a6b80f24",
   "metadata": {},
   "outputs": [],
   "source": []
  },
  {
   "cell_type": "code",
   "execution_count": null,
   "id": "86683cb6",
   "metadata": {},
   "outputs": [],
   "source": []
  }
 ],
 "metadata": {
  "kernelspec": {
   "display_name": "Python 3",
   "language": "python",
   "name": "python3"
  },
  "language_info": {
   "codemirror_mode": {
    "name": "ipython",
    "version": 3
   },
   "file_extension": ".py",
   "mimetype": "text/x-python",
   "name": "python",
   "nbconvert_exporter": "python",
   "pygments_lexer": "ipython3",
   "version": "3.6.10"
  }
 },
 "nbformat": 4,
 "nbformat_minor": 5
}
