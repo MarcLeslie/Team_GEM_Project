{
 "cells": [
  {
   "cell_type": "markdown",
   "metadata": {},
   "source": [
    "Inpendent Variables:\n",
    "    GDP per capita\n",
    "    Human Development Index (HDI)\n",
    "    Total Population\n",
    "    Transparency Index\n",
    "\n",
    "Dependent Variables:\n",
    "    Total Cases per million\n",
    "    Total Deaths per million\n",
    "    \n",
    "Other Data Columns:\n",
    "    ISO Code\n",
    "    Continent\n",
    "    Location\n",
    "    Date"
   ]
  },
  {
   "cell_type": "code",
   "execution_count": 3,
   "metadata": {},
   "outputs": [],
   "source": [
    "# Dependencies and Setup\n",
    "import matplotlib.pyplot as plt\n",
    "import pandas as pd\n",
    "import scipy.stats as st\n",
    "import numpy as np\n",
    "from scipy.stats import linregress\n",
    "from scipy.stats import pearsonr\n",
    "import gmaps\n",
    "import requests\n",
    "import gmaps.datasets\n",
    "import ipywidgets as widgets\n",
    "import seaborn as sns; sns.set(style='white')\n",
    "import gmaps.geojson_geometries"
   ]
  },
  {
   "cell_type": "code",
   "execution_count": 4,
   "metadata": {},
   "outputs": [],
   "source": [
    "from configMarc import g_key\n",
    "gmaps.configure(api_key=g_key)"
   ]
  },
  {
   "cell_type": "code",
   "execution_count": 5,
   "metadata": {},
   "outputs": [],
   "source": [
    "# Study data files\n",
    "owidCovidData = \"Resources/owid-covid-data-20210430.csv\"\n",
    "transparencyData = \"Resources/Transparency Index.csv\"\n",
    "RegionData = \"Resources/EuropeRegions.csv\"\n",
    "\n",
    "CovidData = pd.read_csv(owidCovidData)\n",
    "Transparency = pd.read_csv(transparencyData)\n",
    "Regions = pd.read_csv(RegionData)"
   ]
  },
  {
   "cell_type": "code",
   "execution_count": 6,
   "metadata": {},
   "outputs": [],
   "source": [
    "# eliminate extra columns\n",
    "CovidClean = CovidData.copy()\n",
    "CovidClean.drop(['new_cases', 'new_cases_smoothed', 'new_deaths', 'new_deaths_smoothed', 'new_cases_per_million', \n",
    "                 'new_cases_smoothed_per_million', 'new_deaths_per_million', 'new_deaths_smoothed_per_million', 'reproduction_rate', 'icu_patients', \n",
    "                 'icu_patients_per_million', 'hosp_patients', 'hosp_patients_per_million', 'weekly_icu_admissions', 'weekly_icu_admissions_per_million', \n",
    "                 'weekly_hosp_admissions', 'weekly_hosp_admissions_per_million', 'new_tests', 'total_tests', 'total_tests_per_thousand', \n",
    "                 'new_tests_per_thousand', 'new_tests_smoothed', 'new_tests_smoothed_per_thousand', 'positive_rate', 'tests_per_case', 'tests_units', \n",
    "                 'total_vaccinations', 'people_vaccinated', 'people_fully_vaccinated', 'new_vaccinations', 'new_vaccinations_smoothed', \n",
    "                 'total_vaccinations_per_hundred', 'people_vaccinated_per_hundred', 'new_vaccinations_smoothed_per_million', 'stringency_index',\n",
    "                 'median_age', 'aged_65_older', 'aged_70_older', 'extreme_poverty', 'cardiovasc_death_rate',\n",
    "                 'diabetes_prevalence', 'female_smokers', 'male_smokers', 'handwashing_facilities', 'hospital_beds_per_thousand', 'life_expectancy',\n",
    "                 'people_fully_vaccinated_per_hundred'], axis = 1, inplace = True)\n",
    "\n",
    "# limit to max date\n",
    "CovidEuro = CovidClean[CovidClean['continent'].isin(['Europe'])]\n",
    "CovidEuro = CovidEuro[CovidEuro['date'].isin(['2021-04-30'])]\n",
    "\n",
    "# rename \"Location\" to \"Country\"\n",
    "CovidEuro.rename(columns={\"location\":\"Country\"}, inplace=True)\n",
    "\n",
    "# rename everything else for ease\n",
    "CovidEuro.rename(columns={'total_cases_per_million': \"Cases/M\", 'total_deaths_per_million': \"Deaths/M\", \"total_cases\":\"Cases\", \"total_deaths\": \"Deaths\", \"population\": \"Population\", \n",
    "                           \"population_density\": \"Density\",\"gdp_per_capita\": \"GDP\", \"human_development_index\": \"HDI\"}, inplace=True)\n",
    "\n",
    "# merge with Transparency (inner join)\n",
    "CovidEuro = pd.merge(CovidEuro, Transparency, on=[\"Country\"], how=\"inner\")\n",
    "CovidEuro.drop(['Rank'], axis = 1, inplace = True)\n",
    "\n",
    "# merge with regions\n",
    "CovidEuro = pd.merge(CovidEuro, Regions, on = [\"Country\"], how = \"inner\")\n",
    "CovidEuro.drop(['Notes'], axis = 1, inplace = True)\n",
    "\n",
    "\n",
    "\n",
    "# # drop lines with null values\n",
    "CovidEuro.dropna(how = \"any\", inplace = True)\n",
    "\n",
    "\n",
    "CovidEuro\n",
    "CovidEuro.to_csv(\"Resources/CovidWorkingDataEuro.csv\", index = False)\n"
   ]
  },
  {
   "cell_type": "code",
   "execution_count": 72,
   "metadata": {},
   "outputs": [
    {
     "data": {
      "text/html": [
       "<div>\n",
       "<style scoped>\n",
       "    .dataframe tbody tr th:only-of-type {\n",
       "        vertical-align: middle;\n",
       "    }\n",
       "\n",
       "    .dataframe tbody tr th {\n",
       "        vertical-align: top;\n",
       "    }\n",
       "\n",
       "    .dataframe thead th {\n",
       "        text-align: right;\n",
       "    }\n",
       "</style>\n",
       "<table border=\"1\" class=\"dataframe\">\n",
       "  <thead>\n",
       "    <tr style=\"text-align: right;\">\n",
       "      <th></th>\n",
       "      <th>iso_code</th>\n",
       "      <th>continent</th>\n",
       "      <th>Country</th>\n",
       "      <th>date</th>\n",
       "      <th>Cases</th>\n",
       "      <th>Deaths</th>\n",
       "      <th>Cases/M</th>\n",
       "      <th>Deaths/M</th>\n",
       "      <th>Population</th>\n",
       "      <th>Density</th>\n",
       "      <th>GDP</th>\n",
       "      <th>HDI</th>\n",
       "      <th>Score</th>\n",
       "      <th>Region</th>\n",
       "    </tr>\n",
       "  </thead>\n",
       "  <tbody>\n",
       "    <tr>\n",
       "      <th>0</th>\n",
       "      <td>ALB</td>\n",
       "      <td>Europe</td>\n",
       "      <td>Albania</td>\n",
       "      <td>2021-04-30</td>\n",
       "      <td>131085.0</td>\n",
       "      <td>2394.0</td>\n",
       "      <td>45550.420</td>\n",
       "      <td>831.885</td>\n",
       "      <td>2877800.0</td>\n",
       "      <td>104.871</td>\n",
       "      <td>11803.431</td>\n",
       "      <td>0.795</td>\n",
       "      <td>36.0</td>\n",
       "      <td>Eastern Europe</td>\n",
       "    </tr>\n",
       "    <tr>\n",
       "      <th>1</th>\n",
       "      <td>AUT</td>\n",
       "      <td>Europe</td>\n",
       "      <td>Austria</td>\n",
       "      <td>2021-04-30</td>\n",
       "      <td>618870.0</td>\n",
       "      <td>10205.0</td>\n",
       "      <td>68714.470</td>\n",
       "      <td>1133.083</td>\n",
       "      <td>9006400.0</td>\n",
       "      <td>106.749</td>\n",
       "      <td>45436.686</td>\n",
       "      <td>0.922</td>\n",
       "      <td>76.0</td>\n",
       "      <td>Western Europe</td>\n",
       "    </tr>\n",
       "    <tr>\n",
       "      <th>2</th>\n",
       "      <td>BLR</td>\n",
       "      <td>Europe</td>\n",
       "      <td>Belarus</td>\n",
       "      <td>2021-04-30</td>\n",
       "      <td>358738.0</td>\n",
       "      <td>2542.0</td>\n",
       "      <td>37964.421</td>\n",
       "      <td>269.014</td>\n",
       "      <td>9449321.0</td>\n",
       "      <td>46.858</td>\n",
       "      <td>17167.967</td>\n",
       "      <td>0.823</td>\n",
       "      <td>47.0</td>\n",
       "      <td>Eastern Europe</td>\n",
       "    </tr>\n",
       "    <tr>\n",
       "      <th>3</th>\n",
       "      <td>BEL</td>\n",
       "      <td>Europe</td>\n",
       "      <td>Belgium</td>\n",
       "      <td>2021-04-30</td>\n",
       "      <td>990229.0</td>\n",
       "      <td>24230.0</td>\n",
       "      <td>85441.053</td>\n",
       "      <td>2090.665</td>\n",
       "      <td>11589616.0</td>\n",
       "      <td>375.564</td>\n",
       "      <td>42658.576</td>\n",
       "      <td>0.931</td>\n",
       "      <td>76.0</td>\n",
       "      <td>Western Europe</td>\n",
       "    </tr>\n",
       "    <tr>\n",
       "      <th>4</th>\n",
       "      <td>BIH</td>\n",
       "      <td>Europe</td>\n",
       "      <td>Bosnia and Herzegovina</td>\n",
       "      <td>2021-04-30</td>\n",
       "      <td>198461.0</td>\n",
       "      <td>8551.0</td>\n",
       "      <td>60491.372</td>\n",
       "      <td>2606.365</td>\n",
       "      <td>3280815.0</td>\n",
       "      <td>68.496</td>\n",
       "      <td>11713.895</td>\n",
       "      <td>0.780</td>\n",
       "      <td>35.0</td>\n",
       "      <td>Eastern Europe</td>\n",
       "    </tr>\n",
       "    <tr>\n",
       "      <th>5</th>\n",
       "      <td>BGR</td>\n",
       "      <td>Europe</td>\n",
       "      <td>Bulgaria</td>\n",
       "      <td>2021-04-30</td>\n",
       "      <td>404380.0</td>\n",
       "      <td>16399.0</td>\n",
       "      <td>58197.194</td>\n",
       "      <td>2360.096</td>\n",
       "      <td>6948445.0</td>\n",
       "      <td>65.180</td>\n",
       "      <td>18563.307</td>\n",
       "      <td>0.816</td>\n",
       "      <td>44.0</td>\n",
       "      <td>Eastern Europe</td>\n",
       "    </tr>\n",
       "    <tr>\n",
       "      <th>6</th>\n",
       "      <td>HRV</td>\n",
       "      <td>Europe</td>\n",
       "      <td>Croatia</td>\n",
       "      <td>2021-04-30</td>\n",
       "      <td>332183.0</td>\n",
       "      <td>7081.0</td>\n",
       "      <td>80916.276</td>\n",
       "      <td>1724.857</td>\n",
       "      <td>4105268.0</td>\n",
       "      <td>73.726</td>\n",
       "      <td>22669.797</td>\n",
       "      <td>0.851</td>\n",
       "      <td>47.0</td>\n",
       "      <td>Eastern Europe</td>\n",
       "    </tr>\n",
       "    <tr>\n",
       "      <th>7</th>\n",
       "      <td>CYP</td>\n",
       "      <td>Europe</td>\n",
       "      <td>Cyprus</td>\n",
       "      <td>2021-04-30</td>\n",
       "      <td>65233.0</td>\n",
       "      <td>308.0</td>\n",
       "      <td>74475.482</td>\n",
       "      <td>351.639</td>\n",
       "      <td>875899.0</td>\n",
       "      <td>127.657</td>\n",
       "      <td>32415.132</td>\n",
       "      <td>0.887</td>\n",
       "      <td>57.0</td>\n",
       "      <td>Southern Europe</td>\n",
       "    </tr>\n",
       "    <tr>\n",
       "      <th>8</th>\n",
       "      <td>CZE</td>\n",
       "      <td>Europe</td>\n",
       "      <td>Czechia</td>\n",
       "      <td>2021-04-30</td>\n",
       "      <td>1630758.0</td>\n",
       "      <td>29267.0</td>\n",
       "      <td>152279.460</td>\n",
       "      <td>2732.940</td>\n",
       "      <td>10708982.0</td>\n",
       "      <td>137.176</td>\n",
       "      <td>32605.906</td>\n",
       "      <td>0.900</td>\n",
       "      <td>54.0</td>\n",
       "      <td>Eastern Europe</td>\n",
       "    </tr>\n",
       "    <tr>\n",
       "      <th>9</th>\n",
       "      <td>DNK</td>\n",
       "      <td>Europe</td>\n",
       "      <td>Denmark</td>\n",
       "      <td>2021-04-30</td>\n",
       "      <td>251249.0</td>\n",
       "      <td>2484.0</td>\n",
       "      <td>43377.105</td>\n",
       "      <td>428.852</td>\n",
       "      <td>5792203.0</td>\n",
       "      <td>136.520</td>\n",
       "      <td>46682.515</td>\n",
       "      <td>0.940</td>\n",
       "      <td>88.0</td>\n",
       "      <td>Northern Europe</td>\n",
       "    </tr>\n",
       "    <tr>\n",
       "      <th>10</th>\n",
       "      <td>EST</td>\n",
       "      <td>Europe</td>\n",
       "      <td>Estonia</td>\n",
       "      <td>2021-04-30</td>\n",
       "      <td>122019.0</td>\n",
       "      <td>1161.0</td>\n",
       "      <td>91982.972</td>\n",
       "      <td>875.210</td>\n",
       "      <td>1326539.0</td>\n",
       "      <td>31.033</td>\n",
       "      <td>29481.252</td>\n",
       "      <td>0.892</td>\n",
       "      <td>75.0</td>\n",
       "      <td>Eastern Europe</td>\n",
       "    </tr>\n",
       "    <tr>\n",
       "      <th>11</th>\n",
       "      <td>FIN</td>\n",
       "      <td>Europe</td>\n",
       "      <td>Finland</td>\n",
       "      <td>2021-04-30</td>\n",
       "      <td>86808.0</td>\n",
       "      <td>914.0</td>\n",
       "      <td>15667.284</td>\n",
       "      <td>164.961</td>\n",
       "      <td>5540718.0</td>\n",
       "      <td>18.136</td>\n",
       "      <td>40585.721</td>\n",
       "      <td>0.938</td>\n",
       "      <td>85.0</td>\n",
       "      <td>Northern Europe</td>\n",
       "    </tr>\n",
       "    <tr>\n",
       "      <th>12</th>\n",
       "      <td>FRA</td>\n",
       "      <td>Europe</td>\n",
       "      <td>France</td>\n",
       "      <td>2021-04-30</td>\n",
       "      <td>5677835.0</td>\n",
       "      <td>104675.0</td>\n",
       "      <td>83316.621</td>\n",
       "      <td>1536.002</td>\n",
       "      <td>68147687.0</td>\n",
       "      <td>122.578</td>\n",
       "      <td>38605.671</td>\n",
       "      <td>0.901</td>\n",
       "      <td>69.0</td>\n",
       "      <td>Western Europe</td>\n",
       "    </tr>\n",
       "    <tr>\n",
       "      <th>13</th>\n",
       "      <td>DEU</td>\n",
       "      <td>Europe</td>\n",
       "      <td>Germany</td>\n",
       "      <td>2021-04-30</td>\n",
       "      <td>3405365.0</td>\n",
       "      <td>83097.0</td>\n",
       "      <td>40644.601</td>\n",
       "      <td>991.801</td>\n",
       "      <td>83783945.0</td>\n",
       "      <td>237.016</td>\n",
       "      <td>45229.245</td>\n",
       "      <td>0.947</td>\n",
       "      <td>80.0</td>\n",
       "      <td>Western Europe</td>\n",
       "    </tr>\n",
       "    <tr>\n",
       "      <th>14</th>\n",
       "      <td>GRC</td>\n",
       "      <td>Europe</td>\n",
       "      <td>Greece</td>\n",
       "      <td>2021-04-30</td>\n",
       "      <td>345033.0</td>\n",
       "      <td>10381.0</td>\n",
       "      <td>33102.863</td>\n",
       "      <td>995.965</td>\n",
       "      <td>10423056.0</td>\n",
       "      <td>83.479</td>\n",
       "      <td>24574.382</td>\n",
       "      <td>0.888</td>\n",
       "      <td>50.0</td>\n",
       "      <td>Southern Europe</td>\n",
       "    </tr>\n",
       "    <tr>\n",
       "      <th>15</th>\n",
       "      <td>HUN</td>\n",
       "      <td>Europe</td>\n",
       "      <td>Hungary</td>\n",
       "      <td>2021-04-30</td>\n",
       "      <td>779348.0</td>\n",
       "      <td>27540.0</td>\n",
       "      <td>80674.924</td>\n",
       "      <td>2850.828</td>\n",
       "      <td>9660350.0</td>\n",
       "      <td>108.043</td>\n",
       "      <td>26777.561</td>\n",
       "      <td>0.854</td>\n",
       "      <td>44.0</td>\n",
       "      <td>Eastern Europe</td>\n",
       "    </tr>\n",
       "    <tr>\n",
       "      <th>16</th>\n",
       "      <td>ISL</td>\n",
       "      <td>Europe</td>\n",
       "      <td>Iceland</td>\n",
       "      <td>2021-04-30</td>\n",
       "      <td>6472.0</td>\n",
       "      <td>29.0</td>\n",
       "      <td>18965.568</td>\n",
       "      <td>84.982</td>\n",
       "      <td>341250.0</td>\n",
       "      <td>3.404</td>\n",
       "      <td>46482.958</td>\n",
       "      <td>0.949</td>\n",
       "      <td>75.0</td>\n",
       "      <td>Northern Europe</td>\n",
       "    </tr>\n",
       "    <tr>\n",
       "      <th>17</th>\n",
       "      <td>IRL</td>\n",
       "      <td>Europe</td>\n",
       "      <td>Ireland</td>\n",
       "      <td>2021-04-30</td>\n",
       "      <td>248870.0</td>\n",
       "      <td>4903.0</td>\n",
       "      <td>50401.029</td>\n",
       "      <td>992.953</td>\n",
       "      <td>4937796.0</td>\n",
       "      <td>69.874</td>\n",
       "      <td>67335.293</td>\n",
       "      <td>0.955</td>\n",
       "      <td>72.0</td>\n",
       "      <td>Western Europe</td>\n",
       "    </tr>\n",
       "    <tr>\n",
       "      <th>18</th>\n",
       "      <td>ITA</td>\n",
       "      <td>Europe</td>\n",
       "      <td>Italy</td>\n",
       "      <td>2021-04-30</td>\n",
       "      <td>4022653.0</td>\n",
       "      <td>120807.0</td>\n",
       "      <td>66532.110</td>\n",
       "      <td>1998.071</td>\n",
       "      <td>60461828.0</td>\n",
       "      <td>205.859</td>\n",
       "      <td>35220.084</td>\n",
       "      <td>0.892</td>\n",
       "      <td>53.0</td>\n",
       "      <td>Southern Europe</td>\n",
       "    </tr>\n",
       "    <tr>\n",
       "      <th>20</th>\n",
       "      <td>LVA</td>\n",
       "      <td>Europe</td>\n",
       "      <td>Latvia</td>\n",
       "      <td>2021-04-30</td>\n",
       "      <td>118558.0</td>\n",
       "      <td>2131.0</td>\n",
       "      <td>62855.410</td>\n",
       "      <td>1129.784</td>\n",
       "      <td>1886202.0</td>\n",
       "      <td>31.212</td>\n",
       "      <td>25063.846</td>\n",
       "      <td>0.866</td>\n",
       "      <td>57.0</td>\n",
       "      <td>Eastern Europe</td>\n",
       "    </tr>\n",
       "    <tr>\n",
       "      <th>21</th>\n",
       "      <td>LTU</td>\n",
       "      <td>Europe</td>\n",
       "      <td>Lithuania</td>\n",
       "      <td>2021-04-30</td>\n",
       "      <td>247269.0</td>\n",
       "      <td>3923.0</td>\n",
       "      <td>90831.215</td>\n",
       "      <td>1441.066</td>\n",
       "      <td>2722291.0</td>\n",
       "      <td>45.135</td>\n",
       "      <td>29524.265</td>\n",
       "      <td>0.882</td>\n",
       "      <td>60.0</td>\n",
       "      <td>Eastern Europe</td>\n",
       "    </tr>\n",
       "    <tr>\n",
       "      <th>22</th>\n",
       "      <td>LUX</td>\n",
       "      <td>Europe</td>\n",
       "      <td>Luxembourg</td>\n",
       "      <td>2021-04-30</td>\n",
       "      <td>67205.0</td>\n",
       "      <td>796.0</td>\n",
       "      <td>107360.346</td>\n",
       "      <td>1271.614</td>\n",
       "      <td>625976.0</td>\n",
       "      <td>231.447</td>\n",
       "      <td>94277.965</td>\n",
       "      <td>0.916</td>\n",
       "      <td>80.0</td>\n",
       "      <td>Western Europe</td>\n",
       "    </tr>\n",
       "    <tr>\n",
       "      <th>23</th>\n",
       "      <td>MLT</td>\n",
       "      <td>Europe</td>\n",
       "      <td>Malta</td>\n",
       "      <td>2021-04-30</td>\n",
       "      <td>30292.0</td>\n",
       "      <td>413.0</td>\n",
       "      <td>68605.491</td>\n",
       "      <td>935.365</td>\n",
       "      <td>441539.0</td>\n",
       "      <td>1454.037</td>\n",
       "      <td>36513.323</td>\n",
       "      <td>0.895</td>\n",
       "      <td>53.0</td>\n",
       "      <td>Southern Europe</td>\n",
       "    </tr>\n",
       "    <tr>\n",
       "      <th>24</th>\n",
       "      <td>MDA</td>\n",
       "      <td>Europe</td>\n",
       "      <td>Moldova</td>\n",
       "      <td>2021-04-30</td>\n",
       "      <td>250837.0</td>\n",
       "      <td>5812.0</td>\n",
       "      <td>62181.284</td>\n",
       "      <td>1440.767</td>\n",
       "      <td>4033963.0</td>\n",
       "      <td>123.655</td>\n",
       "      <td>5189.972</td>\n",
       "      <td>0.750</td>\n",
       "      <td>34.0</td>\n",
       "      <td>Eastern Europe</td>\n",
       "    </tr>\n",
       "    <tr>\n",
       "      <th>25</th>\n",
       "      <td>MNE</td>\n",
       "      <td>Europe</td>\n",
       "      <td>Montenegro</td>\n",
       "      <td>2021-04-30</td>\n",
       "      <td>97389.0</td>\n",
       "      <td>1495.0</td>\n",
       "      <td>155062.717</td>\n",
       "      <td>2380.338</td>\n",
       "      <td>628062.0</td>\n",
       "      <td>46.280</td>\n",
       "      <td>16409.288</td>\n",
       "      <td>0.829</td>\n",
       "      <td>45.0</td>\n",
       "      <td>Eastern Europe</td>\n",
       "    </tr>\n",
       "    <tr>\n",
       "      <th>26</th>\n",
       "      <td>NLD</td>\n",
       "      <td>Europe</td>\n",
       "      <td>Netherlands</td>\n",
       "      <td>2021-04-30</td>\n",
       "      <td>1522973.0</td>\n",
       "      <td>17398.0</td>\n",
       "      <td>88881.487</td>\n",
       "      <td>1015.356</td>\n",
       "      <td>17134873.0</td>\n",
       "      <td>508.544</td>\n",
       "      <td>48472.545</td>\n",
       "      <td>0.944</td>\n",
       "      <td>82.0</td>\n",
       "      <td>Western Europe</td>\n",
       "    </tr>\n",
       "    <tr>\n",
       "      <th>27</th>\n",
       "      <td>MKD</td>\n",
       "      <td>Europe</td>\n",
       "      <td>North Macedonia</td>\n",
       "      <td>2021-04-30</td>\n",
       "      <td>152367.0</td>\n",
       "      <td>4855.0</td>\n",
       "      <td>73134.522</td>\n",
       "      <td>2330.348</td>\n",
       "      <td>2083380.0</td>\n",
       "      <td>82.600</td>\n",
       "      <td>13111.214</td>\n",
       "      <td>0.774</td>\n",
       "      <td>35.0</td>\n",
       "      <td>Eastern Europe</td>\n",
       "    </tr>\n",
       "    <tr>\n",
       "      <th>28</th>\n",
       "      <td>NOR</td>\n",
       "      <td>Europe</td>\n",
       "      <td>Norway</td>\n",
       "      <td>2021-04-30</td>\n",
       "      <td>112970.0</td>\n",
       "      <td>756.0</td>\n",
       "      <td>20838.398</td>\n",
       "      <td>139.451</td>\n",
       "      <td>5421242.0</td>\n",
       "      <td>14.462</td>\n",
       "      <td>64800.057</td>\n",
       "      <td>0.957</td>\n",
       "      <td>84.0</td>\n",
       "      <td>Northern Europe</td>\n",
       "    </tr>\n",
       "    <tr>\n",
       "      <th>29</th>\n",
       "      <td>POL</td>\n",
       "      <td>Europe</td>\n",
       "      <td>Poland</td>\n",
       "      <td>2021-04-30</td>\n",
       "      <td>2792142.0</td>\n",
       "      <td>67502.0</td>\n",
       "      <td>73775.230</td>\n",
       "      <td>1783.568</td>\n",
       "      <td>37846605.0</td>\n",
       "      <td>124.027</td>\n",
       "      <td>27216.445</td>\n",
       "      <td>0.880</td>\n",
       "      <td>56.0</td>\n",
       "      <td>Eastern Europe</td>\n",
       "    </tr>\n",
       "    <tr>\n",
       "      <th>30</th>\n",
       "      <td>PRT</td>\n",
       "      <td>Europe</td>\n",
       "      <td>Portugal</td>\n",
       "      <td>2021-04-30</td>\n",
       "      <td>836493.0</td>\n",
       "      <td>16974.0</td>\n",
       "      <td>82035.602</td>\n",
       "      <td>1664.655</td>\n",
       "      <td>10196707.0</td>\n",
       "      <td>112.371</td>\n",
       "      <td>27936.896</td>\n",
       "      <td>0.864</td>\n",
       "      <td>61.0</td>\n",
       "      <td>Southern Europe</td>\n",
       "    </tr>\n",
       "    <tr>\n",
       "      <th>31</th>\n",
       "      <td>ROU</td>\n",
       "      <td>Europe</td>\n",
       "      <td>Romania</td>\n",
       "      <td>2021-04-30</td>\n",
       "      <td>1055265.0</td>\n",
       "      <td>28109.0</td>\n",
       "      <td>54854.062</td>\n",
       "      <td>1461.143</td>\n",
       "      <td>19237682.0</td>\n",
       "      <td>85.129</td>\n",
       "      <td>23313.199</td>\n",
       "      <td>0.828</td>\n",
       "      <td>44.0</td>\n",
       "      <td>Eastern Europe</td>\n",
       "    </tr>\n",
       "    <tr>\n",
       "      <th>32</th>\n",
       "      <td>RUS</td>\n",
       "      <td>Europe</td>\n",
       "      <td>Russia</td>\n",
       "      <td>2021-04-30</td>\n",
       "      <td>4750755.0</td>\n",
       "      <td>108290.0</td>\n",
       "      <td>32554.031</td>\n",
       "      <td>742.045</td>\n",
       "      <td>145934460.0</td>\n",
       "      <td>8.823</td>\n",
       "      <td>24765.954</td>\n",
       "      <td>0.824</td>\n",
       "      <td>30.0</td>\n",
       "      <td>Eastern Europe</td>\n",
       "    </tr>\n",
       "    <tr>\n",
       "      <th>33</th>\n",
       "      <td>SRB</td>\n",
       "      <td>Europe</td>\n",
       "      <td>Serbia</td>\n",
       "      <td>2021-04-30</td>\n",
       "      <td>689557.0</td>\n",
       "      <td>6362.0</td>\n",
       "      <td>101336.949</td>\n",
       "      <td>934.956</td>\n",
       "      <td>6804596.0</td>\n",
       "      <td>80.291</td>\n",
       "      <td>14048.881</td>\n",
       "      <td>0.806</td>\n",
       "      <td>38.0</td>\n",
       "      <td>Eastern Europe</td>\n",
       "    </tr>\n",
       "    <tr>\n",
       "      <th>34</th>\n",
       "      <td>SVK</td>\n",
       "      <td>Europe</td>\n",
       "      <td>Slovakia</td>\n",
       "      <td>2021-04-30</td>\n",
       "      <td>382211.0</td>\n",
       "      <td>11684.0</td>\n",
       "      <td>70006.592</td>\n",
       "      <td>2140.067</td>\n",
       "      <td>5459643.0</td>\n",
       "      <td>113.128</td>\n",
       "      <td>30155.152</td>\n",
       "      <td>0.860</td>\n",
       "      <td>49.0</td>\n",
       "      <td>Eastern Europe</td>\n",
       "    </tr>\n",
       "    <tr>\n",
       "      <th>35</th>\n",
       "      <td>SVN</td>\n",
       "      <td>Europe</td>\n",
       "      <td>Slovenia</td>\n",
       "      <td>2021-04-30</td>\n",
       "      <td>240292.0</td>\n",
       "      <td>4250.0</td>\n",
       "      <td>115584.348</td>\n",
       "      <td>2044.319</td>\n",
       "      <td>2078932.0</td>\n",
       "      <td>102.619</td>\n",
       "      <td>31400.840</td>\n",
       "      <td>0.917</td>\n",
       "      <td>60.0</td>\n",
       "      <td>Eastern Europe</td>\n",
       "    </tr>\n",
       "    <tr>\n",
       "      <th>36</th>\n",
       "      <td>ESP</td>\n",
       "      <td>Europe</td>\n",
       "      <td>Spain</td>\n",
       "      <td>2021-04-30</td>\n",
       "      <td>3524077.0</td>\n",
       "      <td>78216.0</td>\n",
       "      <td>75373.615</td>\n",
       "      <td>1672.898</td>\n",
       "      <td>46754783.0</td>\n",
       "      <td>93.105</td>\n",
       "      <td>34272.360</td>\n",
       "      <td>0.904</td>\n",
       "      <td>62.0</td>\n",
       "      <td>Southern Europe</td>\n",
       "    </tr>\n",
       "    <tr>\n",
       "      <th>37</th>\n",
       "      <td>SWE</td>\n",
       "      <td>Europe</td>\n",
       "      <td>Sweden</td>\n",
       "      <td>2021-04-30</td>\n",
       "      <td>973604.0</td>\n",
       "      <td>14048.0</td>\n",
       "      <td>96403.403</td>\n",
       "      <td>1390.992</td>\n",
       "      <td>10099270.0</td>\n",
       "      <td>24.718</td>\n",
       "      <td>46949.283</td>\n",
       "      <td>0.945</td>\n",
       "      <td>85.0</td>\n",
       "      <td>Northern Europe</td>\n",
       "    </tr>\n",
       "    <tr>\n",
       "      <th>38</th>\n",
       "      <td>CHE</td>\n",
       "      <td>Europe</td>\n",
       "      <td>Switzerland</td>\n",
       "      <td>2021-04-30</td>\n",
       "      <td>659974.0</td>\n",
       "      <td>10632.0</td>\n",
       "      <td>76256.861</td>\n",
       "      <td>1228.477</td>\n",
       "      <td>8654618.0</td>\n",
       "      <td>214.243</td>\n",
       "      <td>57410.166</td>\n",
       "      <td>0.955</td>\n",
       "      <td>85.0</td>\n",
       "      <td>Western Europe</td>\n",
       "    </tr>\n",
       "    <tr>\n",
       "      <th>39</th>\n",
       "      <td>UKR</td>\n",
       "      <td>Europe</td>\n",
       "      <td>Ukraine</td>\n",
       "      <td>2021-04-30</td>\n",
       "      <td>2124070.0</td>\n",
       "      <td>45923.0</td>\n",
       "      <td>48568.201</td>\n",
       "      <td>1050.058</td>\n",
       "      <td>43733759.0</td>\n",
       "      <td>77.390</td>\n",
       "      <td>7894.393</td>\n",
       "      <td>0.779</td>\n",
       "      <td>33.0</td>\n",
       "      <td>Eastern Europe</td>\n",
       "    </tr>\n",
       "    <tr>\n",
       "      <th>40</th>\n",
       "      <td>GBR</td>\n",
       "      <td>Europe</td>\n",
       "      <td>United Kingdom</td>\n",
       "      <td>2021-04-30</td>\n",
       "      <td>4432246.0</td>\n",
       "      <td>127775.0</td>\n",
       "      <td>65289.540</td>\n",
       "      <td>1882.199</td>\n",
       "      <td>67886004.0</td>\n",
       "      <td>272.898</td>\n",
       "      <td>39753.244</td>\n",
       "      <td>0.932</td>\n",
       "      <td>77.0</td>\n",
       "      <td>Western Europe</td>\n",
       "    </tr>\n",
       "  </tbody>\n",
       "</table>\n",
       "</div>"
      ],
      "text/plain": [
       "   iso_code continent                 Country        date      Cases  \\\n",
       "0       ALB    Europe                 Albania  2021-04-30   131085.0   \n",
       "1       AUT    Europe                 Austria  2021-04-30   618870.0   \n",
       "2       BLR    Europe                 Belarus  2021-04-30   358738.0   \n",
       "3       BEL    Europe                 Belgium  2021-04-30   990229.0   \n",
       "4       BIH    Europe  Bosnia and Herzegovina  2021-04-30   198461.0   \n",
       "5       BGR    Europe                Bulgaria  2021-04-30   404380.0   \n",
       "6       HRV    Europe                 Croatia  2021-04-30   332183.0   \n",
       "7       CYP    Europe                  Cyprus  2021-04-30    65233.0   \n",
       "8       CZE    Europe                 Czechia  2021-04-30  1630758.0   \n",
       "9       DNK    Europe                 Denmark  2021-04-30   251249.0   \n",
       "10      EST    Europe                 Estonia  2021-04-30   122019.0   \n",
       "11      FIN    Europe                 Finland  2021-04-30    86808.0   \n",
       "12      FRA    Europe                  France  2021-04-30  5677835.0   \n",
       "13      DEU    Europe                 Germany  2021-04-30  3405365.0   \n",
       "14      GRC    Europe                  Greece  2021-04-30   345033.0   \n",
       "15      HUN    Europe                 Hungary  2021-04-30   779348.0   \n",
       "16      ISL    Europe                 Iceland  2021-04-30     6472.0   \n",
       "17      IRL    Europe                 Ireland  2021-04-30   248870.0   \n",
       "18      ITA    Europe                   Italy  2021-04-30  4022653.0   \n",
       "20      LVA    Europe                  Latvia  2021-04-30   118558.0   \n",
       "21      LTU    Europe               Lithuania  2021-04-30   247269.0   \n",
       "22      LUX    Europe              Luxembourg  2021-04-30    67205.0   \n",
       "23      MLT    Europe                   Malta  2021-04-30    30292.0   \n",
       "24      MDA    Europe                 Moldova  2021-04-30   250837.0   \n",
       "25      MNE    Europe              Montenegro  2021-04-30    97389.0   \n",
       "26      NLD    Europe             Netherlands  2021-04-30  1522973.0   \n",
       "27      MKD    Europe         North Macedonia  2021-04-30   152367.0   \n",
       "28      NOR    Europe                  Norway  2021-04-30   112970.0   \n",
       "29      POL    Europe                  Poland  2021-04-30  2792142.0   \n",
       "30      PRT    Europe                Portugal  2021-04-30   836493.0   \n",
       "31      ROU    Europe                 Romania  2021-04-30  1055265.0   \n",
       "32      RUS    Europe                  Russia  2021-04-30  4750755.0   \n",
       "33      SRB    Europe                  Serbia  2021-04-30   689557.0   \n",
       "34      SVK    Europe                Slovakia  2021-04-30   382211.0   \n",
       "35      SVN    Europe                Slovenia  2021-04-30   240292.0   \n",
       "36      ESP    Europe                   Spain  2021-04-30  3524077.0   \n",
       "37      SWE    Europe                  Sweden  2021-04-30   973604.0   \n",
       "38      CHE    Europe             Switzerland  2021-04-30   659974.0   \n",
       "39      UKR    Europe                 Ukraine  2021-04-30  2124070.0   \n",
       "40      GBR    Europe          United Kingdom  2021-04-30  4432246.0   \n",
       "\n",
       "      Deaths     Cases/M  Deaths/M   Population   Density        GDP    HDI  \\\n",
       "0     2394.0   45550.420   831.885    2877800.0   104.871  11803.431  0.795   \n",
       "1    10205.0   68714.470  1133.083    9006400.0   106.749  45436.686  0.922   \n",
       "2     2542.0   37964.421   269.014    9449321.0    46.858  17167.967  0.823   \n",
       "3    24230.0   85441.053  2090.665   11589616.0   375.564  42658.576  0.931   \n",
       "4     8551.0   60491.372  2606.365    3280815.0    68.496  11713.895  0.780   \n",
       "5    16399.0   58197.194  2360.096    6948445.0    65.180  18563.307  0.816   \n",
       "6     7081.0   80916.276  1724.857    4105268.0    73.726  22669.797  0.851   \n",
       "7      308.0   74475.482   351.639     875899.0   127.657  32415.132  0.887   \n",
       "8    29267.0  152279.460  2732.940   10708982.0   137.176  32605.906  0.900   \n",
       "9     2484.0   43377.105   428.852    5792203.0   136.520  46682.515  0.940   \n",
       "10    1161.0   91982.972   875.210    1326539.0    31.033  29481.252  0.892   \n",
       "11     914.0   15667.284   164.961    5540718.0    18.136  40585.721  0.938   \n",
       "12  104675.0   83316.621  1536.002   68147687.0   122.578  38605.671  0.901   \n",
       "13   83097.0   40644.601   991.801   83783945.0   237.016  45229.245  0.947   \n",
       "14   10381.0   33102.863   995.965   10423056.0    83.479  24574.382  0.888   \n",
       "15   27540.0   80674.924  2850.828    9660350.0   108.043  26777.561  0.854   \n",
       "16      29.0   18965.568    84.982     341250.0     3.404  46482.958  0.949   \n",
       "17    4903.0   50401.029   992.953    4937796.0    69.874  67335.293  0.955   \n",
       "18  120807.0   66532.110  1998.071   60461828.0   205.859  35220.084  0.892   \n",
       "20    2131.0   62855.410  1129.784    1886202.0    31.212  25063.846  0.866   \n",
       "21    3923.0   90831.215  1441.066    2722291.0    45.135  29524.265  0.882   \n",
       "22     796.0  107360.346  1271.614     625976.0   231.447  94277.965  0.916   \n",
       "23     413.0   68605.491   935.365     441539.0  1454.037  36513.323  0.895   \n",
       "24    5812.0   62181.284  1440.767    4033963.0   123.655   5189.972  0.750   \n",
       "25    1495.0  155062.717  2380.338     628062.0    46.280  16409.288  0.829   \n",
       "26   17398.0   88881.487  1015.356   17134873.0   508.544  48472.545  0.944   \n",
       "27    4855.0   73134.522  2330.348    2083380.0    82.600  13111.214  0.774   \n",
       "28     756.0   20838.398   139.451    5421242.0    14.462  64800.057  0.957   \n",
       "29   67502.0   73775.230  1783.568   37846605.0   124.027  27216.445  0.880   \n",
       "30   16974.0   82035.602  1664.655   10196707.0   112.371  27936.896  0.864   \n",
       "31   28109.0   54854.062  1461.143   19237682.0    85.129  23313.199  0.828   \n",
       "32  108290.0   32554.031   742.045  145934460.0     8.823  24765.954  0.824   \n",
       "33    6362.0  101336.949   934.956    6804596.0    80.291  14048.881  0.806   \n",
       "34   11684.0   70006.592  2140.067    5459643.0   113.128  30155.152  0.860   \n",
       "35    4250.0  115584.348  2044.319    2078932.0   102.619  31400.840  0.917   \n",
       "36   78216.0   75373.615  1672.898   46754783.0    93.105  34272.360  0.904   \n",
       "37   14048.0   96403.403  1390.992   10099270.0    24.718  46949.283  0.945   \n",
       "38   10632.0   76256.861  1228.477    8654618.0   214.243  57410.166  0.955   \n",
       "39   45923.0   48568.201  1050.058   43733759.0    77.390   7894.393  0.779   \n",
       "40  127775.0   65289.540  1882.199   67886004.0   272.898  39753.244  0.932   \n",
       "\n",
       "    Score           Region  \n",
       "0    36.0   Eastern Europe  \n",
       "1    76.0   Western Europe  \n",
       "2    47.0   Eastern Europe  \n",
       "3    76.0   Western Europe  \n",
       "4    35.0   Eastern Europe  \n",
       "5    44.0   Eastern Europe  \n",
       "6    47.0   Eastern Europe  \n",
       "7    57.0  Southern Europe  \n",
       "8    54.0   Eastern Europe  \n",
       "9    88.0  Northern Europe  \n",
       "10   75.0   Eastern Europe  \n",
       "11   85.0  Northern Europe  \n",
       "12   69.0   Western Europe  \n",
       "13   80.0   Western Europe  \n",
       "14   50.0  Southern Europe  \n",
       "15   44.0   Eastern Europe  \n",
       "16   75.0  Northern Europe  \n",
       "17   72.0   Western Europe  \n",
       "18   53.0  Southern Europe  \n",
       "20   57.0   Eastern Europe  \n",
       "21   60.0   Eastern Europe  \n",
       "22   80.0   Western Europe  \n",
       "23   53.0  Southern Europe  \n",
       "24   34.0   Eastern Europe  \n",
       "25   45.0   Eastern Europe  \n",
       "26   82.0   Western Europe  \n",
       "27   35.0   Eastern Europe  \n",
       "28   84.0  Northern Europe  \n",
       "29   56.0   Eastern Europe  \n",
       "30   61.0  Southern Europe  \n",
       "31   44.0   Eastern Europe  \n",
       "32   30.0   Eastern Europe  \n",
       "33   38.0   Eastern Europe  \n",
       "34   49.0   Eastern Europe  \n",
       "35   60.0   Eastern Europe  \n",
       "36   62.0  Southern Europe  \n",
       "37   85.0  Northern Europe  \n",
       "38   85.0   Western Europe  \n",
       "39   33.0   Eastern Europe  \n",
       "40   77.0   Western Europe  "
      ]
     },
     "execution_count": 72,
     "metadata": {},
     "output_type": "execute_result"
    }
   ],
   "source": [
    "CovidEuro"
   ]
  },
  {
   "cell_type": "code",
   "execution_count": null,
   "metadata": {},
   "outputs": [],
   "source": []
  },
  {
   "cell_type": "code",
   "execution_count": 30,
   "metadata": {},
   "outputs": [],
   "source": [
    "# # Pair Plots as of 4/30/2021\n",
    "\n",
    "# # Use Seaborn to create a PairGrid\n",
    "# def corrfunc(x, y, ax=None, **kws):\n",
    "#     \"\"\"Plot the correlation coefficient in the top left hand corner of a plot.\"\"\"\n",
    "#     r, _ = pearsonr(x, y)\n",
    "#     ax = ax or plt.gca()\n",
    "#     ax.annotate(f'coor = {r:.2f}', xy=(.1, .9), xycoords=ax.transAxes)\n",
    "\n",
    "# g = sns.pairplot(CovidEuro, corner=True)  # Set corner=True to plot only the lower triangle:\n",
    "# g.map_lower(corrfunc)\n",
    "# # plt.show()"
   ]
  },
  {
   "cell_type": "code",
   "execution_count": 76,
   "metadata": {},
   "outputs": [
    {
     "data": {
      "text/html": [
       "<div>\n",
       "<style scoped>\n",
       "    .dataframe tbody tr th:only-of-type {\n",
       "        vertical-align: middle;\n",
       "    }\n",
       "\n",
       "    .dataframe tbody tr th {\n",
       "        vertical-align: top;\n",
       "    }\n",
       "\n",
       "    .dataframe thead tr th {\n",
       "        text-align: left;\n",
       "    }\n",
       "\n",
       "    .dataframe thead tr:last-of-type th {\n",
       "        text-align: right;\n",
       "    }\n",
       "</style>\n",
       "<table border=\"1\" class=\"dataframe\">\n",
       "  <thead>\n",
       "    <tr>\n",
       "      <th></th>\n",
       "      <th>Cases</th>\n",
       "      <th>Deaths</th>\n",
       "      <th>Population</th>\n",
       "      <th>Score</th>\n",
       "      <th>Cases/m</th>\n",
       "      <th>Deaths/m</th>\n",
       "      <th>Fatality Rate (%)</th>\n",
       "    </tr>\n",
       "    <tr>\n",
       "      <th></th>\n",
       "      <th>sum</th>\n",
       "      <th>sum</th>\n",
       "      <th>sum</th>\n",
       "      <th>mean</th>\n",
       "      <th></th>\n",
       "      <th></th>\n",
       "      <th></th>\n",
       "    </tr>\n",
       "    <tr>\n",
       "      <th>Region</th>\n",
       "      <th></th>\n",
       "      <th></th>\n",
       "      <th></th>\n",
       "      <th></th>\n",
       "      <th></th>\n",
       "      <th></th>\n",
       "      <th></th>\n",
       "    </tr>\n",
       "  </thead>\n",
       "  <tbody>\n",
       "    <tr>\n",
       "      <th>Eastern Europe</th>\n",
       "      <td>16857684.0</td>\n",
       "      <td>385271.0</td>\n",
       "      <td>320807095.0</td>\n",
       "      <td>46.150000</td>\n",
       "      <td>52547.73</td>\n",
       "      <td>1200.94</td>\n",
       "      <td>2.29</td>\n",
       "    </tr>\n",
       "    <tr>\n",
       "      <th>Northern Europe</th>\n",
       "      <td>1431103.0</td>\n",
       "      <td>18231.0</td>\n",
       "      <td>27194683.0</td>\n",
       "      <td>83.400000</td>\n",
       "      <td>52624.37</td>\n",
       "      <td>670.39</td>\n",
       "      <td>1.27</td>\n",
       "    </tr>\n",
       "    <tr>\n",
       "      <th>Southern Europe</th>\n",
       "      <td>8823781.0</td>\n",
       "      <td>227099.0</td>\n",
       "      <td>129153812.0</td>\n",
       "      <td>56.000000</td>\n",
       "      <td>68319.94</td>\n",
       "      <td>1758.36</td>\n",
       "      <td>2.57</td>\n",
       "    </tr>\n",
       "    <tr>\n",
       "      <th>Western Europe</th>\n",
       "      <td>17623567.0</td>\n",
       "      <td>383711.0</td>\n",
       "      <td>271766915.0</td>\n",
       "      <td>77.444444</td>\n",
       "      <td>64848.10</td>\n",
       "      <td>1411.91</td>\n",
       "      <td>2.18</td>\n",
       "    </tr>\n",
       "  </tbody>\n",
       "</table>\n",
       "</div>"
      ],
      "text/plain": [
       "                      Cases    Deaths   Population      Score   Cases/m  \\\n",
       "                        sum       sum          sum       mean             \n",
       "Region                                                                    \n",
       "Eastern Europe   16857684.0  385271.0  320807095.0  46.150000  52547.73   \n",
       "Northern Europe   1431103.0   18231.0   27194683.0  83.400000  52624.37   \n",
       "Southern Europe   8823781.0  227099.0  129153812.0  56.000000  68319.94   \n",
       "Western Europe   17623567.0  383711.0  271766915.0  77.444444  64848.10   \n",
       "\n",
       "                Deaths/m Fatality Rate (%)  \n",
       "                                            \n",
       "Region                                      \n",
       "Eastern Europe   1200.94              2.29  \n",
       "Northern Europe   670.39              1.27  \n",
       "Southern Europe  1758.36              2.57  \n",
       "Western Europe   1411.91              2.18  "
      ]
     },
     "execution_count": 76,
     "metadata": {},
     "output_type": "execute_result"
    }
   ],
   "source": [
    "EuroSummary = CovidEuro.groupby(['Region']).agg({\"Cases\": [\"sum\"],\"Deaths\": [\"sum\"], \"Population\": [\"sum\"], \"Score\": [\"mean\"]}, )\n",
    "EuroSummary[\"Cases/m\"] = round(EuroSummary[\"Cases\"] / (EuroSummary[\"Population\"] / 1000000),2).astype(float)\n",
    "EuroSummary[\"Deaths/m\"] = round(EuroSummary[\"Deaths\"] / (EuroSummary[\"Population\"] / 1000000),2).astype(float)\n",
    "EuroSummary[\"Fatality Rate (%)\"] = round(EuroSummary[\"Deaths\"] / (EuroSummary[\"Cases\"])*100,2).astype(float)\n",
    "EuroSummary"
   ]
  },
  {
   "cell_type": "code",
   "execution_count": 66,
   "metadata": {},
   "outputs": [],
   "source": [
    "Eastern = CovidEuro[CovidEuro['Region'].isin(['Eastern Europe'])]\n",
    "Northern = CovidEuro[CovidEuro['Region'].isin(['Northern Europe'])]\n",
    "Southern = CovidEuro[CovidEuro['Region'].isin(['Southern Europe'])]\n",
    "Western = CovidEuro[CovidEuro['Region'].isin(['Western Europe'])]"
   ]
  },
  {
   "cell_type": "code",
   "execution_count": 91,
   "metadata": {},
   "outputs": [
    {
     "name": "stdout",
     "output_type": "stream",
     "text": [
      "The Pearson correlation between GDP per capita and cases per million is 0.01\n",
      "The r-squared is: 0.0\n"
     ]
    },
    {
     "data": {
      "image/png": "[encoded data removed]",
      "text/plain": [
       "<Figure size 432x288 with 1 Axes>"
      ]
     },
     "metadata": {},
     "output_type": "display_data"
    }
   ],
   "source": [
    "# Calculate the correlation value because why not\n",
    "correlation = st.pearsonr(CovidEuro[\"GDP\"],CovidEuro[\"Cases\"])\n",
    "print(f\"The Pearson correlation between GDP per capita and cases per million is {round(correlation[0],2)}\")\n",
    "\n",
    "\n",
    "# Plot\n",
    "x_values = CovidEuro[\"GDP\"]\n",
    "y_values = CovidEuro[\"Cases\"]\n",
    "(slope, intercept, rvalue, pvalue, stderr) = linregress(x_values, y_values)\n",
    "regress_values = x_values * slope + intercept\n",
    "line_eq = \"y = \" + str(round(slope,2)) + \"x + \" + str(round(intercept,2))\n",
    "plt.scatter(x_values,y_values)\n",
    "plt.plot(x_values,regress_values,\"r-\")\n",
    "\n",
    "# Label\n",
    "plt.xlabel('GDP per Capita')\n",
    "plt.ylabel(\"Cases per million\")\n",
    "plt.title (\"Impact of GDP on number of COVID-19 Cases (4/30/2021)\")\n",
    "print(f\"The r-squared is: {round(rvalue**2,2)}\")\n",
    "plt.annotate(line_eq,(0,2),fontsize=10,color=\"red\")\n",
    "\n",
    "# Print\n",
    "plt.savefig(\"Output/ScatterEuroGDPvsCases.png\")\n",
    "\n",
    "#Display\n",
    "plt.show()"
   ]
  },
  {
   "cell_type": "code",
   "execution_count": 92,
   "metadata": {},
   "outputs": [
    {
     "name": "stdout",
     "output_type": "stream",
     "text": [
      "The Pearson correlation between HDI and cases per million is 0.11\n",
      "The r-squared is: 0.01\n"
     ]
    },
    {
     "data": {
      "image/png": "[encoded data removed]",
      "text/plain": [
       "<Figure size 432x288 with 1 Axes>"
      ]
     },
     "metadata": {},
     "output_type": "display_data"
    }
   ],
   "source": [
    "# Calculate the correlation value because why not\n",
    "correlation = st.pearsonr(CovidEuro[\"HDI\"],CovidEuro[\"Cases\"])\n",
    "print(f\"The Pearson correlation between HDI and cases per million is {round(correlation[0],2)}\")\n",
    "\n",
    "\n",
    "# Plot\n",
    "x_values = CovidEuro[\"HDI\"]\n",
    "y_values = CovidEuro[\"Cases\"]\n",
    "(slope, intercept, rvalue, pvalue, stderr) = linregress(x_values, y_values)\n",
    "regress_values = x_values * slope + intercept\n",
    "line_eq = \"y = \" + str(round(slope,2)) + \"x + \" + str(round(intercept,2))\n",
    "plt.scatter(x_values,y_values)\n",
    "plt.plot(x_values,regress_values,\"r-\")\n",
    "\n",
    "# Label\n",
    "plt.xlabel('Human Development Index')\n",
    "plt.ylabel(\"Cases per million\")\n",
    "plt.title (\"Impact of HDI on number of COVID-19 Cases (4/30/2021)\")\n",
    "print(f\"The r-squared is: {round(rvalue**2,2)}\")\n",
    "plt.annotate(line_eq,(0,2),fontsize=10,color=\"red\")\n",
    "\n",
    "# Print\n",
    "plt.savefig(\"Output/ScatterEuroHDIvsCases.png\")\n",
    "\n",
    "#Display\n",
    "plt.show()"
   ]
  },
  {
   "cell_type": "code",
   "execution_count": 93,
   "metadata": {},
   "outputs": [
    {
     "name": "stdout",
     "output_type": "stream",
     "text": [
      "The Pearson correlation between corruption perception and cases per million is 0.01\n",
      "The r-squared is: 0.0\n"
     ]
    },
    {
     "data": {
      "image/png": "[encoded data removed]",
      "text/plain": [
       "<Figure size 432x288 with 1 Axes>"
      ]
     },
     "metadata": {},
     "output_type": "display_data"
    }
   ],
   "source": [
    "# Calculate the correlation value because why not\n",
    "correlation = st.pearsonr(CovidEuro[\"Score\"],CovidEuro[\"Cases\"])\n",
    "print(f\"The Pearson correlation between corruption perception and cases per million is {round(correlation[0],2)}\")\n",
    "\n",
    "\n",
    "# Plot\n",
    "x_values = CovidEuro[\"Score\"]\n",
    "y_values = CovidEuro[\"Cases\"]\n",
    "(slope, intercept, rvalue, pvalue, stderr) = linregress(x_values, y_values)\n",
    "regress_values = x_values * slope + intercept\n",
    "line_eq = \"y = \" + str(round(slope,2)) + \"x + \" + str(round(intercept,2))\n",
    "plt.scatter(x_values,y_values)\n",
    "plt.plot(x_values,regress_values,\"r-\")\n",
    "\n",
    "# Label\n",
    "plt.xlabel('Corruption Perception Index')\n",
    "plt.ylabel(\"Cases per million\")\n",
    "plt.title (\"Impact of Corruption Perception on number of COVID-19 Cases (4/30/2021)\")\n",
    "print(f\"The r-squared is: {round(rvalue**2,2)}\")\n",
    "plt.annotate(line_eq,(0,2),fontsize=10,color=\"red\")\n",
    "\n",
    "# Print\n",
    "plt.savefig(\"Output/ScatterEuroScoreVsCases.png\")\n",
    "\n",
    "#Display\n",
    "plt.show()"
   ]
  },
  {
   "cell_type": "code",
   "execution_count": 94,
   "metadata": {},
   "outputs": [
    {
     "name": "stdout",
     "output_type": "stream",
     "text": [
      "The Pearson correlation between GDP per capita and deaths per million is -0.01\n",
      "The r-squared is: 0.0\n"
     ]
    },
    {
     "data": {
      "image/png": "[encoded data removed]",
      "text/plain": [
       "<Figure size 432x288 with 1 Axes>"
      ]
     },
     "metadata": {},
     "output_type": "display_data"
    }
   ],
   "source": [
    "# Calculate the correlation value because why not\n",
    "correlation = st.pearsonr(CovidEuro[\"GDP\"],CovidEuro[\"Deaths\"])\n",
    "print(f\"The Pearson correlation between GDP per capita and deaths per million is {round(correlation[0],2)}\")\n",
    "\n",
    "\n",
    "# Plot\n",
    "x_values = CovidEuro[\"GDP\"]\n",
    "y_values = CovidEuro[\"Deaths\"]\n",
    "(slope, intercept, rvalue, pvalue, stderr) = linregress(x_values, y_values)\n",
    "regress_values = x_values * slope + intercept\n",
    "line_eq = \"y = \" + str(round(slope,2)) + \"x + \" + str(round(intercept,2))\n",
    "plt.scatter(x_values,y_values)\n",
    "plt.plot(x_values,regress_values,\"r-\")\n",
    "\n",
    "# Label\n",
    "plt.xlabel('GDP per Capita')\n",
    "plt.ylabel(\"Deaths per million\")\n",
    "plt.title (\"Impact of GDP on number of COVID-19 Deaths (4/30/2021)\")\n",
    "print(f\"The r-squared is: {round(rvalue**2,2)}\")\n",
    "plt.annotate(line_eq,(0,2),fontsize=10,color=\"red\")\n",
    "\n",
    "# Print\n",
    "plt.savefig(\"Output/ScatterEuroGDPvsDeaths.png\")\n",
    "\n",
    "#Display\n",
    "plt.show()"
   ]
  },
  {
   "cell_type": "code",
   "execution_count": 95,
   "metadata": {},
   "outputs": [
    {
     "name": "stdout",
     "output_type": "stream",
     "text": [
      "The Pearson correlation between HDI and cases per million is 0.08\n",
      "The r-squared is: 0.94\n"
     ]
    },
    {
     "data": {
      "image/png": "[encoded data removed]",
      "text/plain": [
       "<Figure size 432x288 with 1 Axes>"
      ]
     },
     "metadata": {},
     "output_type": "display_data"
    }
   ],
   "source": [
    "# Calculate the correlation value because why not\n",
    "correlation = st.pearsonr(CovidEuro[\"HDI\"],CovidEuro[\"Deaths\"])\n",
    "print(f\"The Pearson correlation between HDI and cases per million is {round(correlation[0],2)}\")\n",
    "\n",
    "\n",
    "# Plot\n",
    "x_values = CovidEuro[\"Deaths\"]\n",
    "y_values = CovidEuro[\"Cases\"]\n",
    "(slope, intercept, rvalue, pvalue, stderr) = linregress(x_values, y_values)\n",
    "regress_values = x_values * slope + intercept\n",
    "line_eq = \"y = \" + str(round(slope,2)) + \"x + \" + str(round(intercept,2))\n",
    "plt.scatter(x_values,y_values)\n",
    "plt.plot(x_values,regress_values,\"r-\")\n",
    "\n",
    "# Label\n",
    "plt.xlabel('Human Development Index')\n",
    "plt.ylabel(\"Deaths per million\")\n",
    "plt.title (\"Impact of HDI on number of COVID-19 Deaths (4/30/2021)\")\n",
    "print(f\"The r-squared is: {round(rvalue**2,2)}\")\n",
    "plt.annotate(line_eq,(0,2),fontsize=10,color=\"red\")\n",
    "\n",
    "# Print\n",
    "plt.savefig(\"Output/ScatterEuroHDIvsDeaths.png\")\n",
    "\n",
    "#Display\n",
    "plt.show()"
   ]
  },
  {
   "cell_type": "code",
   "execution_count": 96,
   "metadata": {},
   "outputs": [
    {
     "name": "stdout",
     "output_type": "stream",
     "text": [
      "The Pearson correlation between corruption perception and deaths per million is -0.02\n",
      "The r-squared is: 0.0\n"
     ]
    },
    {
     "data": {
      "image/png": "[encoded data removed]",
      "text/plain": [
       "<Figure size 432x288 with 1 Axes>"
      ]
     },
     "metadata": {},
     "output_type": "display_data"
    }
   ],
   "source": [
    "# Calculate the correlation value because why not\n",
    "correlation = st.pearsonr(CovidEuro[\"Score\"],CovidEuro[\"Deaths\"])\n",
    "print(f\"The Pearson correlation between corruption perception and deaths per million is {round(correlation[0],2)}\")\n",
    "\n",
    "\n",
    "# Plot\n",
    "x_values = CovidEuro[\"Score\"]\n",
    "y_values = CovidEuro[\"Deaths\"]\n",
    "(slope, intercept, rvalue, pvalue, stderr) = linregress(x_values, y_values)\n",
    "regress_values = x_values * slope + intercept\n",
    "line_eq = \"y = \" + str(round(slope,2)) + \"x + \" + str(round(intercept,2))\n",
    "plt.scatter(x_values,y_values)\n",
    "plt.plot(x_values,regress_values,\"r-\")\n",
    "\n",
    "# Label\n",
    "plt.xlabel('Corruption Perception Index')\n",
    "plt.ylabel(\"Deaths per million\")\n",
    "plt.title (\"Impact of Corruption Perception on number of COVID-19 Deaths (4/30/2021)\")\n",
    "print(f\"The r-squared is: {round(rvalue**2,2)}\")\n",
    "plt.annotate(line_eq,(0,2),fontsize=10,color=\"red\")\n",
    "\n",
    "# Print\n",
    "plt.savefig(\"Output/ScatterEuroScoreVsCases.png\")\n",
    "\n",
    "#Display\n",
    "plt.show()"
   ]
  },
  {
   "cell_type": "code",
   "execution_count": 97,
   "metadata": {},
   "outputs": [
    {
     "data": {
      "text/plain": [
       "Text(0.5, 1.0, 'Cases per Million grouped by Europen Region')"
      ]
     },
     "execution_count": 97,
     "metadata": {},
     "output_type": "execute_result"
    },
    {
     "data": {
      "image/png": "[encoded data removed]",
      "text/plain": [
       "<Figure size 864x576 with 1 Axes>"
      ]
     },
     "metadata": {},
     "output_type": "display_data"
    }
   ],
   "source": [
    "#https://www.marsja.se/four-ways-to-conduct-one-way-anovas-using-python/#:~:text=%20ANOVA%20in%20Python%20using%20Statsmodels%20%201,carry%20out%20the%20ANOVA%20in%20Python%0ASave%20More%20\n",
    "\n",
    "#Create a boxplot\n",
    "CovidEuro.boxplot('Cases/M', by='Region', figsize=(12, 8))\n",
    "\n",
    "# ctrl = CovidEuro['Cases/M'][CovidEuro.Region == 'ctrl']\n",
    "grps = pd.unique(CovidEuro.Region.values)\n",
    "d_data = {grp:CovidEuro['Cases/M'][CovidEuro.Region == grp] for grp in grps}\n",
    "\n",
    "k = len(pd.unique(CovidEuro.Region))  # number of conditions\n",
    "N = len(CovidEuro.values)  # conditions times participants\n",
    "n = CovidEuro.groupby('Region').size()[0] #Participants in each condition\n",
    "plt.title (\"Cases per Million grouped by Europen Region\")\n"
   ]
  },
  {
   "cell_type": "markdown",
   "metadata": {},
   "source": [
    "# MAP OF REGIONAL EURO"
   ]
  },
  {
   "cell_type": "code",
   "execution_count": 1,
   "metadata": {},
   "outputs": [],
   "source": [
    "import plotly.express as px\n",
    "import plotly.graph_objects as go"
   ]
  },
  {
   "cell_type": "code",
   "execution_count": 8,
   "metadata": {},
   "outputs": [
    {
     "data": {
      "application/vnd.plotly.v1+json": {
       "config": {
        "plotlyServerURL": "https://plot.ly"
       },
       "data": [
        {
         "colorscale": [
          [
           0,
           "#636efa"
          ],
          [
           1,
           "#636efa"
          ]
         ],
         "geo": "geo",
         "hovertemplate": "Region=Eastern Europe<br>Country=%{location}<extra></extra>",
         "locationmode": "country names",
         "locations": [
          "Albania",
          "Belarus",
          "Bosnia and Herzegovina",
          "Bulgaria",
          "Croatia",
          "Czechia",
          "Estonia",
          "Hungary",
          "Latvia",
          "Lithuania",
          "Moldova",
          "Montenegro",
          "North Macedonia",
          "Poland",
          "Romania",
          "Russia",
          "Serbia",
          "Slovakia",
          "Slovenia",
          "Ukraine"
         ],
         "name": "Eastern Europe",
         "showlegend": true,
         "showscale": false,
         "type": "choropleth",
         "z": [
          1,
          1,
          1,
          1,
          1,
          1,
          1,
          1,
          1,
          1,
          1,
          1,
          1,
          1,
          1,
          1,
          1,
          1,
          1,
          1
         ]
        },
        {
         "colorscale": [
          [
           0,
           "#EF553B"
          ],
          [
           1,
           "#EF553B"
          ]
         ],
         "geo": "geo",
         "hovertemplate": "Region=Western Europe<br>Country=%{location}<extra></extra>",
         "locationmode": "country names",
         "locations": [
          "Austria",
          "Belgium",
          "France",
          "Germany",
          "Ireland",
          "Luxembourg",
          "Netherlands",
          "Switzerland",
          "United Kingdom"
         ],
         "name": "Western Europe",
         "showlegend": true,
         "showscale": false,
         "type": "choropleth",
         "z": [
          1,
          1,
          1,
          1,
          1,
          1,
          1,
          1,
          1
         ]
        },
        {
         "colorscale": [
          [
           0,
           "#00cc96"
          ],
          [
           1,
           "#00cc96"
          ]
         ],
         "geo": "geo",
         "hovertemplate": "Region=Southern Europe<br>Country=%{location}<extra></extra>",
         "locationmode": "country names",
         "locations": [
          "Cyprus",
          "Greece",
          "Italy",
          "Malta",
          "Portugal",
          "Spain"
         ],
         "name": "Southern Europe",
         "showlegend": true,
         "showscale": false,
         "type": "choropleth",
         "z": [
          1,
          1,
          1,
          1,
          1,
          1
         ]
        },
        {
         "colorscale": [
          [
           0,
           "#ab63fa"
          ],
          [
           1,
           "#ab63fa"
          ]
         ],
         "geo": "geo",
         "hovertemplate": "Region=Northern Europe<br>Country=%{location}<extra></extra>",
         "locationmode": "country names",
         "locations": [
          "Denmark",
          "Finland",
          "Iceland",
          "Norway",
          "Sweden"
         ],
         "name": "Northern Europe",
         "showlegend": true,
         "showscale": false,
         "type": "choropleth",
         "z": [
          1,
          1,
          1,
          1,
          1
         ]
        }
       ],
       "layout": {
        "geo": {
         "center": {},
         "domain": {
          "x": [
           0,
           1
          ],
          "y": [
           0,
           1
          ]
         },
         "projection": {
          "type": "equirectangular"
         },
         "scope": "europe"
        },
        "legend": {
         "title": {
          "text": "Region"
         },
         "tracegroupgap": 0
        },
        "margin": {
         "t": 60
        },
        "template": {
         "data": {
          "bar": [
           {
            "error_x": {
             "color": "#2a3f5f"
            },
            "error_y": {
             "color": "#2a3f5f"
            },
            "marker": {
             "line": {
              "color": "#E5ECF6",
              "width": 0.5
             }
            },
            "type": "bar"
           }
          ],
          "barpolar": [
           {
            "marker": {
             "line": {
              "color": "#E5ECF6",
              "width": 0.5
             }
            },
            "type": "barpolar"
           }
          ],
          "carpet": [
           {
            "aaxis": {
             "endlinecolor": "#2a3f5f",
             "gridcolor": "white",
             "linecolor": "white",
             "minorgridcolor": "white",
             "startlinecolor": "#2a3f5f"
            },
            "baxis": {
             "endlinecolor": "#2a3f5f",
             "gridcolor": "white",
             "linecolor": "white",
             "minorgridcolor": "white",
             "startlinecolor": "#2a3f5f"
            },
            "type": "carpet"
           }
          ],
          "choropleth": [
           {
            "colorbar": {
             "outlinewidth": 0,
             "ticks": ""
            },
            "type": "choropleth"
           }
          ],
          "contour": [
           {
            "colorbar": {
             "outlinewidth": 0,
             "ticks": ""
            },
            "colorscale": [
             [
              0,
              "#0d0887"
             ],
             [
              0.1111111111111111,
              "#46039f"
             ],
             [
              0.2222222222222222,
              "#7201a8"
             ],
             [
              0.3333333333333333,
              "#9c179e"
             ],
             [
              0.4444444444444444,
              "#bd3786"
             ],
             [
              0.5555555555555556,
              "#d8576b"
             ],
             [
              0.6666666666666666,
              "#ed7953"
             ],
             [
              0.7777777777777778,
              "#fb9f3a"
             ],
             [
              0.8888888888888888,
              "#fdca26"
             ],
             [
              1,
              "#f0f921"
             ]
            ],
            "type": "contour"
           }
          ],
          "contourcarpet": [
           {
            "colorbar": {
             "outlinewidth": 0,
             "ticks": ""
            },
            "type": "contourcarpet"
           }
          ],
          "heatmap": [
           {
            "colorbar": {
             "outlinewidth": 0,
             "ticks": ""
            },
            "colorscale": [
             [
              0,
              "#0d0887"
             ],
             [
              0.1111111111111111,
              "#46039f"
             ],
             [
              0.2222222222222222,
              "#7201a8"
             ],
             [
              0.3333333333333333,
              "#9c179e"
             ],
             [
              0.4444444444444444,
              "#bd3786"
             ],
             [
              0.5555555555555556,
              "#d8576b"
             ],
             [
              0.6666666666666666,
              "#ed7953"
             ],
             [
              0.7777777777777778,
              "#fb9f3a"
             ],
             [
              0.8888888888888888,
              "#fdca26"
             ],
             [
              1,
              "#f0f921"
             ]
            ],
            "type": "heatmap"
           }
          ],
          "heatmapgl": [
           {
            "colorbar": {
             "outlinewidth": 0,
             "ticks": ""
            },
            "colorscale": [
             [
              0,
              "#0d0887"
             ],
             [
              0.1111111111111111,
              "#46039f"
             ],
             [
              0.2222222222222222,
              "#7201a8"
             ],
             [
              0.3333333333333333,
              "#9c179e"
             ],
             [
              0.4444444444444444,
              "#bd3786"
             ],
             [
              0.5555555555555556,
              "#d8576b"
             ],
             [
              0.6666666666666666,
              "#ed7953"
             ],
             [
              0.7777777777777778,
              "#fb9f3a"
             ],
             [
              0.8888888888888888,
              "#fdca26"
             ],
             [
              1,
              "#f0f921"
             ]
            ],
            "type": "heatmapgl"
           }
          ],
          "histogram": [
           {
            "marker": {
             "colorbar": {
              "outlinewidth": 0,
              "ticks": ""
             }
            },
            "type": "histogram"
           }
          ],
          "histogram2d": [
           {
            "colorbar": {
             "outlinewidth": 0,
             "ticks": ""
            },
            "colorscale": [
             [
              0,
              "#0d0887"
             ],
             [
              0.1111111111111111,
              "#46039f"
             ],
             [
              0.2222222222222222,
              "#7201a8"
             ],
             [
              0.3333333333333333,
              "#9c179e"
             ],
             [
              0.4444444444444444,
              "#bd3786"
             ],
             [
              0.5555555555555556,
              "#d8576b"
             ],
             [
              0.6666666666666666,
              "#ed7953"
             ],
             [
              0.7777777777777778,
              "#fb9f3a"
             ],
             [
              0.8888888888888888,
              "#fdca26"
             ],
             [
              1,
              "#f0f921"
             ]
            ],
            "type": "histogram2d"
           }
          ],
          "histogram2dcontour": [
           {
            "colorbar": {
             "outlinewidth": 0,
             "ticks": ""
            },
            "colorscale": [
             [
              0,
              "#0d0887"
             ],
             [
              0.1111111111111111,
              "#46039f"
             ],
             [
              0.2222222222222222,
              "#7201a8"
             ],
             [
              0.3333333333333333,
              "#9c179e"
             ],
             [
              0.4444444444444444,
              "#bd3786"
             ],
             [
              0.5555555555555556,
              "#d8576b"
             ],
             [
              0.6666666666666666,
              "#ed7953"
             ],
             [
              0.7777777777777778,
              "#fb9f3a"
             ],
             [
              0.8888888888888888,
              "#fdca26"
             ],
             [
              1,
              "#f0f921"
             ]
            ],
            "type": "histogram2dcontour"
           }
          ],
          "mesh3d": [
           {
            "colorbar": {
             "outlinewidth": 0,
             "ticks": ""
            },
            "type": "mesh3d"
           }
          ],
          "parcoords": [
           {
            "line": {
             "colorbar": {
              "outlinewidth": 0,
              "ticks": ""
             }
            },
            "type": "parcoords"
           }
          ],
          "pie": [
           {
            "automargin": true,
            "type": "pie"
           }
          ],
          "scatter": [
           {
            "marker": {
             "colorbar": {
              "outlinewidth": 0,
              "ticks": ""
             }
            },
            "type": "scatter"
           }
          ],
          "scatter3d": [
           {
            "line": {
             "colorbar": {
              "outlinewidth": 0,
              "ticks": ""
             }
            },
            "marker": {
             "colorbar": {
              "outlinewidth": 0,
              "ticks": ""
             }
            },
            "type": "scatter3d"
           }
          ],
          "scattercarpet": [
           {
            "marker": {
             "colorbar": {
              "outlinewidth": 0,
              "ticks": ""
             }
            },
            "type": "scattercarpet"
           }
          ],
          "scattergeo": [
           {
            "marker": {
             "colorbar": {
              "outlinewidth": 0,
              "ticks": ""
             }
            },
            "type": "scattergeo"
           }
          ],
          "scattergl": [
           {
            "marker": {
             "colorbar": {
              "outlinewidth": 0,
              "ticks": ""
             }
            },
            "type": "scattergl"
           }
          ],
          "scattermapbox": [
           {
            "marker": {
             "colorbar": {
              "outlinewidth": 0,
              "ticks": ""
             }
            },
            "type": "scattermapbox"
           }
          ],
          "scatterpolar": [
           {
            "marker": {
             "colorbar": {
              "outlinewidth": 0,
              "ticks": ""
             }
            },
            "type": "scatterpolar"
           }
          ],
          "scatterpolargl": [
           {
            "marker": {
             "colorbar": {
              "outlinewidth": 0,
              "ticks": ""
             }
            },
            "type": "scatterpolargl"
           }
          ],
          "scatterternary": [
           {
            "marker": {
             "colorbar": {
              "outlinewidth": 0,
              "ticks": ""
             }
            },
            "type": "scatterternary"
           }
          ],
          "surface": [
           {
            "colorbar": {
             "outlinewidth": 0,
             "ticks": ""
            },
            "colorscale": [
             [
              0,
              "#0d0887"
             ],
             [
              0.1111111111111111,
              "#46039f"
             ],
             [
              0.2222222222222222,
              "#7201a8"
             ],
             [
              0.3333333333333333,
              "#9c179e"
             ],
             [
              0.4444444444444444,
              "#bd3786"
             ],
             [
              0.5555555555555556,
              "#d8576b"
             ],
             [
              0.6666666666666666,
              "#ed7953"
             ],
             [
              0.7777777777777778,
              "#fb9f3a"
             ],
             [
              0.8888888888888888,
              "#fdca26"
             ],
             [
              1,
              "#f0f921"
             ]
            ],
            "type": "surface"
           }
          ],
          "table": [
           {
            "cells": {
             "fill": {
              "color": "#EBF0F8"
             },
             "line": {
              "color": "white"
             }
            },
            "header": {
             "fill": {
              "color": "#C8D4E3"
             },
             "line": {
              "color": "white"
             }
            },
            "type": "table"
           }
          ]
         },
         "layout": {
          "annotationdefaults": {
           "arrowcolor": "#2a3f5f",
           "arrowhead": 0,
           "arrowwidth": 1
          },
          "autotypenumbers": "strict",
          "coloraxis": {
           "colorbar": {
            "outlinewidth": 0,
            "ticks": ""
           }
          },
          "colorscale": {
           "diverging": [
            [
             0,
             "#8e0152"
            ],
            [
             0.1,
             "#c51b7d"
            ],
            [
             0.2,
             "#de77ae"
            ],
            [
             0.3,
             "#f1b6da"
            ],
            [
             0.4,
             "#fde0ef"
            ],
            [
             0.5,
             "#f7f7f7"
            ],
            [
             0.6,
             "#e6f5d0"
            ],
            [
             0.7,
             "#b8e186"
            ],
            [
             0.8,
             "#7fbc41"
            ],
            [
             0.9,
             "#4d9221"
            ],
            [
             1,
             "#276419"
            ]
           ],
           "sequential": [
            [
             0,
             "#0d0887"
            ],
            [
             0.1111111111111111,
             "#46039f"
            ],
            [
             0.2222222222222222,
             "#7201a8"
            ],
            [
             0.3333333333333333,
             "#9c179e"
            ],
            [
             0.4444444444444444,
             "#bd3786"
            ],
            [
             0.5555555555555556,
             "#d8576b"
            ],
            [
             0.6666666666666666,
             "#ed7953"
            ],
            [
             0.7777777777777778,
             "#fb9f3a"
            ],
            [
             0.8888888888888888,
             "#fdca26"
            ],
            [
             1,
             "#f0f921"
            ]
           ],
           "sequentialminus": [
            [
             0,
             "#0d0887"
            ],
            [
             0.1111111111111111,
             "#46039f"
            ],
            [
             0.2222222222222222,
             "#7201a8"
            ],
            [
             0.3333333333333333,
             "#9c179e"
            ],
            [
             0.4444444444444444,
             "#bd3786"
            ],
            [
             0.5555555555555556,
             "#d8576b"
            ],
            [
             0.6666666666666666,
             "#ed7953"
            ],
            [
             0.7777777777777778,
             "#fb9f3a"
            ],
            [
             0.8888888888888888,
             "#fdca26"
            ],
            [
             1,
             "#f0f921"
            ]
           ]
          },
          "colorway": [
           "#636efa",
           "#EF553B",
           "#00cc96",
           "#ab63fa",
           "#FFA15A",
           "#19d3f3",
           "#FF6692",
           "#B6E880",
           "#FF97FF",
           "#FECB52"
          ],
          "font": {
           "color": "#2a3f5f"
          },
          "geo": {
           "bgcolor": "white",
           "lakecolor": "white",
           "landcolor": "#E5ECF6",
           "showlakes": true,
           "showland": true,
           "subunitcolor": "white"
          },
          "hoverlabel": {
           "align": "left"
          },
          "hovermode": "closest",
          "mapbox": {
           "style": "light"
          },
          "paper_bgcolor": "white",
          "plot_bgcolor": "#E5ECF6",
          "polar": {
           "angularaxis": {
            "gridcolor": "white",
            "linecolor": "white",
            "ticks": ""
           },
           "bgcolor": "#E5ECF6",
           "radialaxis": {
            "gridcolor": "white",
            "linecolor": "white",
            "ticks": ""
           }
          },
          "scene": {
           "xaxis": {
            "backgroundcolor": "#E5ECF6",
            "gridcolor": "white",
            "gridwidth": 2,
            "linecolor": "white",
            "showbackground": true,
            "ticks": "",
            "zerolinecolor": "white"
           },
           "yaxis": {
            "backgroundcolor": "#E5ECF6",
            "gridcolor": "white",
            "gridwidth": 2,
            "linecolor": "white",
            "showbackground": true,
            "ticks": "",
            "zerolinecolor": "white"
           },
           "zaxis": {
            "backgroundcolor": "#E5ECF6",
            "gridcolor": "white",
            "gridwidth": 2,
            "linecolor": "white",
            "showbackground": true,
            "ticks": "",
            "zerolinecolor": "white"
           }
          },
          "shapedefaults": {
           "line": {
            "color": "#2a3f5f"
           }
          },
          "ternary": {
           "aaxis": {
            "gridcolor": "white",
            "linecolor": "white",
            "ticks": ""
           },
           "baxis": {
            "gridcolor": "white",
            "linecolor": "white",
            "ticks": ""
           },
           "bgcolor": "#E5ECF6",
           "caxis": {
            "gridcolor": "white",
            "linecolor": "white",
            "ticks": ""
           }
          },
          "title": {
           "x": 0.05
          },
          "xaxis": {
           "automargin": true,
           "gridcolor": "white",
           "linecolor": "white",
           "ticks": "",
           "title": {
            "standoff": 15
           },
           "zerolinecolor": "white",
           "zerolinewidth": 2
          },
          "yaxis": {
           "automargin": true,
           "gridcolor": "white",
           "linecolor": "white",
           "ticks": "",
           "title": {
            "standoff": 15
           },
           "zerolinecolor": "white",
           "zerolinewidth": 2
          }
         }
        },
        "title": {
         "text": "European Regions"
        }
       }
      },
      "text/html": [
       "<div>                            <div id=\"bd9c2f2c-410e-43a8-b30b-02649c9637aa\" class=\"plotly-graph-div\" style=\"height:525px; width:100%;\"></div>            <script type=\"text/javascript\">                require([\"plotly\"], function(Plotly) {                    window.PLOTLYENV=window.PLOTLYENV || {};                                    if (document.getElementById(\"bd9c2f2c-410e-43a8-b30b-02649c9637aa\")) {                    Plotly.newPlot(                        \"bd9c2f2c-410e-43a8-b30b-02649c9637aa\",                        [{\"colorscale\": [[0.0, \"#636efa\"], [1.0, \"#636efa\"]], \"geo\": \"geo\", \"hovertemplate\": \"Region=Eastern Europe<br>Country=%{location}<extra></extra>\", \"locationmode\": \"country names\", \"locations\": [\"Albania\", \"Belarus\", \"Bosnia and Herzegovina\", \"Bulgaria\", \"Croatia\", \"Czechia\", \"Estonia\", \"Hungary\", \"Latvia\", \"Lithuania\", \"Moldova\", \"Montenegro\", \"North Macedonia\", \"Poland\", \"Romania\", \"Russia\", \"Serbia\", \"Slovakia\", \"Slovenia\", \"Ukraine\"], \"name\": \"Eastern Europe\", \"showlegend\": true, \"showscale\": false, \"type\": \"choropleth\", \"z\": [1, 1, 1, 1, 1, 1, 1, 1, 1, 1, 1, 1, 1, 1, 1, 1, 1, 1, 1, 1]}, {\"colorscale\": [[0.0, \"#EF553B\"], [1.0, \"#EF553B\"]], \"geo\": \"geo\", \"hovertemplate\": \"Region=Western Europe<br>Country=%{location}<extra></extra>\", \"locationmode\": \"country names\", \"locations\": [\"Austria\", \"Belgium\", \"France\", \"Germany\", \"Ireland\", \"Luxembourg\", \"Netherlands\", \"Switzerland\", \"United Kingdom\"], \"name\": \"Western Europe\", \"showlegend\": true, \"showscale\": false, \"type\": \"choropleth\", \"z\": [1, 1, 1, 1, 1, 1, 1, 1, 1]}, {\"colorscale\": [[0.0, \"#00cc96\"], [1.0, \"#00cc96\"]], \"geo\": \"geo\", \"hovertemplate\": \"Region=Southern Europe<br>Country=%{location}<extra></extra>\", \"locationmode\": \"country names\", \"locations\": [\"Cyprus\", \"Greece\", \"Italy\", \"Malta\", \"Portugal\", \"Spain\"], \"name\": \"Southern Europe\", \"showlegend\": true, \"showscale\": false, \"type\": \"choropleth\", \"z\": [1, 1, 1, 1, 1, 1]}, {\"colorscale\": [[0.0, \"#ab63fa\"], [1.0, \"#ab63fa\"]], \"geo\": \"geo\", \"hovertemplate\": \"Region=Northern Europe<br>Country=%{location}<extra></extra>\", \"locationmode\": \"country names\", \"locations\": [\"Denmark\", \"Finland\", \"Iceland\", \"Norway\", \"Sweden\"], \"name\": \"Northern Europe\", \"showlegend\": true, \"showscale\": false, \"type\": \"choropleth\", \"z\": [1, 1, 1, 1, 1]}],                        {\"geo\": {\"center\": {}, \"domain\": {\"x\": [0.0, 1.0], \"y\": [0.0, 1.0]}, \"projection\": {\"type\": \"equirectangular\"}, \"scope\": \"europe\"}, \"legend\": {\"title\": {\"text\": \"Region\"}, \"tracegroupgap\": 0}, \"margin\": {\"t\": 60}, \"template\": {\"data\": {\"bar\": [{\"error_x\": {\"color\": \"#2a3f5f\"}, \"error_y\": {\"color\": \"#2a3f5f\"}, \"marker\": {\"line\": {\"color\": \"#E5ECF6\", \"width\": 0.5}}, \"type\": \"bar\"}], \"barpolar\": [{\"marker\": {\"line\": {\"color\": \"#E5ECF6\", \"width\": 0.5}}, \"type\": \"barpolar\"}], \"carpet\": [{\"aaxis\": {\"endlinecolor\": \"#2a3f5f\", \"gridcolor\": \"white\", \"linecolor\": \"white\", \"minorgridcolor\": \"white\", \"startlinecolor\": \"#2a3f5f\"}, \"baxis\": {\"endlinecolor\": \"#2a3f5f\", \"gridcolor\": \"white\", \"linecolor\": \"white\", \"minorgridcolor\": \"white\", \"startlinecolor\": \"#2a3f5f\"}, \"type\": \"carpet\"}], \"choropleth\": [{\"colorbar\": {\"outlinewidth\": 0, \"ticks\": \"\"}, \"type\": \"choropleth\"}], \"contour\": [{\"colorbar\": {\"outlinewidth\": 0, \"ticks\": \"\"}, \"colorscale\": [[0.0, \"#0d0887\"], [0.1111111111111111, \"#46039f\"], [0.2222222222222222, \"#7201a8\"], [0.3333333333333333, \"#9c179e\"], [0.4444444444444444, \"#bd3786\"], [0.5555555555555556, \"#d8576b\"], [0.6666666666666666, \"#ed7953\"], [0.7777777777777778, \"#fb9f3a\"], [0.8888888888888888, \"#fdca26\"], [1.0, \"#f0f921\"]], \"type\": \"contour\"}], \"contourcarpet\": [{\"colorbar\": {\"outlinewidth\": 0, \"ticks\": \"\"}, \"type\": \"contourcarpet\"}], \"heatmap\": [{\"colorbar\": {\"outlinewidth\": 0, \"ticks\": \"\"}, \"colorscale\": [[0.0, \"#0d0887\"], [0.1111111111111111, \"#46039f\"], [0.2222222222222222, \"#7201a8\"], [0.3333333333333333, \"#9c179e\"], [0.4444444444444444, \"#bd3786\"], [0.5555555555555556, \"#d8576b\"], [0.6666666666666666, \"#ed7953\"], [0.7777777777777778, \"#fb9f3a\"], [0.8888888888888888, \"#fdca26\"], [1.0, \"#f0f921\"]], \"type\": \"heatmap\"}], \"heatmapgl\": [{\"colorbar\": {\"outlinewidth\": 0, \"ticks\": \"\"}, \"colorscale\": [[0.0, \"#0d0887\"], [0.1111111111111111, \"#46039f\"], [0.2222222222222222, \"#7201a8\"], [0.3333333333333333, \"#9c179e\"], [0.4444444444444444, \"#bd3786\"], [0.5555555555555556, \"#d8576b\"], [0.6666666666666666, \"#ed7953\"], [0.7777777777777778, \"#fb9f3a\"], [0.8888888888888888, \"#fdca26\"], [1.0, \"#f0f921\"]], \"type\": \"heatmapgl\"}], \"histogram\": [{\"marker\": {\"colorbar\": {\"outlinewidth\": 0, \"ticks\": \"\"}}, \"type\": \"histogram\"}], \"histogram2d\": [{\"colorbar\": {\"outlinewidth\": 0, \"ticks\": \"\"}, \"colorscale\": [[0.0, \"#0d0887\"], [0.1111111111111111, \"#46039f\"], [0.2222222222222222, \"#7201a8\"], [0.3333333333333333, \"#9c179e\"], [0.4444444444444444, \"#bd3786\"], [0.5555555555555556, \"#d8576b\"], [0.6666666666666666, \"#ed7953\"], [0.7777777777777778, \"#fb9f3a\"], [0.8888888888888888, \"#fdca26\"], [1.0, \"#f0f921\"]], \"type\": \"histogram2d\"}], \"histogram2dcontour\": [{\"colorbar\": {\"outlinewidth\": 0, \"ticks\": \"\"}, \"colorscale\": [[0.0, \"#0d0887\"], [0.1111111111111111, \"#46039f\"], [0.2222222222222222, \"#7201a8\"], [0.3333333333333333, \"#9c179e\"], [0.4444444444444444, \"#bd3786\"], [0.5555555555555556, \"#d8576b\"], [0.6666666666666666, \"#ed7953\"], [0.7777777777777778, \"#fb9f3a\"], [0.8888888888888888, \"#fdca26\"], [1.0, \"#f0f921\"]], \"type\": \"histogram2dcontour\"}], \"mesh3d\": [{\"colorbar\": {\"outlinewidth\": 0, \"ticks\": \"\"}, \"type\": \"mesh3d\"}], \"parcoords\": [{\"line\": {\"colorbar\": {\"outlinewidth\": 0, \"ticks\": \"\"}}, \"type\": \"parcoords\"}], \"pie\": [{\"automargin\": true, \"type\": \"pie\"}], \"scatter\": [{\"marker\": {\"colorbar\": {\"outlinewidth\": 0, \"ticks\": \"\"}}, \"type\": \"scatter\"}], \"scatter3d\": [{\"line\": {\"colorbar\": {\"outlinewidth\": 0, \"ticks\": \"\"}}, \"marker\": {\"colorbar\": {\"outlinewidth\": 0, \"ticks\": \"\"}}, \"type\": \"scatter3d\"}], \"scattercarpet\": [{\"marker\": {\"colorbar\": {\"outlinewidth\": 0, \"ticks\": \"\"}}, \"type\": \"scattercarpet\"}], \"scattergeo\": [{\"marker\": {\"colorbar\": {\"outlinewidth\": 0, \"ticks\": \"\"}}, \"type\": \"scattergeo\"}], \"scattergl\": [{\"marker\": {\"colorbar\": {\"outlinewidth\": 0, \"ticks\": \"\"}}, \"type\": \"scattergl\"}], \"scattermapbox\": [{\"marker\": {\"colorbar\": {\"outlinewidth\": 0, \"ticks\": \"\"}}, \"type\": \"scattermapbox\"}], \"scatterpolar\": [{\"marker\": {\"colorbar\": {\"outlinewidth\": 0, \"ticks\": \"\"}}, \"type\": \"scatterpolar\"}], \"scatterpolargl\": [{\"marker\": {\"colorbar\": {\"outlinewidth\": 0, \"ticks\": \"\"}}, \"type\": \"scatterpolargl\"}], \"scatterternary\": [{\"marker\": {\"colorbar\": {\"outlinewidth\": 0, \"ticks\": \"\"}}, \"type\": \"scatterternary\"}], \"surface\": [{\"colorbar\": {\"outlinewidth\": 0, \"ticks\": \"\"}, \"colorscale\": [[0.0, \"#0d0887\"], [0.1111111111111111, \"#46039f\"], [0.2222222222222222, \"#7201a8\"], [0.3333333333333333, \"#9c179e\"], [0.4444444444444444, \"#bd3786\"], [0.5555555555555556, \"#d8576b\"], [0.6666666666666666, \"#ed7953\"], [0.7777777777777778, \"#fb9f3a\"], [0.8888888888888888, \"#fdca26\"], [1.0, \"#f0f921\"]], \"type\": \"surface\"}], \"table\": [{\"cells\": {\"fill\": {\"color\": \"#EBF0F8\"}, \"line\": {\"color\": \"white\"}}, \"header\": {\"fill\": {\"color\": \"#C8D4E3\"}, \"line\": {\"color\": \"white\"}}, \"type\": \"table\"}]}, \"layout\": {\"annotationdefaults\": {\"arrowcolor\": \"#2a3f5f\", \"arrowhead\": 0, \"arrowwidth\": 1}, \"autotypenumbers\": \"strict\", \"coloraxis\": {\"colorbar\": {\"outlinewidth\": 0, \"ticks\": \"\"}}, \"colorscale\": {\"diverging\": [[0, \"#8e0152\"], [0.1, \"#c51b7d\"], [0.2, \"#de77ae\"], [0.3, \"#f1b6da\"], [0.4, \"#fde0ef\"], [0.5, \"#f7f7f7\"], [0.6, \"#e6f5d0\"], [0.7, \"#b8e186\"], [0.8, \"#7fbc41\"], [0.9, \"#4d9221\"], [1, \"#276419\"]], \"sequential\": [[0.0, \"#0d0887\"], [0.1111111111111111, \"#46039f\"], [0.2222222222222222, \"#7201a8\"], [0.3333333333333333, \"#9c179e\"], [0.4444444444444444, \"#bd3786\"], [0.5555555555555556, \"#d8576b\"], [0.6666666666666666, \"#ed7953\"], [0.7777777777777778, \"#fb9f3a\"], [0.8888888888888888, \"#fdca26\"], [1.0, \"#f0f921\"]], \"sequentialminus\": [[0.0, \"#0d0887\"], [0.1111111111111111, \"#46039f\"], [0.2222222222222222, \"#7201a8\"], [0.3333333333333333, \"#9c179e\"], [0.4444444444444444, \"#bd3786\"], [0.5555555555555556, \"#d8576b\"], [0.6666666666666666, \"#ed7953\"], [0.7777777777777778, \"#fb9f3a\"], [0.8888888888888888, \"#fdca26\"], [1.0, \"#f0f921\"]]}, \"colorway\": [\"#636efa\", \"#EF553B\", \"#00cc96\", \"#ab63fa\", \"#FFA15A\", \"#19d3f3\", \"#FF6692\", \"#B6E880\", \"#FF97FF\", \"#FECB52\"], \"font\": {\"color\": \"#2a3f5f\"}, \"geo\": {\"bgcolor\": \"white\", \"lakecolor\": \"white\", \"landcolor\": \"#E5ECF6\", \"showlakes\": true, \"showland\": true, \"subunitcolor\": \"white\"}, \"hoverlabel\": {\"align\": \"left\"}, \"hovermode\": \"closest\", \"mapbox\": {\"style\": \"light\"}, \"paper_bgcolor\": \"white\", \"plot_bgcolor\": \"#E5ECF6\", \"polar\": {\"angularaxis\": {\"gridcolor\": \"white\", \"linecolor\": \"white\", \"ticks\": \"\"}, \"bgcolor\": \"#E5ECF6\", \"radialaxis\": {\"gridcolor\": \"white\", \"linecolor\": \"white\", \"ticks\": \"\"}}, \"scene\": {\"xaxis\": {\"backgroundcolor\": \"#E5ECF6\", \"gridcolor\": \"white\", \"gridwidth\": 2, \"linecolor\": \"white\", \"showbackground\": true, \"ticks\": \"\", \"zerolinecolor\": \"white\"}, \"yaxis\": {\"backgroundcolor\": \"#E5ECF6\", \"gridcolor\": \"white\", \"gridwidth\": 2, \"linecolor\": \"white\", \"showbackground\": true, \"ticks\": \"\", \"zerolinecolor\": \"white\"}, \"zaxis\": {\"backgroundcolor\": \"#E5ECF6\", \"gridcolor\": \"white\", \"gridwidth\": 2, \"linecolor\": \"white\", \"showbackground\": true, \"ticks\": \"\", \"zerolinecolor\": \"white\"}}, \"shapedefaults\": {\"line\": {\"color\": \"#2a3f5f\"}}, \"ternary\": {\"aaxis\": {\"gridcolor\": \"white\", \"linecolor\": \"white\", \"ticks\": \"\"}, \"baxis\": {\"gridcolor\": \"white\", \"linecolor\": \"white\", \"ticks\": \"\"}, \"bgcolor\": \"#E5ECF6\", \"caxis\": {\"gridcolor\": \"white\", \"linecolor\": \"white\", \"ticks\": \"\"}}, \"title\": {\"x\": 0.05}, \"xaxis\": {\"automargin\": true, \"gridcolor\": \"white\", \"linecolor\": \"white\", \"ticks\": \"\", \"title\": {\"standoff\": 15}, \"zerolinecolor\": \"white\", \"zerolinewidth\": 2}, \"yaxis\": {\"automargin\": true, \"gridcolor\": \"white\", \"linecolor\": \"white\", \"ticks\": \"\", \"title\": {\"standoff\": 15}, \"zerolinecolor\": \"white\", \"zerolinewidth\": 2}}}, \"title\": {\"text\": \"European Regions\"}},                        {\"responsive\": true}                    ).then(function(){\n",
       "                            \n",
       "var gd = document.getElementById('bd9c2f2c-410e-43a8-b30b-02649c9637aa');\n",
       "var x = new MutationObserver(function (mutations, observer) {{\n",
       "        var display = window.getComputedStyle(gd).display;\n",
       "        if (!display || display === 'none') {{\n",
       "            console.log([gd, 'removed!']);\n",
       "            Plotly.purge(gd);\n",
       "            observer.disconnect();\n",
       "        }}\n",
       "}});\n",
       "\n",
       "// Listen for the removal of the full notebook cells\n",
       "var notebookContainer = gd.closest('#notebook-container');\n",
       "if (notebookContainer) {{\n",
       "    x.observe(notebookContainer, {childList: true});\n",
       "}}\n",
       "\n",
       "// Listen for the clearing of the current output cell\n",
       "var outputEl = gd.closest('.output');\n",
       "if (outputEl) {{\n",
       "    x.observe(outputEl, {childList: true});\n",
       "}}\n",
       "\n",
       "                        })                };                });            </script>        </div>"
      ]
     },
     "metadata": {},
     "output_type": "display_data"
    }
   ],
   "source": [
    "fig_MapEuroRegion = px.choropleth(CovidEuro,  # Input Pandas DataFrame\n",
    "                    locations=\"Country\",  # DataFrame column with locations\n",
    "                    color=\"Region\",  # DataFrame column with color values\n",
    "                    locationmode = 'country names', \n",
    "                    scope = 'europe',\n",
    "                    color_continuous_scale= \"blues\",\n",
    "                    #labels = {\"GDP\" : \"GDP\"},\n",
    "                    #range_color=(map_df[\"GDP\"].min(), map_df[\"GDP\"].max()),\n",
    "                    #color_continuous_midpoint=(map_df[\"GDP\"].median())\n",
    "                   )\n",
    "fig_MapEuroRegion.update_layout(title_text = \"European Regions\")\n",
    "fig_MapEuroRegion.update_geos(projection_type=\"equirectangular\")\n",
    "fig_MapEuroRegion.show() "
   ]
  },
  {
   "cell_type": "code",
   "execution_count": null,
   "metadata": {},
   "outputs": [],
   "source": []
  }
 ],
 "metadata": {
  "kernelspec": {
   "display_name": "Python 3",
   "language": "python",
   "name": "python3"
  },
  "language_info": {
   "codemirror_mode": {
    "name": "ipython",
    "version": 3
   },
   "file_extension": ".py",
   "mimetype": "text/x-python",
   "name": "python",
   "nbconvert_exporter": "python",
   "pygments_lexer": "ipython3",
   "version": "3.8.5"
  }
 },
 "nbformat": 4,
 "nbformat_minor": 5
}
