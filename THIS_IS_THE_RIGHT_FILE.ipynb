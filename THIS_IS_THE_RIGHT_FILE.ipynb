{
 "cells": [
  {
   "cell_type": "code",
   "execution_count": 1,
   "metadata": {},
   "outputs": [],
   "source": [
    "# Dependencies and Setup\n",
    "import matplotlib.pyplot as plt\n",
    "import pandas as pd\n",
    "import scipy.stats as st\n",
    "import numpy as np\n",
    "from scipy.stats import linregress\n",
    "from scipy.stats import pearsonr\n",
    "import gmaps\n",
    "import requests\n",
    "import gmaps.datasets\n",
    "import ipywidgets as widgets\n",
    "import seaborn as sns; sns.set(style='white')\n",
    "import gmaps.geojson_geometries\n",
    "import scipy.stats as stats\n",
    "import warnings\n",
    "warnings.filterwarnings('ignore')\n",
    "from scipy.stats import ttest_ind\n",
    "import plotly.express as px\n",
    "import plotly.graph_objects as go"
   ]
  },
  {
   "cell_type": "code",
   "execution_count": 2,
   "metadata": {},
   "outputs": [
    {
     "ename": "ModuleNotFoundError",
     "evalue": "No module named 'configMarc'",
     "output_type": "error",
     "traceback": [
      "\u001b[1;31m---------------------------------------------------------------------------\u001b[0m",
      "\u001b[1;31mModuleNotFoundError\u001b[0m                       Traceback (most recent call last)",
      "\u001b[1;32m<ipython-input-2-cf761009246a>\u001b[0m in \u001b[0;36m<module>\u001b[1;34m\u001b[0m\n\u001b[1;32m----> 1\u001b[1;33m \u001b[1;32mfrom\u001b[0m \u001b[0mconfigMarc\u001b[0m \u001b[1;32mimport\u001b[0m \u001b[0mg_key\u001b[0m\u001b[1;33m\u001b[0m\u001b[1;33m\u001b[0m\u001b[0m\n\u001b[0m\u001b[0;32m      2\u001b[0m \u001b[0mgmaps\u001b[0m\u001b[1;33m.\u001b[0m\u001b[0mconfigure\u001b[0m\u001b[1;33m(\u001b[0m\u001b[0mapi_key\u001b[0m\u001b[1;33m=\u001b[0m\u001b[0mg_key\u001b[0m\u001b[1;33m)\u001b[0m\u001b[1;33m\u001b[0m\u001b[1;33m\u001b[0m\u001b[0m\n",
      "\u001b[1;31mModuleNotFoundError\u001b[0m: No module named 'configMarc'"
     ]
    }
   ],
   "source": [
    "from configMarc import g_key\n",
    "gmaps.configure(api_key=g_key)"
   ]
  },
  {
   "cell_type": "code",
   "execution_count": 3,
   "metadata": {},
   "outputs": [
    {
     "ename": "FileNotFoundError",
     "evalue": "[Errno 2] No such file or directory: 'Resources/owid-covid-data-20210430.csv'",
     "output_type": "error",
     "traceback": [
      "\u001b[1;31m---------------------------------------------------------------------------\u001b[0m",
      "\u001b[1;31mFileNotFoundError\u001b[0m                         Traceback (most recent call last)",
      "\u001b[1;32m<ipython-input-3-6eb293b1bd8d>\u001b[0m in \u001b[0;36m<module>\u001b[1;34m\u001b[0m\n\u001b[0;32m      3\u001b[0m \u001b[0mtransparencyData\u001b[0m \u001b[1;33m=\u001b[0m \u001b[1;34m\"Resources/Transparency Index.csv\"\u001b[0m\u001b[1;33m\u001b[0m\u001b[1;33m\u001b[0m\u001b[0m\n\u001b[0;32m      4\u001b[0m \u001b[1;33m\u001b[0m\u001b[0m\n\u001b[1;32m----> 5\u001b[1;33m \u001b[0mCovidData\u001b[0m \u001b[1;33m=\u001b[0m \u001b[0mpd\u001b[0m\u001b[1;33m.\u001b[0m\u001b[0mread_csv\u001b[0m\u001b[1;33m(\u001b[0m\u001b[0mowidCovidData\u001b[0m\u001b[1;33m)\u001b[0m\u001b[1;33m\u001b[0m\u001b[1;33m\u001b[0m\u001b[0m\n\u001b[0m\u001b[0;32m      6\u001b[0m \u001b[0mTransparency\u001b[0m \u001b[1;33m=\u001b[0m \u001b[0mpd\u001b[0m\u001b[1;33m.\u001b[0m\u001b[0mread_csv\u001b[0m\u001b[1;33m(\u001b[0m\u001b[0mtransparencyData\u001b[0m\u001b[1;33m)\u001b[0m\u001b[1;33m\u001b[0m\u001b[1;33m\u001b[0m\u001b[0m\n",
      "\u001b[1;32m~\\anaconda3\\lib\\site-packages\\pandas\\io\\parsers.py\u001b[0m in \u001b[0;36mread_csv\u001b[1;34m(filepath_or_buffer, sep, delimiter, header, names, index_col, usecols, squeeze, prefix, mangle_dupe_cols, dtype, engine, converters, true_values, false_values, skipinitialspace, skiprows, skipfooter, nrows, na_values, keep_default_na, na_filter, verbose, skip_blank_lines, parse_dates, infer_datetime_format, keep_date_col, date_parser, dayfirst, cache_dates, iterator, chunksize, compression, thousands, decimal, lineterminator, quotechar, quoting, doublequote, escapechar, comment, encoding, dialect, error_bad_lines, warn_bad_lines, delim_whitespace, low_memory, memory_map, float_precision)\u001b[0m\n\u001b[0;32m    684\u001b[0m     )\n\u001b[0;32m    685\u001b[0m \u001b[1;33m\u001b[0m\u001b[0m\n\u001b[1;32m--> 686\u001b[1;33m     \u001b[1;32mreturn\u001b[0m \u001b[0m_read\u001b[0m\u001b[1;33m(\u001b[0m\u001b[0mfilepath_or_buffer\u001b[0m\u001b[1;33m,\u001b[0m \u001b[0mkwds\u001b[0m\u001b[1;33m)\u001b[0m\u001b[1;33m\u001b[0m\u001b[1;33m\u001b[0m\u001b[0m\n\u001b[0m\u001b[0;32m    687\u001b[0m \u001b[1;33m\u001b[0m\u001b[0m\n\u001b[0;32m    688\u001b[0m \u001b[1;33m\u001b[0m\u001b[0m\n",
      "\u001b[1;32m~\\anaconda3\\lib\\site-packages\\pandas\\io\\parsers.py\u001b[0m in \u001b[0;36m_read\u001b[1;34m(filepath_or_buffer, kwds)\u001b[0m\n\u001b[0;32m    450\u001b[0m \u001b[1;33m\u001b[0m\u001b[0m\n\u001b[0;32m    451\u001b[0m     \u001b[1;31m# Create the parser.\u001b[0m\u001b[1;33m\u001b[0m\u001b[1;33m\u001b[0m\u001b[1;33m\u001b[0m\u001b[0m\n\u001b[1;32m--> 452\u001b[1;33m     \u001b[0mparser\u001b[0m \u001b[1;33m=\u001b[0m \u001b[0mTextFileReader\u001b[0m\u001b[1;33m(\u001b[0m\u001b[0mfp_or_buf\u001b[0m\u001b[1;33m,\u001b[0m \u001b[1;33m**\u001b[0m\u001b[0mkwds\u001b[0m\u001b[1;33m)\u001b[0m\u001b[1;33m\u001b[0m\u001b[1;33m\u001b[0m\u001b[0m\n\u001b[0m\u001b[0;32m    453\u001b[0m \u001b[1;33m\u001b[0m\u001b[0m\n\u001b[0;32m    454\u001b[0m     \u001b[1;32mif\u001b[0m \u001b[0mchunksize\u001b[0m \u001b[1;32mor\u001b[0m \u001b[0miterator\u001b[0m\u001b[1;33m:\u001b[0m\u001b[1;33m\u001b[0m\u001b[1;33m\u001b[0m\u001b[0m\n",
      "\u001b[1;32m~\\anaconda3\\lib\\site-packages\\pandas\\io\\parsers.py\u001b[0m in \u001b[0;36m__init__\u001b[1;34m(self, f, engine, **kwds)\u001b[0m\n\u001b[0;32m    944\u001b[0m             \u001b[0mself\u001b[0m\u001b[1;33m.\u001b[0m\u001b[0moptions\u001b[0m\u001b[1;33m[\u001b[0m\u001b[1;34m\"has_index_names\"\u001b[0m\u001b[1;33m]\u001b[0m \u001b[1;33m=\u001b[0m \u001b[0mkwds\u001b[0m\u001b[1;33m[\u001b[0m\u001b[1;34m\"has_index_names\"\u001b[0m\u001b[1;33m]\u001b[0m\u001b[1;33m\u001b[0m\u001b[1;33m\u001b[0m\u001b[0m\n\u001b[0;32m    945\u001b[0m \u001b[1;33m\u001b[0m\u001b[0m\n\u001b[1;32m--> 946\u001b[1;33m         \u001b[0mself\u001b[0m\u001b[1;33m.\u001b[0m\u001b[0m_make_engine\u001b[0m\u001b[1;33m(\u001b[0m\u001b[0mself\u001b[0m\u001b[1;33m.\u001b[0m\u001b[0mengine\u001b[0m\u001b[1;33m)\u001b[0m\u001b[1;33m\u001b[0m\u001b[1;33m\u001b[0m\u001b[0m\n\u001b[0m\u001b[0;32m    947\u001b[0m \u001b[1;33m\u001b[0m\u001b[0m\n\u001b[0;32m    948\u001b[0m     \u001b[1;32mdef\u001b[0m \u001b[0mclose\u001b[0m\u001b[1;33m(\u001b[0m\u001b[0mself\u001b[0m\u001b[1;33m)\u001b[0m\u001b[1;33m:\u001b[0m\u001b[1;33m\u001b[0m\u001b[1;33m\u001b[0m\u001b[0m\n",
      "\u001b[1;32m~\\anaconda3\\lib\\site-packages\\pandas\\io\\parsers.py\u001b[0m in \u001b[0;36m_make_engine\u001b[1;34m(self, engine)\u001b[0m\n\u001b[0;32m   1176\u001b[0m     \u001b[1;32mdef\u001b[0m \u001b[0m_make_engine\u001b[0m\u001b[1;33m(\u001b[0m\u001b[0mself\u001b[0m\u001b[1;33m,\u001b[0m \u001b[0mengine\u001b[0m\u001b[1;33m=\u001b[0m\u001b[1;34m\"c\"\u001b[0m\u001b[1;33m)\u001b[0m\u001b[1;33m:\u001b[0m\u001b[1;33m\u001b[0m\u001b[1;33m\u001b[0m\u001b[0m\n\u001b[0;32m   1177\u001b[0m         \u001b[1;32mif\u001b[0m \u001b[0mengine\u001b[0m \u001b[1;33m==\u001b[0m \u001b[1;34m\"c\"\u001b[0m\u001b[1;33m:\u001b[0m\u001b[1;33m\u001b[0m\u001b[1;33m\u001b[0m\u001b[0m\n\u001b[1;32m-> 1178\u001b[1;33m             \u001b[0mself\u001b[0m\u001b[1;33m.\u001b[0m\u001b[0m_engine\u001b[0m \u001b[1;33m=\u001b[0m \u001b[0mCParserWrapper\u001b[0m\u001b[1;33m(\u001b[0m\u001b[0mself\u001b[0m\u001b[1;33m.\u001b[0m\u001b[0mf\u001b[0m\u001b[1;33m,\u001b[0m \u001b[1;33m**\u001b[0m\u001b[0mself\u001b[0m\u001b[1;33m.\u001b[0m\u001b[0moptions\u001b[0m\u001b[1;33m)\u001b[0m\u001b[1;33m\u001b[0m\u001b[1;33m\u001b[0m\u001b[0m\n\u001b[0m\u001b[0;32m   1179\u001b[0m         \u001b[1;32melse\u001b[0m\u001b[1;33m:\u001b[0m\u001b[1;33m\u001b[0m\u001b[1;33m\u001b[0m\u001b[0m\n\u001b[0;32m   1180\u001b[0m             \u001b[1;32mif\u001b[0m \u001b[0mengine\u001b[0m \u001b[1;33m==\u001b[0m \u001b[1;34m\"python\"\u001b[0m\u001b[1;33m:\u001b[0m\u001b[1;33m\u001b[0m\u001b[1;33m\u001b[0m\u001b[0m\n",
      "\u001b[1;32m~\\anaconda3\\lib\\site-packages\\pandas\\io\\parsers.py\u001b[0m in \u001b[0;36m__init__\u001b[1;34m(self, src, **kwds)\u001b[0m\n\u001b[0;32m   2006\u001b[0m         \u001b[0mkwds\u001b[0m\u001b[1;33m[\u001b[0m\u001b[1;34m\"usecols\"\u001b[0m\u001b[1;33m]\u001b[0m \u001b[1;33m=\u001b[0m \u001b[0mself\u001b[0m\u001b[1;33m.\u001b[0m\u001b[0musecols\u001b[0m\u001b[1;33m\u001b[0m\u001b[1;33m\u001b[0m\u001b[0m\n\u001b[0;32m   2007\u001b[0m \u001b[1;33m\u001b[0m\u001b[0m\n\u001b[1;32m-> 2008\u001b[1;33m         \u001b[0mself\u001b[0m\u001b[1;33m.\u001b[0m\u001b[0m_reader\u001b[0m \u001b[1;33m=\u001b[0m \u001b[0mparsers\u001b[0m\u001b[1;33m.\u001b[0m\u001b[0mTextReader\u001b[0m\u001b[1;33m(\u001b[0m\u001b[0msrc\u001b[0m\u001b[1;33m,\u001b[0m \u001b[1;33m**\u001b[0m\u001b[0mkwds\u001b[0m\u001b[1;33m)\u001b[0m\u001b[1;33m\u001b[0m\u001b[1;33m\u001b[0m\u001b[0m\n\u001b[0m\u001b[0;32m   2009\u001b[0m         \u001b[0mself\u001b[0m\u001b[1;33m.\u001b[0m\u001b[0munnamed_cols\u001b[0m \u001b[1;33m=\u001b[0m \u001b[0mself\u001b[0m\u001b[1;33m.\u001b[0m\u001b[0m_reader\u001b[0m\u001b[1;33m.\u001b[0m\u001b[0munnamed_cols\u001b[0m\u001b[1;33m\u001b[0m\u001b[1;33m\u001b[0m\u001b[0m\n\u001b[0;32m   2010\u001b[0m \u001b[1;33m\u001b[0m\u001b[0m\n",
      "\u001b[1;32mpandas\\_libs\\parsers.pyx\u001b[0m in \u001b[0;36mpandas._libs.parsers.TextReader.__cinit__\u001b[1;34m()\u001b[0m\n",
      "\u001b[1;32mpandas\\_libs\\parsers.pyx\u001b[0m in \u001b[0;36mpandas._libs.parsers.TextReader._setup_parser_source\u001b[1;34m()\u001b[0m\n",
      "\u001b[1;31mFileNotFoundError\u001b[0m: [Errno 2] No such file or directory: 'Resources/owid-covid-data-20210430.csv'"
     ]
    }
   ],
   "source": [
    "# Study data files\n",
    "owidCovidData = \"Resources/owid-covid-data-20210430.csv\"\n",
    "transparencyData = \"Resources/Transparency Index.csv\"\n",
    "\n",
    "CovidData = pd.read_csv(owidCovidData)\n",
    "Transparency = pd.read_csv(transparencyData)"
   ]
  },
  {
   "cell_type": "code",
   "execution_count": 4,
   "metadata": {},
   "outputs": [
    {
     "ename": "NameError",
     "evalue": "name 'CovidData' is not defined",
     "output_type": "error",
     "traceback": [
      "\u001b[1;31m---------------------------------------------------------------------------\u001b[0m",
      "\u001b[1;31mNameError\u001b[0m                                 Traceback (most recent call last)",
      "\u001b[1;32m<ipython-input-4-7a1ebba5eaa0>\u001b[0m in \u001b[0;36m<module>\u001b[1;34m\u001b[0m\n\u001b[0;32m      1\u001b[0m \u001b[1;31m# eliminate extra columns\u001b[0m\u001b[1;33m\u001b[0m\u001b[1;33m\u001b[0m\u001b[1;33m\u001b[0m\u001b[0m\n\u001b[1;32m----> 2\u001b[1;33m \u001b[0mCovidClean\u001b[0m \u001b[1;33m=\u001b[0m \u001b[0mCovidData\u001b[0m\u001b[1;33m.\u001b[0m\u001b[0mcopy\u001b[0m\u001b[1;33m(\u001b[0m\u001b[1;33m)\u001b[0m\u001b[1;33m\u001b[0m\u001b[1;33m\u001b[0m\u001b[0m\n\u001b[0m\u001b[0;32m      3\u001b[0m CovidClean.drop(['total_cases', 'new_cases', 'new_cases_smoothed', 'total_deaths', 'new_deaths', 'new_deaths_smoothed', 'new_cases_per_million', \n\u001b[0;32m      4\u001b[0m                  \u001b[1;34m'new_cases_smoothed_per_million'\u001b[0m\u001b[1;33m,\u001b[0m \u001b[1;34m'new_deaths_per_million'\u001b[0m\u001b[1;33m,\u001b[0m \u001b[1;34m'new_deaths_smoothed_per_million'\u001b[0m\u001b[1;33m,\u001b[0m \u001b[1;34m'reproduction_rate'\u001b[0m\u001b[1;33m,\u001b[0m \u001b[1;34m'icu_patients'\u001b[0m\u001b[1;33m,\u001b[0m\u001b[1;33m\u001b[0m\u001b[1;33m\u001b[0m\u001b[0m\n\u001b[0;32m      5\u001b[0m                  \u001b[1;34m'icu_patients_per_million'\u001b[0m\u001b[1;33m,\u001b[0m \u001b[1;34m'hosp_patients'\u001b[0m\u001b[1;33m,\u001b[0m \u001b[1;34m'hosp_patients_per_million'\u001b[0m\u001b[1;33m,\u001b[0m \u001b[1;34m'weekly_icu_admissions'\u001b[0m\u001b[1;33m,\u001b[0m \u001b[1;34m'weekly_icu_admissions_per_million'\u001b[0m\u001b[1;33m,\u001b[0m\u001b[1;33m\u001b[0m\u001b[1;33m\u001b[0m\u001b[0m\n",
      "\u001b[1;31mNameError\u001b[0m: name 'CovidData' is not defined"
     ]
    }
   ],
   "source": [
    "# eliminate extra columns\n",
    "CovidClean = CovidData.copy()\n",
    "CovidClean.drop(['total_cases', 'new_cases', 'new_cases_smoothed', 'total_deaths', 'new_deaths', 'new_deaths_smoothed', 'new_cases_per_million', \n",
    "                 'new_cases_smoothed_per_million', 'new_deaths_per_million', 'new_deaths_smoothed_per_million', 'reproduction_rate', 'icu_patients', \n",
    "                 'icu_patients_per_million', 'hosp_patients', 'hosp_patients_per_million', 'weekly_icu_admissions', 'weekly_icu_admissions_per_million', \n",
    "                 'weekly_hosp_admissions', 'weekly_hosp_admissions_per_million', 'new_tests', 'total_tests', 'total_tests_per_thousand', \n",
    "                 'new_tests_per_thousand', 'new_tests_smoothed', 'new_tests_smoothed_per_thousand', 'positive_rate', 'tests_per_case', 'tests_units', \n",
    "                 'total_vaccinations', 'people_vaccinated', 'people_fully_vaccinated', 'new_vaccinations', 'new_vaccinations_smoothed', \n",
    "                 'total_vaccinations_per_hundred', 'people_vaccinated_per_hundred', 'new_vaccinations_smoothed_per_million', 'stringency_index',\n",
    "                 'median_age', 'aged_65_older', 'aged_70_older', 'extreme_poverty', 'cardiovasc_death_rate',\n",
    "                 'diabetes_prevalence', 'female_smokers', 'male_smokers', 'handwashing_facilities', 'hospital_beds_per_thousand', 'life_expectancy', 'people_fully_vaccinated_per_hundred'],\n",
    "                 axis = 1, inplace = True)\n",
    "\n",
    "# limit to max date\n",
    "CovidClean = CovidClean[CovidClean['date'].isin(['2021-04-30'])]\n",
    "\n",
    "\n",
    "# rename \"Location\" to \"Country\"\n",
    "CovidClean.rename(columns={\"location\":\"Country\"}, inplace=True)\n",
    "\n",
    "# rename everything else for ease\n",
    "CovidClean.rename(columns={\"total_cases_per_million\":\"Cases\", \"total_deaths_per_million\": \"Deaths\", \"population\": \"Population\", \n",
    "                           \"population_density\": \"Density\",\"gdp_per_capita\": \"GDP\", \"human_development_index\": \"HDI\"}, inplace=True)\n",
    "\n",
    "# merge with Transparency (inner join)\n",
    "CovidAll= pd.merge(CovidClean, Transparency, on=[\"Country\"], how=\"inner\")\n",
    "CovidAll.drop(['Rank'], axis = 1, inplace = True)\n",
    "\n",
    "# drop lines with null values\n",
    "CovidAll.dropna(how = \"any\", inplace = True)\n",
    "\n",
    "\n",
    "CovidAll\n",
    "CovidAll.to_csv(\"Resources/CovidWorkingData.csv\", index = False)"
   ]
  },
  {
   "cell_type": "code",
   "execution_count": null,
   "metadata": {},
   "outputs": [],
   "source": [
    "CovidData"
   ]
  },
  {
   "cell_type": "code",
   "execution_count": null,
   "metadata": {},
   "outputs": [],
   "source": [
    "CovidContinent = CovidClean.copy()\n",
    "# CovidClean = CovidClean[CovidClean['iso_code'].isin([\"OWID_AFR\"])]\n",
    "# CovidClean = CovidClean.isna(CovidClean[\"Density\"])\n",
    "CovidContinent.isna()['continent']\n",
    "CovidContinent.drop(['Density', \"GDP\", \"HDI\"], axis = 1, inplace = True)\n",
    "\n",
    "Continent = CovidContinent.loc[CovidContinent.isna()['continent']]\n",
    "Continent"
   ]
  },
  {
   "cell_type": "code",
   "execution_count": null,
   "metadata": {},
   "outputs": [],
   "source": [
    "# See if there is substantial difference looking at only the first half of the pandemic\n",
    "\n",
    "CovidAug20 = CovidData.copy()\n",
    "CovidAug20.drop([ 'total_cases', 'new_cases', 'new_cases_smoothed', 'total_deaths', 'new_deaths', 'new_deaths_smoothed', 'new_cases_per_million', \n",
    "                 'new_cases_smoothed_per_million', 'new_deaths_per_million', 'new_deaths_smoothed_per_million', 'reproduction_rate', 'icu_patients', \n",
    "                 'icu_patients_per_million', 'hosp_patients', 'hosp_patients_per_million', 'weekly_icu_admissions', 'weekly_icu_admissions_per_million', \n",
    "                 'weekly_hosp_admissions', 'weekly_hosp_admissions_per_million', 'new_tests', 'total_tests', 'total_tests_per_thousand', \n",
    "                 'new_tests_per_thousand', 'new_tests_smoothed', 'new_tests_smoothed_per_thousand', 'positive_rate', 'tests_per_case', 'tests_units', \n",
    "                 'total_vaccinations', 'people_vaccinated', 'people_fully_vaccinated', 'new_vaccinations', 'new_vaccinations_smoothed', \n",
    "                 'total_vaccinations_per_hundred', 'people_vaccinated_per_hundred', 'new_vaccinations_smoothed_per_million', 'stringency_index',\n",
    "                 'median_age', 'aged_65_older', 'aged_70_older', 'extreme_poverty', 'cardiovasc_death_rate', 'diabetes_prevalence', 'female_smokers',\n",
    "                 'male_smokers', 'handwashing_facilities', 'hospital_beds_per_thousand', 'life_expectancy', 'people_fully_vaccinated_per_hundred'],\n",
    "                 axis = 1, inplace = True)\n",
    "\n",
    "\n",
    "# limit to max date\n",
    "CovidAug20 = CovidAug20[CovidAug20['date'].isin(['2020-08-31'])]\n",
    "\n",
    "# rename \"Location\" to \"Country\"\n",
    "CovidAug20.rename(columns={\"location\":\"Country\"}, inplace=True)\n",
    "\n",
    "# rename everything else for ease\n",
    "CovidAug20.rename(columns={\"total_cases_per_million\":\"Cases\", \"total_deaths_per_million\": \"Deaths\", \"population\": \"Population\",\n",
    "                           \"population_density\": \"Density\",\"gdp_per_capita\": \"GDP\", \"human_development_index\": \"HDI\"}, inplace=True)\n",
    "\n",
    "# merge with Transparency (inner join)\n",
    "CovidAll820 = pd.merge(CovidAug20, Transparency, on=[\"Country\"], how=\"inner\")\n",
    "CovidAll820.drop(['Rank'], axis = 1, inplace = True)\n",
    "\n",
    "# drop lines with null values\n",
    "CovidAll820.dropna(how = \"any\", inplace = True)\n",
    "\n",
    "CovidAug20\n",
    "CovidAll820\n",
    "CovidAll820.to_csv(\"Resources/CovidWorkingData820.csv\", index = False)\n"
   ]
  },
  {
   "cell_type": "code",
   "execution_count": null,
   "metadata": {},
   "outputs": [],
   "source": [
    "CovidNoAm"
   ]
  },
  {
   "cell_type": "code",
   "execution_count": null,
   "metadata": {},
   "outputs": [],
   "source": [
    "# Pair Plots as of 4/30/2021\n",
    "\n",
    "# Use Seaborn to create a PairGrid\n",
    "def corrfunc(x, y, ax=None, **kws):\n",
    "    \"\"\"Plot the correlation coefficient in the top left hand corner of a plot.\"\"\"\n",
    "    r, _ = pearsonr(x, y)\n",
    "    ax = ax or plt.gca()\n",
    "    ax.annotate(f'coor = {r:.2f}', xy=(.1, .9), xycoords=ax.transAxes)\n",
    "\n",
    "g = sns.pairplot(CovidAll, corner=True)  # Set corner=True to plot only the lower triangle:\n",
    "g.map_lower(corrfunc)\n",
    "# plt.show()"
   ]
  },
  {
   "cell_type": "code",
   "execution_count": null,
   "metadata": {},
   "outputs": [],
   "source": [
    "# Pair Plots as of 8/31/2020\n",
    "\n",
    "# Use Seaborn to create a PairGrid\n",
    "def corrfunc(x, y, ax=None, **kws):\n",
    "    \"\"\"Plot the correlation coefficient in the top left hand corner of a plot.\"\"\"\n",
    "    r, _ = pearsonr(x, y)\n",
    "    ax = ax or plt.gca()\n",
    "    ax.annotate(f'coor = {r:.2f}', xy=(.1, .9), xycoords=ax.transAxes)\n",
    "\n",
    "g = sns.pairplot(CovidAll820, corner=True)  # Set corner=True to plot only the lower triangle:\n",
    "g.map_lower(corrfunc)\n",
    "# plt.show()"
   ]
  },
  {
   "cell_type": "code",
   "execution_count": null,
   "metadata": {},
   "outputs": [],
   "source": [
    "### Playing with Maps"
   ]
  },
  {
   "cell_type": "code",
   "execution_count": null,
   "metadata": {},
   "outputs": [],
   "source": [
    "# Calculate the correlation value because why not\n",
    "correlation = st.pearsonr(CovidAll[\"GDP\"],CovidAll[\"Cases\"])\n",
    "print(f\"The correlation between GDP per capita and cases per million is {round(correlation[0],2)}\")\n",
    "\n",
    "# Plot\n",
    "x_values = CovidAll[\"GDP\"]\n",
    "y_values = CovidAll[\"Cases\"]\n",
    "(slope, intercept, rvalue, pvalue, stderr) = linregress(x_values, y_values)\n",
    "regress_values = x_values * slope + intercept\n",
    "line_eq = \"y = \" + str(round(slope,2)) + \"x + \" + str(round(intercept,2))\n",
    "plt.scatter(x_values,y_values)\n",
    "plt.plot(x_values,regress_values,\"r-\")\n",
    "\n",
    "# Label\n",
    "plt.xlabel('GDP per Capita')\n",
    "plt.ylabel(\"Cases per million\")\n",
    "plt.title (\"Impact of GDP on number of COVID-19 Cases (4/30/2021)\")\n",
    "print(f\"The r-squared is: {round(rvalue**2,2)}\")\n",
    "plt.annotate(line_eq,(0,2),fontsize=10,color=\"red\")\n",
    "\n",
    "# Print\n",
    "plt.savefig(\"Output/ScatterGDPvsCases.png\")\n",
    "\n",
    "#Display\n",
    "plt.show()"
   ]
  },
  {
   "cell_type": "code",
   "execution_count": null,
   "metadata": {},
   "outputs": [],
   "source": [
    "# Calculate the correlation value because why not\n",
    "correlation = st.pearsonr(CovidAll[\"GDP\"],CovidAll[\"Deaths\"])\n",
    "print(f\"The correlation between GDP per capita and deaths per million is {round(correlation[0],2)}\")\n",
    "\n",
    "# Plot\n",
    "x_values = CovidAll[\"GDP\"]\n",
    "y_values = CovidAll[\"Deaths\"]\n",
    "(slope, intercept, rvalue, pvalue, stderr) = linregress(x_values, y_values)\n",
    "regress_values = x_values * slope + intercept\n",
    "line_eq = \"y = \" + str(round(slope,2)) + \"x + \" + str(round(intercept,2))\n",
    "plt.scatter(x_values,y_values)\n",
    "plt.plot(x_values,regress_values,\"r-\")\n",
    "\n",
    "# Label\n",
    "plt.xlabel('GDP per Capita')\n",
    "plt.ylabel(\"Deaths per million\")\n",
    "plt.title (\"Impact of GDP on number of COVID-19 Deaths (4/30/2021)\")\n",
    "print(f\"The r-squared is: {round(rvalue**2,2)}\")\n",
    "plt.annotate(line_eq,(0,2),fontsize=10,color=\"red\")\n",
    "\n",
    "# Print\n",
    "plt.savefig(\"Output/ScatterGDPvsDeaths.png\")\n",
    "\n",
    "#Display\n",
    "plt.show()"
   ]
  },
  {
   "cell_type": "code",
   "execution_count": null,
   "metadata": {},
   "outputs": [],
   "source": [
    "# Calculate the correlation value because why not\n",
    "correlation = st.pearsonr(CovidAll[\"HDI\"],CovidAll[\"Cases\"])\n",
    "print(f\"The correlation between HDI and cases per million is {round(correlation[0],2)}\")\n",
    "\n",
    "# Plot\n",
    "x_values = CovidAll[\"HDI\"]\n",
    "y_values = CovidAll[\"Cases\"]\n",
    "(slope, intercept, rvalue, pvalue, stderr) = linregress(x_values, y_values)\n",
    "regress_values = x_values * slope + intercept\n",
    "line_eq = \"y = \" + str(round(slope,2)) + \"x + \" + str(round(intercept,2))\n",
    "plt.scatter(x_values,y_values)\n",
    "plt.plot(x_values,regress_values,\"r-\")\n",
    "\n",
    "# Label\n",
    "plt.xlabel('HDI')\n",
    "plt.ylabel(\"Cases per million\")\n",
    "plt.title (\"Impact of HDI on number of COVID-19 Cases (4/30/2021)\")\n",
    "print(f\"The r-squared is: {round(rvalue**2,2)}\")\n",
    "plt.annotate(line_eq,(0,2),fontsize=10,color=\"red\")\n",
    "\n",
    "# Print\n",
    "plt.savefig(\"Output/ScatterHDIvsCases.png\")\n",
    "\n",
    "#Display\n",
    "plt.show()"
   ]
  },
  {
   "cell_type": "code",
   "execution_count": null,
   "metadata": {},
   "outputs": [],
   "source": [
    "# Calculate the correlation value because why not\n",
    "correlation = st.pearsonr(CovidAll[\"HDI\"],CovidAll[\"Deaths\"])\n",
    "print(f\"The correlation between HDI and deaths per million is {round(correlation[0],2)}\")\n",
    "\n",
    "# Plot\n",
    "x_values = CovidAll[\"HDI\"]\n",
    "y_values = CovidAll[\"Deaths\"]\n",
    "(slope, intercept, rvalue, pvalue, stderr) = linregress(x_values, y_values)\n",
    "regress_values = x_values * slope + intercept\n",
    "line_eq = \"y = \" + str(round(slope,2)) + \"x + \" + str(round(intercept,2))\n",
    "plt.scatter(x_values,y_values)\n",
    "plt.plot(x_values,regress_values,\"r-\")\n",
    "\n",
    "# Label\n",
    "plt.xlabel('HDI')\n",
    "plt.ylabel(\"Deaths per million\")\n",
    "plt.title (\"Impact of HDI on number of COVID-19 Deaths (4/30/2021)\")\n",
    "print(f\"The r-squared is: {round(rvalue**2,2)}\")\n",
    "plt.annotate(line_eq,(0,2),fontsize=10,color=\"red\")\n",
    "\n",
    "# Print\n",
    "plt.savefig(\"Output/ScatterHDIvsDeaths.png\")\n",
    "\n",
    "#Display\n",
    "plt.show()"
   ]
  },
  {
   "cell_type": "code",
   "execution_count": null,
   "metadata": {},
   "outputs": [],
   "source": [
    "# Calculate the correlation value because why not\n",
    "correlation = st.pearsonr(CovidAll[\"Population\"],CovidAll[\"Cases\"])\n",
    "print(f\"The correlation between population and cases per million is {round(correlation[0],2)}\")\n",
    "\n",
    "# Plot\n",
    "x_values = CovidAll[\"Population\"]\n",
    "y_values = CovidAll[\"Cases\"]\n",
    "(slope, intercept, rvalue, pvalue, stderr) = linregress(x_values, y_values)\n",
    "regress_values = x_values * slope + intercept\n",
    "line_eq = \"y = \" + str(round(slope,2)) + \"x + \" + str(round(intercept,2))\n",
    "plt.scatter(x_values,y_values)\n",
    "plt.plot(x_values,regress_values,\"r-\")\n",
    "\n",
    "# Label\n",
    "plt.xlabel('Population')\n",
    "plt.ylabel(\"Cases per million\")\n",
    "plt.title (\"Impact of Population on number of COVID-19 Cases (4/30/2021)\")\n",
    "print(f\"The r-squared is: {round(rvalue**2,2)}\")\n",
    "plt.annotate(line_eq,(0,2),fontsize=10,color=\"red\")\n",
    "\n",
    "# Print\n",
    "plt.savefig(\"Output/ScatterPopVsCases.png\")\n",
    "\n",
    "#Display\n",
    "plt.show()"
   ]
  },
  {
   "cell_type": "code",
   "execution_count": null,
   "metadata": {},
   "outputs": [],
   "source": [
    "# Calculate the correlation value because why not\n",
    "correlation = st.pearsonr(CovidAll[\"Population\"],CovidAll[\"Deaths\"])\n",
    "print(f\"The correlation between Population and deaths per million is {round(correlation[0],2)}\")\n",
    "\n",
    "# Plot\n",
    "x_values = CovidAll[\"Population\"]\n",
    "y_values = CovidAll[\"Deaths\"]\n",
    "(slope, intercept, rvalue, pvalue, stderr) = linregress(x_values, y_values)\n",
    "regress_values = x_values * slope + intercept\n",
    "line_eq = \"y = \" + str(round(slope,2)) + \"x + \" + str(round(intercept,2))\n",
    "plt.scatter(x_values,y_values)\n",
    "plt.plot(x_values,regress_values,\"r-\")\n",
    "\n",
    "# Label\n",
    "plt.xlabel('Population')\n",
    "plt.ylabel(\"Deaths per Million\")\n",
    "plt.title (\"Impact of Population on number of COVID-19 Deaths (4/30/2021)\")\n",
    "print(f\"The r-squared is: {round(rvalue**2,2)}\")\n",
    "plt.annotate(line_eq,(0,2),fontsize=10,color=\"red\")\n",
    "\n",
    "# Print\n",
    "plt.savefig(\"Output/ScatterPopVsDeaths.png\")\n",
    "\n",
    "#Display\n",
    "plt.show()"
   ]
  },
  {
   "cell_type": "code",
   "execution_count": null,
   "metadata": {},
   "outputs": [],
   "source": [
    "# Calculate the correlation value because why not\n",
    "correlation = st.pearsonr(CovidAll[\"Score\"],CovidAll[\"Cases\"])\n",
    "print(f\"The correlation between corruption perception and cases per million is {round(correlation[0],2)}\")\n",
    "\n",
    "# Plot\n",
    "x_values = CovidAll[\"Score\"]\n",
    "y_values = CovidAll[\"Cases\"]\n",
    "(slope, intercept, rvalue, pvalue, stderr) = linregress(x_values, y_values)\n",
    "regress_values = x_values * slope + intercept\n",
    "line_eq = \"y = \" + str(round(slope,2)) + \"x + \" + str(round(intercept,2))\n",
    "plt.scatter(x_values,y_values)\n",
    "plt.plot(x_values,regress_values,\"r-\")\n",
    "\n",
    "# Label\n",
    "plt.xlabel('Corruption Pereception Index')\n",
    "plt.ylabel(\"Cases per million\")\n",
    "plt.title (\"Impact of corruption perception on number of COVID-19 Cases (4/30/2021)\")\n",
    "print(f\"The r-squared is: {round(rvalue**2,2)}\")\n",
    "plt.annotate(line_eq,(0,2),fontsize=10,color=\"red\")\n",
    "\n",
    "# Print\n",
    "plt.savefig(\"Output/ScatterTranspVsCases.png\")\n",
    "\n",
    "#Display\n",
    "plt.show()"
   ]
  },
  {
   "cell_type": "code",
   "execution_count": null,
   "metadata": {},
   "outputs": [],
   "source": [
    "# Calculate the correlation value because why not\n",
    "correlation = st.pearsonr(CovidAll[\"Score\"],CovidAll[\"Deaths\"])\n",
    "print(f\"The correlation between corruption perception and deaths per million is {round(correlation[0],2)}\")\n",
    "\n",
    "# Plot\n",
    "x_values = CovidAll[\"Score\"]\n",
    "y_values = CovidAll[\"Deaths\"]\n",
    "(slope, intercept, rvalue, pvalue, stderr) = linregress(x_values, y_values)\n",
    "regress_values = x_values * slope + intercept\n",
    "line_eq = \"y = \" + str(round(slope,2)) + \"x + \" + str(round(intercept,2))\n",
    "plt.scatter(x_values,y_values)\n",
    "plt.plot(x_values,regress_values,\"r-\")\n",
    "\n",
    "# Label\n",
    "plt.xlabel('Corruption Pereception Index')\n",
    "plt.ylabel(\"Deaths per million\")\n",
    "plt.title (\"Impact of corruption perception on number of COVID-19 Deaths (4/30/2021)\")\n",
    "print(f\"The r-squared is: {round(rvalue**2,2)}\")\n",
    "plt.annotate(line_eq,(0,2),fontsize=10,color=\"red\")\n",
    "\n",
    "# Print\n",
    "plt.savefig(\"Output/ScatterTranspVsDeaths.png\")\n",
    "\n",
    "#Display\n",
    "plt.show()"
   ]
  },
  {
   "cell_type": "markdown",
   "metadata": {},
   "source": [
    "# T-TEST TIME"
   ]
  },
  {
   "cell_type": "code",
   "execution_count": null,
   "metadata": {},
   "outputs": [],
   "source": [
    "CovidAllTT = CovidAll[CovidAll[\"Cases\"].notna()]\n",
    "CovidAllTT = CovidAll[CovidAll[\"Deaths\"].notna()]\n",
    "CovidAllTT.head()\n",
    "#LOST 4 COUNTRIES WITH NAN FOR DEATHS OR CASES"
   ]
  },
  {
   "cell_type": "markdown",
   "metadata": {},
   "source": [
    "### North America vs South America: Cases"
   ]
  },
  {
   "cell_type": "code",
   "execution_count": null,
   "metadata": {},
   "outputs": [],
   "source": [
    "populationNAc = CovidAllTT[CovidAllTT[\"continent\"] == \"North America\"]\n",
    "#populationNAc.Cases.mean()\n",
    "populationSAc = CovidAllTT[CovidAllTT[\"continent\"] == \"South America\"]\n",
    "#populationSAc.Cases.mean()\n",
    "stats.ttest_ind(populationNAc.Cases, populationSAc.Cases, equal_var=False)"
   ]
  },
  {
   "cell_type": "markdown",
   "metadata": {},
   "source": [
    "### North America vs South America: Deaths"
   ]
  },
  {
   "cell_type": "code",
   "execution_count": null,
   "metadata": {},
   "outputs": [],
   "source": [
    "populationNAd = CovidAllTT[CovidAllTT[\"continent\"] == \"North America\"]\n",
    "#populationNAd.Deaths.mean()\n",
    "populationSAd = CovidAllTT[CovidAllTT[\"continent\"] == \"South America\"]\n",
    "#populationSAd.Deaths.mean()\n",
    "stats.ttest_ind(populationNAd.Deaths, populationSAd.Deaths, equal_var=False)"
   ]
  },
  {
   "cell_type": "markdown",
   "metadata": {},
   "source": [
    "### Asia vs rest of world: Cases"
   ]
  },
  {
   "cell_type": "code",
   "execution_count": null,
   "metadata": {},
   "outputs": [],
   "source": [
    "populationAsiac = CovidAllTT[CovidAllTT[\"continent\"] == \"Asia\"]\n",
    "#populationAsiac.Cases.mean()\n",
    "populationNotAsiac = CovidAllTT[CovidAllTT[\"continent\"] != \"Asia\"]\n",
    "#populationNotAsiac.Cases.mean()\n",
    "stats.ttest_ind(populationAsiac.Cases, populationNotAsiac.Cases, equal_var=False)"
   ]
  },
  {
   "cell_type": "markdown",
   "metadata": {},
   "source": [
    "### Asia vs rest of world: Deaths"
   ]
  },
  {
   "cell_type": "code",
   "execution_count": null,
   "metadata": {},
   "outputs": [],
   "source": [
    "populationAsiad = CovidAllTT[CovidAllTT[\"continent\"] == \"Asia\"]\n",
    "#populationAsiad.Deaths.mean()\n",
    "populationNotAsiad = CovidAllTT[CovidAllTT[\"continent\"] != \"Asia\"]\n",
    "#populationNotAsiad.Deaths.mean()\n",
    "stats.ttest_ind(populationAsiad.Deaths, populationNotAsiad.Deaths, equal_var=False)"
   ]
  },
  {
   "cell_type": "markdown",
   "metadata": {},
   "source": [
    "### North America vs Rest of World: Cases"
   ]
  },
  {
   "cell_type": "code",
   "execution_count": null,
   "metadata": {},
   "outputs": [],
   "source": [
    "populationNAc = CovidAllTT[CovidAllTT[\"continent\"] == \"North America\"]\n",
    "#populationNAc.Cases.mean()\n",
    "populationNotNAc = CovidAllTT[CovidAllTT[\"continent\"] != \"North America\"]\n",
    "#populationNotNAc.Cases.mean()\n",
    "stats.ttest_ind(populationNAc.Cases, populationNotNAc.Cases, equal_var=False)"
   ]
  },
  {
   "cell_type": "markdown",
   "metadata": {},
   "source": [
    "### North America vs Rest of World: Deaths"
   ]
  },
  {
   "cell_type": "code",
   "execution_count": null,
   "metadata": {},
   "outputs": [],
   "source": [
    "populationNAd = CovidAllTT[CovidAllTT[\"continent\"] == \"North America\"]\n",
    "#populationNAd.Deaths.mean()\n",
    "populationNotNAd = CovidAllTT[CovidAllTT[\"continent\"] != \"North America\"]\n",
    "#populationNotNAd.Deaths.mean()\n",
    "stats.ttest_ind(populationNAd.Deaths, populationNotNAd.Deaths, equal_var=False)"
   ]
  },
  {
   "cell_type": "markdown",
   "metadata": {},
   "source": [
    "### Europe vs Rest of World: Cases"
   ]
  },
  {
   "cell_type": "code",
   "execution_count": null,
   "metadata": {},
   "outputs": [],
   "source": [
    "populationEuroc = CovidAllTT[CovidAllTT[\"continent\"] == \"Europe\"]\n",
    "#populationEuroc.Cases.mean()\n",
    "populationNotEuroc = CovidAllTT[CovidAllTT[\"continent\"] != \"Europe\"]\n",
    "#populationNotEuroc.Cases.mean()\n",
    "stats.ttest_ind(populationEuroc.Cases, populationNotEuroc.Cases, equal_var=False)"
   ]
  },
  {
   "cell_type": "markdown",
   "metadata": {},
   "source": [
    "### Europe vs Rest of World: Deaths"
   ]
  },
  {
   "cell_type": "code",
   "execution_count": null,
   "metadata": {},
   "outputs": [],
   "source": [
    "populationEurod = CovidAllTT[CovidAllTT[\"continent\"] == \"Europe\"]\n",
    "#populationEurod.Deaths.mean()\n",
    "populationNotEurod = CovidAllTT[CovidAllTT[\"continent\"] != \"Europe\"]\n",
    "#populationNotEurod.Deaths.mean()\n",
    "stats.ttest_ind(populationEurod.Deaths, populationNotEurod.Deaths, equal_var=False)"
   ]
  },
  {
   "cell_type": "markdown",
   "metadata": {},
   "source": [
    "### Asia vs North America: Cases"
   ]
  },
  {
   "cell_type": "code",
   "execution_count": null,
   "metadata": {},
   "outputs": [],
   "source": [
    "stats.ttest_ind(populationNAc.Cases, populationAsiac.Cases, equal_var=False)"
   ]
  },
  {
   "cell_type": "markdown",
   "metadata": {},
   "source": [
    "### Asia vs North America: Deaths"
   ]
  },
  {
   "cell_type": "code",
   "execution_count": null,
   "metadata": {},
   "outputs": [],
   "source": [
    "stats.ttest_ind(populationNAd.Deaths, populationAsiad.Deaths, equal_var=False)"
   ]
  },
  {
   "cell_type": "markdown",
   "metadata": {},
   "source": [
    "### Asia vs Europe: Cases"
   ]
  },
  {
   "cell_type": "code",
   "execution_count": null,
   "metadata": {},
   "outputs": [],
   "source": [
    "stats.ttest_ind(populationAsiac.Cases, populationEuroc.Cases, equal_var=False)"
   ]
  },
  {
   "cell_type": "markdown",
   "metadata": {},
   "source": [
    "### Asia vs Europe: Deaths"
   ]
  },
  {
   "cell_type": "code",
   "execution_count": null,
   "metadata": {},
   "outputs": [],
   "source": [
    "stats.ttest_ind(populationAsiad.Deaths, populationEurod.Deaths, equal_var=False)"
   ]
  },
  {
   "cell_type": "markdown",
   "metadata": {},
   "source": [
    "### North American vs Europe: Cases"
   ]
  },
  {
   "cell_type": "code",
   "execution_count": null,
   "metadata": {},
   "outputs": [],
   "source": [
    "stats.ttest_ind(populationNAc.Cases, populationEuroc.Cases, equal_var=False)"
   ]
  },
  {
   "cell_type": "markdown",
   "metadata": {},
   "source": [
    "### North American vs Europe: Deaths"
   ]
  },
  {
   "cell_type": "code",
   "execution_count": null,
   "metadata": {},
   "outputs": [],
   "source": [
    "stats.ttest_ind(populationNAd.Deaths, populationEurod.Deaths, equal_var=False)"
   ]
  },
  {
   "cell_type": "markdown",
   "metadata": {},
   "source": [
    "# MAPS, MAPS, MAPS!"
   ]
  },
  {
   "cell_type": "code",
   "execution_count": null,
   "metadata": {},
   "outputs": [],
   "source": [
    "MapsFrame = CovidAll.copy()\n",
    "#MapsFrame.dtypes\n",
    "#MapsFrame[\"country\"].unique()\n",
    "#MapsFrame.head()"
   ]
  },
  {
   "cell_type": "code",
   "execution_count": null,
   "metadata": {},
   "outputs": [],
   "source": [
    "latlong_df = pd.read_csv(\"Resources/Country Coordinates.csv\")\n",
    "latlong_df.head()"
   ]
  },
  {
   "cell_type": "code",
   "execution_count": null,
   "metadata": {},
   "outputs": [],
   "source": [
    "#TRY TO NOT RERUN THIS AFTER THE FIRST KERNAL RE-START BECAUSE IT MAKES YOU RESTART THE KERNAL EVERY TIME!\n",
    "del latlong_df[\"Unnamed: 3\"]\n",
    "del latlong_df[\"Unnamed: 4\"]\n",
    "del latlong_df[\"Unnamed: 5\"]\n",
    "del latlong_df[\"Unnamed: 6\"]\n",
    "latlong_df.head()"
   ]
  },
  {
   "cell_type": "code",
   "execution_count": null,
   "metadata": {},
   "outputs": [],
   "source": [
    "#In MapsFrame it is \"Country\" and in latlong_df it is \"country\"\n",
    "latlong_df=latlong_df.rename(columns = {\"country\" : \"Country\"})\n",
    "latlong_df.head()"
   ]
  },
  {
   "cell_type": "code",
   "execution_count": null,
   "metadata": {},
   "outputs": [],
   "source": [
    "map_df=pd.merge(MapsFrame, latlong_df, on=\"Country\", how = \"inner\")\n",
    "map_df.tail()\n",
    "#197 rows, 196 countries,  13 columns"
   ]
  },
  {
   "cell_type": "markdown",
   "metadata": {},
   "source": [
    "## INDIE VARIABLES"
   ]
  },
  {
   "cell_type": "code",
   "execution_count": null,
   "metadata": {},
   "outputs": [],
   "source": []
  },
  {
   "cell_type": "code",
   "execution_count": null,
   "metadata": {},
   "outputs": [],
   "source": [
    "fig_GDP = px.choropleth(map_df,  # Input Pandas DataFrame\n",
    "                    locations=\"Country\",  # DataFrame column with locations\n",
    "                    color=\"GDP\",  # DataFrame column with color values\n",
    "                    locationmode = 'country names', \n",
    "                    scope = 'world',\n",
    "                    color_continuous_scale= \"blues\",\n",
    "                    labels = {\"GDP\" : \"GDP\"},\n",
    "                    range_color=(map_df[\"GDP\"].min(), map_df[\"GDP\"].max()),\n",
    "                    color_continuous_midpoint=(map_df[\"GDP\"].median())\n",
    "                   )\n",
    "fig_GDP.update_layout(title_text = \"GDP Per Country\")\n",
    "fig_GDP.update_geos(projection_type=\"equirectangular\")\n",
    "fig_GDP.show()"
   ]
  },
  {
   "cell_type": "code",
   "execution_count": null,
   "metadata": {},
   "outputs": [],
   "source": [
    "fig_HDI = px.choropleth(map_df,  # Input Pandas DataFrame\n",
    "                    locations=\"Country\",  # DataFrame column with locations\n",
    "                    color=\"HDI\",  # DataFrame column with color values\n",
    "                    locationmode = 'country names', \n",
    "                    scope = 'world',\n",
    "                    color_continuous_scale= \"blues\",\n",
    "                    labels = {\"HDI\" : \"HDI\"},\n",
    "                    range_color=(map_df[\"HDI\"].min(), map_df[\"HDI\"].max()),\n",
    "                    color_continuous_midpoint=(map_df[\"HDI\"].median())\n",
    "                   )\n",
    "fig_HDI.update_layout(title_text = \"Human Development Index(HDI)\")\n",
    "fig_HDI.update_geos(projection_type=\"equirectangular\")\n",
    "fig_HDI.show()"
   ]
  },
  {
   "cell_type": "code",
   "execution_count": null,
   "metadata": {},
   "outputs": [],
   "source": [
    "fig_CPI = px.choropleth(map_df,  # Input Pandas DataFrame\n",
    "                    locations=\"Country\",  # DataFrame column with locations\n",
    "                    color=\"Score\",  # DataFrame column with color values\n",
    "                    locationmode = 'country names', \n",
    "                    scope = 'world',\n",
    "                    color_continuous_scale= \"blues\",\n",
    "                    labels = {\"Score\" : \"Score\"},\n",
    "                    range_color=(map_df[\"Score\"].min(), map_df[\"Score\"].max()),\n",
    "                    color_continuous_midpoint=(map_df[\"Score\"].median())\n",
    "                   )\n",
    "fig_CPI.update_layout(title_text = \"Corruptions Perception Index\")\n",
    "fig_CPI.update_geos(projection_type=\"equirectangular\")\n",
    "fig_CPI.show()"
   ]
  },
  {
   "cell_type": "code",
   "execution_count": null,
   "metadata": {},
   "outputs": [],
   "source": [
    "fig_pop = px.choropleth(map_df,  # Input Pandas DataFrame\n",
    "                    locations=\"Country\",  # DataFrame column with locations\n",
    "                    color=\"Population\",  # DataFrame column with color values\n",
    "                    locationmode = 'country names', \n",
    "                    scope = 'world',\n",
    "                    color_continuous_scale= \"blues\",\n",
    "                    labels = {\"Population\" : \"Total Population\"},\n",
    "                    range_color=(map_df[\"Population\"].min(), map_df[\"Population\"].max()),\n",
    "                    color_continuous_midpoint=(map_df[\"Population\"].median())\n",
    "                   )\n",
    "fig_pop.update_layout(title_text = \"Total Population\")\n",
    "fig_pop.update_geos(projection_type=\"equirectangular\")\n",
    "fig_pop.show()"
   ]
  },
  {
   "cell_type": "markdown",
   "metadata": {},
   "source": [
    "## Dependent Variables"
   ]
  },
  {
   "cell_type": "code",
   "execution_count": null,
   "metadata": {},
   "outputs": [],
   "source": [
    "fig_cases = px.choropleth(map_df,  # Input Pandas DataFrame\n",
    "                    locations=\"Country\",  # DataFrame column with locations\n",
    "                    color=\"Cases\",  # DataFrame column with color values\n",
    "                    locationmode = 'country names', \n",
    "                    scope = 'world',\n",
    "                    color_continuous_scale= \"blues\",\n",
    "                    labels = {\"Cases\" : \"Cases Per Million\"},\n",
    "                    range_color=(map_df[\"Cases\"].min(), map_df[\"Cases\"].max()),\n",
    "                    color_continuous_midpoint=(map_df[\"Cases\"].median())\n",
    "                   )\n",
    "fig_cases.update_layout(title_text = \"COVID Cases Per Million\")\n",
    "fig_cases.update_geos(projection_type=\"equirectangular\")\n",
    "fig_cases.show()"
   ]
  },
  {
   "cell_type": "code",
   "execution_count": null,
   "metadata": {},
   "outputs": [],
   "source": [
    "fig_deaths = px.choropleth(map_df,  # Input Pandas DataFrame\n",
    "                    locations=\"Country\",  # DataFrame column with locations\n",
    "                    color=\"Deaths\",  # DataFrame column with color values\n",
    "                    locationmode = 'country names', \n",
    "                    scope = 'world',\n",
    "                    color_continuous_scale= \"blues\",\n",
    "                    labels = {\"Deaths\" : \"Deaths Per Million\"},\n",
    "                    range_color=(map_df[\"Deaths\"].min(), map_df[\"Deaths\"].max()),\n",
    "                    color_continuous_midpoint=(map_df[\"Deaths\"].median())\n",
    "                   )\n",
    "fig_deaths.update_layout(title_text = \"COVID Deaths Per Million\")\n",
    "fig_deaths.update_geos(projection_type=\"equirectangular\")\n",
    "fig_deaths.show()"
   ]
  },
  {
   "cell_type": "code",
   "execution_count": null,
   "metadata": {},
   "outputs": [],
   "source": [
    "fig_vax = px.choropleth(map_df,  # Input Pandas DataFrame\n",
    "                    locations=\"Country\",  # DataFrame column with locations\n",
    "                    color=\"Vaxxed\",  # DataFrame column with color values\n",
    "                    locationmode = 'country names', \n",
    "                    scope = 'world',\n",
    "                    color_continuous_scale= \"blues\",\n",
    "                    labels = {\"Vaxxed\" : \"Vaccinations Per Million\"},\n",
    "                    range_color=(map_df[\"Vaxxed\"].min(), map_df[\"Vaxxed\"].max()),\n",
    "                    color_continuous_midpoint=(map_df[\"Vaxxed\"].median())\n",
    "                   )\n",
    "fig_vax.update_layout(title_text = \"COVID Vaccinations Per Million\")\n",
    "fig_vax.update_geos(projection_type=\"equirectangular\")\n",
    "fig_vax.show()"
   ]
  },
  {
   "cell_type": "markdown",
   "metadata": {},
   "source": [
    "# ARE THESE THE SAME AS ABOVE????"
   ]
  },
  {
   "cell_type": "code",
   "execution_count": null,
   "metadata": {},
   "outputs": [],
   "source": [
    "# Calculate the correlation value because why not\n",
    "correlation = st.pearsonr(CovidAll[\"HDI\"],CovidAll[\"Cases\"])\n",
    "print(f\"The correlation between GDP per capita and cases per million is {round(correlation[0],2)}\")\n",
    "\n",
    "# Plot\n",
    "x_values = CovidAll[\"HDI\"]\n",
    "y_values = CovidAll[\"Cases\"]\n",
    "(slope, intercept, rvalue, pvalue, stderr) = linregress(x_values, y_values)\n",
    "regress_values = x_values * slope + intercept\n",
    "line_eq = \"y = \" + str(round(slope,2)) + \"x + \" + str(round(intercept,2))\n",
    "plt.scatter(x_values,y_values)\n",
    "plt.plot(x_values,regress_values,\"r-\")\n",
    "\n",
    "# Label\n",
    "plt.xlabel('GDP per Capita')\n",
    "plt.ylabel(\"Cases per million\")\n",
    "plt.title (\"Impact of GDP on number of COVID-19 Cases (4/30/2021)\")\n",
    "print(f\"The r-squared is: {round(rvalue**2,2)}\")\n",
    "plt.annotate(line_eq,(0,2),fontsize=10,color=\"red\")\n",
    "\n",
    "# Print\n",
    "plt.savefig(\"Output/ScatterGDPvsCases.png\")\n",
    "\n",
    "#Display\n",
    "plt.show()"
   ]
  },
  {
   "cell_type": "code",
   "execution_count": null,
   "metadata": {},
   "outputs": [],
   "source": []
  },
  {
   "cell_type": "code",
   "execution_count": null,
   "metadata": {},
   "outputs": [],
   "source": []
  },
  {
   "cell_type": "code",
   "execution_count": null,
   "metadata": {},
   "outputs": [],
   "source": []
  },
  {
   "cell_type": "code",
   "execution_count": null,
   "metadata": {},
   "outputs": [],
   "source": []
  },
  {
   "cell_type": "code",
   "execution_count": null,
   "metadata": {},
   "outputs": [],
   "source": []
  },
  {
   "cell_type": "code",
   "execution_count": null,
   "metadata": {},
   "outputs": [],
   "source": []
  },
  {
   "cell_type": "code",
   "execution_count": null,
   "metadata": {},
   "outputs": [],
   "source": []
  },
  {
   "cell_type": "code",
   "execution_count": null,
   "metadata": {},
   "outputs": [],
   "source": []
  }
 ],
 "metadata": {
  "kernelspec": {
   "display_name": "Python 3",
   "language": "python",
   "name": "python3"
  },
  "language_info": {
   "codemirror_mode": {
    "name": "ipython",
    "version": 3
   },
   "file_extension": ".py",
   "mimetype": "text/x-python",
   "name": "python",
   "nbconvert_exporter": "python",
   "pygments_lexer": "ipython3",
   "version": "3.8.5"
  }
 },
 "nbformat": 4,
 "nbformat_minor": 4
}
